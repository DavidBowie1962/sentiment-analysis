{
 "cells": [
  {
   "cell_type": "markdown",
   "metadata": {},
   "source": [
    "# Обучение моделей анализа сентимента"
   ]
  },
  {
   "cell_type": "code",
   "execution_count": null,
   "metadata": {
    "colab": {
     "base_uri": "https://localhost:8080/"
    },
    "id": "cb6ceWeofdpD",
    "outputId": "2cf60350-0597-4edb-b36b-e2926c525bc1",
    "scrolled": true
   },
   "outputs": [
    {
     "name": "stderr",
     "output_type": "stream",
     "text": [
      "[nltk_data] Downloading package stopwords to /root/nltk_data...\n",
      "[nltk_data]   Unzipping corpora/stopwords.zip.\n",
      "[nltk_data] Downloading package punkt to /root/nltk_data...\n",
      "[nltk_data]   Unzipping tokenizers/punkt.zip.\n"
     ]
    },
    {
     "name": "stdout",
     "output_type": "stream",
     "text": [
      "Looking in indexes: https://pypi.org/simple, https://us-python.pkg.dev/colab-wheels/public/simple/\n",
      "Collecting transformers\n",
      "  Downloading transformers-4.27.4-py3-none-any.whl (6.8 MB)\n",
      "\u001b[2K     \u001b[90m━━━━━━━━━━━━━━━━━━━━━━━━━━━━━━━━━━━━━━━━\u001b[0m \u001b[32m6.8/6.8 MB\u001b[0m \u001b[31m60.5 MB/s\u001b[0m eta \u001b[36m0:00:00\u001b[0m\n",
      "\u001b[?25hCollecting tokenizers!=0.11.3,<0.14,>=0.11.1\n",
      "  Downloading tokenizers-0.13.2-cp39-cp39-manylinux_2_17_x86_64.manylinux2014_x86_64.whl (7.6 MB)\n",
      "\u001b[2K     \u001b[90m━━━━━━━━━━━━━━━━━━━━━━━━━━━━━━━━━━━━━━━━\u001b[0m \u001b[32m7.6/7.6 MB\u001b[0m \u001b[31m26.5 MB/s\u001b[0m eta \u001b[36m0:00:00\u001b[0m\n",
      "\u001b[?25hCollecting huggingface-hub<1.0,>=0.11.0\n",
      "  Downloading huggingface_hub-0.13.3-py3-none-any.whl (199 kB)\n",
      "\u001b[2K     \u001b[90m━━━━━━━━━━━━━━━━━━━━━━━━━━━━━━━━━━━━━━\u001b[0m \u001b[32m199.8/199.8 KB\u001b[0m \u001b[31m14.2 MB/s\u001b[0m eta \u001b[36m0:00:00\u001b[0m\n",
      "\u001b[?25hRequirement already satisfied: numpy>=1.17 in /usr/local/lib/python3.9/dist-packages (from transformers) (1.22.4)\n",
      "Requirement already satisfied: filelock in /usr/local/lib/python3.9/dist-packages (from transformers) (3.10.7)\n",
      "Requirement already satisfied: tqdm>=4.27 in /usr/local/lib/python3.9/dist-packages (from transformers) (4.65.0)\n",
      "Requirement already satisfied: packaging>=20.0 in /usr/local/lib/python3.9/dist-packages (from transformers) (23.0)\n",
      "Requirement already satisfied: pyyaml>=5.1 in /usr/local/lib/python3.9/dist-packages (from transformers) (6.0)\n",
      "Requirement already satisfied: requests in /usr/local/lib/python3.9/dist-packages (from transformers) (2.27.1)\n",
      "Requirement already satisfied: regex!=2019.12.17 in /usr/local/lib/python3.9/dist-packages (from transformers) (2022.10.31)\n",
      "Requirement already satisfied: typing-extensions>=3.7.4.3 in /usr/local/lib/python3.9/dist-packages (from huggingface-hub<1.0,>=0.11.0->transformers) (4.5.0)\n",
      "Requirement already satisfied: certifi>=2017.4.17 in /usr/local/lib/python3.9/dist-packages (from requests->transformers) (2022.12.7)\n",
      "Requirement already satisfied: charset-normalizer~=2.0.0 in /usr/local/lib/python3.9/dist-packages (from requests->transformers) (2.0.12)\n",
      "Requirement already satisfied: idna<4,>=2.5 in /usr/local/lib/python3.9/dist-packages (from requests->transformers) (3.4)\n",
      "Requirement already satisfied: urllib3<1.27,>=1.21.1 in /usr/local/lib/python3.9/dist-packages (from requests->transformers) (1.26.15)\n",
      "Installing collected packages: tokenizers, huggingface-hub, transformers\n",
      "Successfully installed huggingface-hub-0.13.3 tokenizers-0.13.2 transformers-4.27.4\n",
      "Looking in indexes: https://pypi.org/simple, https://us-python.pkg.dev/colab-wheels/public/simple/\n",
      "Requirement already satisfied: nltk in /usr/local/lib/python3.9/dist-packages (3.8.1)\n",
      "Requirement already satisfied: click in /usr/local/lib/python3.9/dist-packages (from nltk) (8.1.3)\n",
      "Requirement already satisfied: tqdm in /usr/local/lib/python3.9/dist-packages (from nltk) (4.65.0)\n",
      "Requirement already satisfied: joblib in /usr/local/lib/python3.9/dist-packages (from nltk) (1.1.1)\n",
      "Requirement already satisfied: regex>=2021.8.3 in /usr/local/lib/python3.9/dist-packages (from nltk) (2022.10.31)\n",
      "Looking in indexes: https://pypi.org/simple, https://us-python.pkg.dev/colab-wheels/public/simple/\n",
      "Collecting pymorphy2\n",
      "  Downloading pymorphy2-0.9.1-py3-none-any.whl (55 kB)\n",
      "\u001b[2K     \u001b[90m━━━━━━━━━━━━━━━━━━━━━━━━━━━━━━━━━━━━━━━━\u001b[0m \u001b[32m55.5/55.5 KB\u001b[0m \u001b[31m6.2 MB/s\u001b[0m eta \u001b[36m0:00:00\u001b[0m\n",
      "\u001b[?25hCollecting docopt>=0.6\n",
      "  Downloading docopt-0.6.2.tar.gz (25 kB)\n",
      "  Preparing metadata (setup.py) ... \u001b[?25l\u001b[?25hdone\n",
      "Collecting dawg-python>=0.7.1\n",
      "  Downloading DAWG_Python-0.7.2-py2.py3-none-any.whl (11 kB)\n",
      "Collecting pymorphy2-dicts-ru<3.0,>=2.4\n",
      "  Downloading pymorphy2_dicts_ru-2.4.417127.4579844-py2.py3-none-any.whl (8.2 MB)\n",
      "\u001b[2K     \u001b[90m━━━━━━━━━━━━━━━━━━━━━━━━━━━━━━━━━━━━━━━━\u001b[0m \u001b[32m8.2/8.2 MB\u001b[0m \u001b[31m106.8 MB/s\u001b[0m eta \u001b[36m0:00:00\u001b[0m\n",
      "\u001b[?25hBuilding wheels for collected packages: docopt\n",
      "  Building wheel for docopt (setup.py) ... \u001b[?25l\u001b[?25hdone\n",
      "  Created wheel for docopt: filename=docopt-0.6.2-py2.py3-none-any.whl size=13721 sha256=4d83994a4ddb2966df01a5016498b57297ab402519d912395eb479f3217caa4a\n",
      "  Stored in directory: /root/.cache/pip/wheels/70/4a/46/1309fc853b8d395e60bafaf1b6df7845bdd82c95fd59dd8d2b\n",
      "Successfully built docopt\n",
      "Installing collected packages: pymorphy2-dicts-ru, docopt, dawg-python, pymorphy2\n",
      "Successfully installed dawg-python-0.7.2 docopt-0.6.2 pymorphy2-0.9.1 pymorphy2-dicts-ru-2.4.417127.4579844\n"
     ]
    }
   ],
   "source": [
    "!pip install tensorflow-text\n",
    "!pip install transformers\n",
    "!pip install nltk\n",
    "!pip install pymorphy2\n",
    "\n",
    "import pandas as pd\n",
    "import tensorflow as tf\n",
    "import torch\n",
    "\n",
    "import tensorflow_hub as hub\n",
    "import matplotlib.pyplot as plt\n",
    "import numpy as np\n",
    "import os\n",
    "import pandas as pd\n",
    "import re\n",
    "import seaborn as sns\n",
    "\n",
    "import re\n",
    "import nltk\n",
    "from nltk.tokenize import word_tokenize \n",
    "from nltk.corpus import stopwords\n",
    "from nltk.stem import WordNetLemmatizer\n",
    "\n",
    "import nltk\n",
    "nltk.download('stopwords')\n",
    "nltk.download('punkt')\n",
    "from nltk.corpus import stopwords\n",
    "\n",
    "from sklearn.model_selection import train_test_split\n",
    "from catboost import CatBoostClassifier, Pool\n",
    "from catboost.utils import get_confusion_matrix\n",
    "from sklearn.metrics import classification_report, confusion_matrix\n",
    "import os\n",
    "from tensorflow.keras.optimizers import Adam\n",
    "import tensorflow_hub as hub\n",
    "import tensorflow_text as text\n",
    "tf.config.list_physical_devices('GPU')\n",
    "\n",
    "import pymorphy2"
   ]
  },
  {
   "cell_type": "markdown",
   "metadata": {
    "id": "CsUpMeNBRK2t"
   },
   "source": [
    "# Загрузка уже обработанных данных c сентиментом"
   ]
  },
  {
   "cell_type": "code",
   "execution_count": null,
   "metadata": {
    "id": "5Z99uyLFRLDB"
   },
   "outputs": [],
   "source": [
    "url = 'googledrive-link'\n",
    "path = 'https://drive.google.com/uc?export=download&id='+url.split('/')[-2]\n",
    "data = pd.read_excel(path)\n",
    "\n",
    "#data = pd.read_excel('finename.xlsx')"
   ]
  },
  {
   "cell_type": "markdown",
   "metadata": {
    "id": "Rvl1Qiz-PyEq"
   },
   "source": [
    "# Предобработка текста\n",
    "https://webtort.ru/%D0%BF%D1%80%D0%B5%D0%BF%D1%80%D0%BE%D1%86%D0%B5%D1%81%D1%81%D0%B8%D0%BD%D0%B3-%D1%82%D0%B5%D0%BA%D1%81%D1%82%D0%B0-text-preprocessing-%D0%B8%D0%BB%D0%B8-%D0%B3%D0%BE%D1%82%D0%BE%D0%B2%D0%B8%D0%BC/"
   ]
  },
  {
   "cell_type": "code",
   "execution_count": null,
   "metadata": {
    "id": "aQ_wtvEqUWjc"
   },
   "outputs": [],
   "source": [
    "def clean_text(text):\n",
    "    # приводим текст к нижнему регистру\n",
    "    text = text.lower()\n",
    "    # создаем регулярное выражение для удаления лишних символов\n",
    "    regular = r'[\\*+\\#+\\№\\\"\\-+\\+\\=+\\?+\\&\\^\\.+\\;\\,+\\>+\\(\\)\\/+\\:\\\\+]'\n",
    "    # регулярное выражение для замены ссылки на \"URL\"\n",
    "    regular_url = r'(http\\S+)|(www\\S+)|([\\w\\d]+www\\S+)|([\\w\\d]+http\\S+)'\n",
    "    # удаляем лишние символы\n",
    "    text = re.sub(regular, '', text)\n",
    "    # заменяем ссылки на \"URL\"\n",
    "    text = re.sub(regular_url, r'ссылка', text)\n",
    "    # заменяем числа и цифры на ' NUM '\n",
    "    text = re.sub(r'(\\d+\\s\\d+)|(\\d+)',' 0 ', text)\n",
    "    # удаляем лишние пробелы\n",
    "    text = re.sub(r'\\s+', ' ', text)\n",
    "    # возвращаем очищенные данные\n",
    "    return text\n",
    " \n",
    "# создаем список для хранения преобразованных данных \n",
    "processed_text = []"
   ]
  },
  {
   "cell_type": "code",
   "execution_count": null,
   "metadata": {
    "id": "dvEhSM8_P1RJ"
   },
   "outputs": [],
   "source": [
    "stop_words = stopwords.words(\"russian\")"
   ]
  },
  {
   "cell_type": "code",
   "execution_count": null,
   "metadata": {
    "colab": {
     "base_uri": "https://localhost:8080/",
     "height": 423
    },
    "id": "YMv0yUyeUcis",
    "outputId": "34428ddd-95f3-48a2-96d3-c2ce90de275b"
   },
   "outputs": [
    {
     "data": {
      "text/html": [
       "\n",
       "  <div id=\"df-2e554de8-7dd6-44e0-9bce-e290112271e2\">\n",
       "    <div class=\"colab-df-container\">\n",
       "      <div>\n",
       "<style scoped>\n",
       "    .dataframe tbody tr th:only-of-type {\n",
       "        vertical-align: middle;\n",
       "    }\n",
       "\n",
       "    .dataframe tbody tr th {\n",
       "        vertical-align: top;\n",
       "    }\n",
       "\n",
       "    .dataframe thead th {\n",
       "        text-align: right;\n",
       "    }\n",
       "</style>\n",
       "<table border=\"1\" class=\"dataframe\">\n",
       "  <thead>\n",
       "    <tr style=\"text-align: right;\">\n",
       "      <th></th>\n",
       "      <th>Unnamed: 0</th>\n",
       "      <th>index</th>\n",
       "      <th>id</th>\n",
       "      <th>date</th>\n",
       "      <th>message</th>\n",
       "      <th>views</th>\n",
       "      <th>forwards</th>\n",
       "      <th>Unnamed: 14</th>\n",
       "      <th>Unnamed: 15</th>\n",
       "    </tr>\n",
       "  </thead>\n",
       "  <tbody>\n",
       "    <tr>\n",
       "      <th>0</th>\n",
       "      <td>0</td>\n",
       "      <td>16</td>\n",
       "      <td>16975.0</td>\n",
       "      <td>2022-12-14T16:35:34+00:00</td>\n",
       "      <td>📊 потенциал роста акций applied materials огра...</td>\n",
       "      <td>12590.0</td>\n",
       "      <td>5.0</td>\n",
       "      <td>👍</td>\n",
       "      <td>15.0</td>\n",
       "    </tr>\n",
       "    <tr>\n",
       "      <th>1</th>\n",
       "      <td>1</td>\n",
       "      <td>17</td>\n",
       "      <td>16974.0</td>\n",
       "      <td>2022-12-14T15:09:21+00:00</td>\n",
       "      <td>видим вероятность роста бумаг тмк 0 – 0 % гори...</td>\n",
       "      <td>11947.0</td>\n",
       "      <td>13.0</td>\n",
       "      <td>👍</td>\n",
       "      <td>25.0</td>\n",
       "    </tr>\n",
       "    <tr>\n",
       "      <th>2</th>\n",
       "      <td>2</td>\n",
       "      <td>18</td>\n",
       "      <td>16973.0</td>\n",
       "      <td>2022-12-14T14:03:44+00:00</td>\n",
       "      <td>ближайшие дни начинается очередной налоговый п...</td>\n",
       "      <td>11419.0</td>\n",
       "      <td>13.0</td>\n",
       "      <td>👍</td>\n",
       "      <td>26.0</td>\n",
       "    </tr>\n",
       "    <tr>\n",
       "      <th>3</th>\n",
       "      <td>3</td>\n",
       "      <td>19</td>\n",
       "      <td>16972.0</td>\n",
       "      <td>2022-12-14T13:18:44+00:00</td>\n",
       "      <td>📈oracle corporation orcl специализируется выпу...</td>\n",
       "      <td>10595.0</td>\n",
       "      <td>4.0</td>\n",
       "      <td>👍</td>\n",
       "      <td>15.0</td>\n",
       "    </tr>\n",
       "    <tr>\n",
       "      <th>4</th>\n",
       "      <td>4</td>\n",
       "      <td>20</td>\n",
       "      <td>16971.0</td>\n",
       "      <td>2022-12-14T11:15:14+00:00</td>\n",
       "      <td>📊 пао «татнефть» тикер tatn идея long ⬆️ гориз...</td>\n",
       "      <td>10835.0</td>\n",
       "      <td>38.0</td>\n",
       "      <td>👍</td>\n",
       "      <td>44.0</td>\n",
       "    </tr>\n",
       "    <tr>\n",
       "      <th>...</th>\n",
       "      <td>...</td>\n",
       "      <td>...</td>\n",
       "      <td>...</td>\n",
       "      <td>...</td>\n",
       "      <td>...</td>\n",
       "      <td>...</td>\n",
       "      <td>...</td>\n",
       "      <td>...</td>\n",
       "      <td>...</td>\n",
       "    </tr>\n",
       "    <tr>\n",
       "      <th>104893</th>\n",
       "      <td>104893</td>\n",
       "      <td>114533</td>\n",
       "      <td>8.0</td>\n",
       "      <td>2020-01-17T09:26:17+00:00</td>\n",
       "      <td>лукойл фигура отыграла цель 0 достигнута⭐️😉</td>\n",
       "      <td>428.0</td>\n",
       "      <td>0.0</td>\n",
       "      <td>NaN</td>\n",
       "      <td>NaN</td>\n",
       "    </tr>\n",
       "    <tr>\n",
       "      <th>104894</th>\n",
       "      <td>104894</td>\n",
       "      <td>114534</td>\n",
       "      <td>6.0</td>\n",
       "      <td>2020-01-17T08:39:34+00:00</td>\n",
       "      <td>новатек лонг тейк 0 стоп 0 цена 0</td>\n",
       "      <td>426.0</td>\n",
       "      <td>0.0</td>\n",
       "      <td>NaN</td>\n",
       "      <td>NaN</td>\n",
       "    </tr>\n",
       "    <tr>\n",
       "      <th>104895</th>\n",
       "      <td>104895</td>\n",
       "      <td>114535</td>\n",
       "      <td>5.0</td>\n",
       "      <td>2020-01-17T08:27:04+00:00</td>\n",
       "      <td>сбербанк пр лонгтейк 0 стоп 0 цена 0</td>\n",
       "      <td>357.0</td>\n",
       "      <td>0.0</td>\n",
       "      <td>NaN</td>\n",
       "      <td>NaN</td>\n",
       "    </tr>\n",
       "    <tr>\n",
       "      <th>104896</th>\n",
       "      <td>104896</td>\n",
       "      <td>114536</td>\n",
       "      <td>4.0</td>\n",
       "      <td>2020-01-17T07:55:19+00:00</td>\n",
       "      <td>сбербанк лонг тейк 0 стоп 0 закрытый геп возмо...</td>\n",
       "      <td>340.0</td>\n",
       "      <td>0.0</td>\n",
       "      <td>NaN</td>\n",
       "      <td>NaN</td>\n",
       "    </tr>\n",
       "    <tr>\n",
       "      <th>104897</th>\n",
       "      <td>104897</td>\n",
       "      <td>114537</td>\n",
       "      <td>3.0</td>\n",
       "      <td>2020-01-17T07:22:21+00:00</td>\n",
       "      <td>лукойл лонг тейк 0 стоп 0 цена 0</td>\n",
       "      <td>330.0</td>\n",
       "      <td>0.0</td>\n",
       "      <td>NaN</td>\n",
       "      <td>NaN</td>\n",
       "    </tr>\n",
       "  </tbody>\n",
       "</table>\n",
       "<p>104898 rows × 9 columns</p>\n",
       "</div>\n",
       "      <button class=\"colab-df-convert\" onclick=\"convertToInteractive('df-2e554de8-7dd6-44e0-9bce-e290112271e2')\"\n",
       "              title=\"Convert this dataframe to an interactive table.\"\n",
       "              style=\"display:none;\">\n",
       "        \n",
       "  <svg xmlns=\"http://www.w3.org/2000/svg\" height=\"24px\"viewBox=\"0 0 24 24\"\n",
       "       width=\"24px\">\n",
       "    <path d=\"M0 0h24v24H0V0z\" fill=\"none\"/>\n",
       "    <path d=\"M18.56 5.44l.94 2.06.94-2.06 2.06-.94-2.06-.94-.94-2.06-.94 2.06-2.06.94zm-11 1L8.5 8.5l.94-2.06 2.06-.94-2.06-.94L8.5 2.5l-.94 2.06-2.06.94zm10 10l.94 2.06.94-2.06 2.06-.94-2.06-.94-.94-2.06-.94 2.06-2.06.94z\"/><path d=\"M17.41 7.96l-1.37-1.37c-.4-.4-.92-.59-1.43-.59-.52 0-1.04.2-1.43.59L10.3 9.45l-7.72 7.72c-.78.78-.78 2.05 0 2.83L4 21.41c.39.39.9.59 1.41.59.51 0 1.02-.2 1.41-.59l7.78-7.78 2.81-2.81c.8-.78.8-2.07 0-2.86zM5.41 20L4 18.59l7.72-7.72 1.47 1.35L5.41 20z\"/>\n",
       "  </svg>\n",
       "      </button>\n",
       "      \n",
       "  <style>\n",
       "    .colab-df-container {\n",
       "      display:flex;\n",
       "      flex-wrap:wrap;\n",
       "      gap: 12px;\n",
       "    }\n",
       "\n",
       "    .colab-df-convert {\n",
       "      background-color: #E8F0FE;\n",
       "      border: none;\n",
       "      border-radius: 50%;\n",
       "      cursor: pointer;\n",
       "      display: none;\n",
       "      fill: #1967D2;\n",
       "      height: 32px;\n",
       "      padding: 0 0 0 0;\n",
       "      width: 32px;\n",
       "    }\n",
       "\n",
       "    .colab-df-convert:hover {\n",
       "      background-color: #E2EBFA;\n",
       "      box-shadow: 0px 1px 2px rgba(60, 64, 67, 0.3), 0px 1px 3px 1px rgba(60, 64, 67, 0.15);\n",
       "      fill: #174EA6;\n",
       "    }\n",
       "\n",
       "    [theme=dark] .colab-df-convert {\n",
       "      background-color: #3B4455;\n",
       "      fill: #D2E3FC;\n",
       "    }\n",
       "\n",
       "    [theme=dark] .colab-df-convert:hover {\n",
       "      background-color: #434B5C;\n",
       "      box-shadow: 0px 1px 3px 1px rgba(0, 0, 0, 0.15);\n",
       "      filter: drop-shadow(0px 1px 2px rgba(0, 0, 0, 0.3));\n",
       "      fill: #FFFFFF;\n",
       "    }\n",
       "  </style>\n",
       "\n",
       "      <script>\n",
       "        const buttonEl =\n",
       "          document.querySelector('#df-2e554de8-7dd6-44e0-9bce-e290112271e2 button.colab-df-convert');\n",
       "        buttonEl.style.display =\n",
       "          google.colab.kernel.accessAllowed ? 'block' : 'none';\n",
       "\n",
       "        async function convertToInteractive(key) {\n",
       "          const element = document.querySelector('#df-2e554de8-7dd6-44e0-9bce-e290112271e2');\n",
       "          const dataTable =\n",
       "            await google.colab.kernel.invokeFunction('convertToInteractive',\n",
       "                                                     [key], {});\n",
       "          if (!dataTable) return;\n",
       "\n",
       "          const docLinkHtml = 'Like what you see? Visit the ' +\n",
       "            '<a target=\"_blank\" href=https://colab.research.google.com/notebooks/data_table.ipynb>data table notebook</a>'\n",
       "            + ' to learn more about interactive tables.';\n",
       "          element.innerHTML = '';\n",
       "          dataTable['output_type'] = 'display_data';\n",
       "          await google.colab.output.renderOutput(dataTable, element);\n",
       "          const docLink = document.createElement('div');\n",
       "          docLink.innerHTML = docLinkHtml;\n",
       "          element.appendChild(docLink);\n",
       "        }\n",
       "      </script>\n",
       "    </div>\n",
       "  </div>\n",
       "  "
      ],
      "text/plain": [
       "        Unnamed: 0   index       id                       date  \\\n",
       "0                0      16  16975.0  2022-12-14T16:35:34+00:00   \n",
       "1                1      17  16974.0  2022-12-14T15:09:21+00:00   \n",
       "2                2      18  16973.0  2022-12-14T14:03:44+00:00   \n",
       "3                3      19  16972.0  2022-12-14T13:18:44+00:00   \n",
       "4                4      20  16971.0  2022-12-14T11:15:14+00:00   \n",
       "...            ...     ...      ...                        ...   \n",
       "104893      104893  114533      8.0  2020-01-17T09:26:17+00:00   \n",
       "104894      104894  114534      6.0  2020-01-17T08:39:34+00:00   \n",
       "104895      104895  114535      5.0  2020-01-17T08:27:04+00:00   \n",
       "104896      104896  114536      4.0  2020-01-17T07:55:19+00:00   \n",
       "104897      104897  114537      3.0  2020-01-17T07:22:21+00:00   \n",
       "\n",
       "                                                  message    views  forwards  \\\n",
       "0       📊 потенциал роста акций applied materials огра...  12590.0       5.0   \n",
       "1       видим вероятность роста бумаг тмк 0 – 0 % гори...  11947.0      13.0   \n",
       "2       ближайшие дни начинается очередной налоговый п...  11419.0      13.0   \n",
       "3       📈oracle corporation orcl специализируется выпу...  10595.0       4.0   \n",
       "4       📊 пао «татнефть» тикер tatn идея long ⬆️ гориз...  10835.0      38.0   \n",
       "...                                                   ...      ...       ...   \n",
       "104893        лукойл фигура отыграла цель 0 достигнута⭐️😉    428.0       0.0   \n",
       "104894                 новатек лонг тейк 0 стоп 0 цена 0     426.0       0.0   \n",
       "104895              сбербанк пр лонгтейк 0 стоп 0 цена 0     357.0       0.0   \n",
       "104896  сбербанк лонг тейк 0 стоп 0 закрытый геп возмо...    340.0       0.0   \n",
       "104897                  лукойл лонг тейк 0 стоп 0 цена 0     330.0       0.0   \n",
       "\n",
       "       Unnamed: 14  Unnamed: 15  \n",
       "0                👍         15.0  \n",
       "1                👍         25.0  \n",
       "2                👍         26.0  \n",
       "3                👍         15.0  \n",
       "4                👍         44.0  \n",
       "...            ...          ...  \n",
       "104893         NaN          NaN  \n",
       "104894         NaN          NaN  \n",
       "104895         NaN          NaN  \n",
       "104896         NaN          NaN  \n",
       "104897         NaN          NaN  \n",
       "\n",
       "[104898 rows x 9 columns]"
      ]
     },
     "execution_count": 25,
     "metadata": {},
     "output_type": "execute_result"
    }
   ],
   "source": [
    "# для каждого сообщения text из столбца data['Message']\n",
    "def clean_and_unite(message):\n",
    "    processed_text = []\n",
    "    for text in message:\n",
    "        # cleaning \n",
    "        text = clean_text(text)   \n",
    "        # tokenization\n",
    "        #text = word_tokenize(text) \n",
    "        text = text.split(' ')     \n",
    "        # удаление стоп-слов\n",
    "        text = [word for word in text if word not in stop_words]\n",
    "        string = \" \".join(text)     \n",
    "        # лемматизация\n",
    "        #text = [morph.parse(w)[0].normal_form for w in text]\n",
    "        # добавляем преобразованный текст в список processed_text\n",
    "        processed_text.append(string)\n",
    "    return processed_text\n",
    "data.rename(columns={'message': 'text'}, inplace=True)\n",
    "data['text'] = data['text'].apply(clean_and_unite)"
   ]
  },
  {
   "cell_type": "markdown",
   "metadata": {
    "id": "Vkx_HQMuYlET"
   },
   "source": [
    "# Основаная: Catboost vs BERT\n",
    "Яндекс-модель для анализа сентиментов"
   ]
  },
  {
   "cell_type": "markdown",
   "metadata": {
    "id": "mcy4gDHoY7xn"
   },
   "source": [
    "https://habr.com/ru/post/555064/\n",
    "https://github.com/sagol/catboost_sentiment/blob/main/catboost_sentiment_analysis.ipynb\n"
   ]
  },
  {
   "cell_type": "code",
   "execution_count": null,
   "metadata": {
    "colab": {
     "base_uri": "https://localhost:8080/"
    },
    "collapsed": true,
    "id": "IH1gRTFJk1mB",
    "outputId": "c3c60634-9c2c-421b-a0d8-0442087b4f2f"
   },
   "outputs": [
    {
     "name": "stdout",
     "output_type": "stream",
     "text": [
      "Looking in indexes: https://pypi.org/simple, https://us-python.pkg.dev/colab-wheels/public/simple/\n",
      "Collecting catboost\n",
      "  Downloading catboost-1.1.1-cp39-none-manylinux1_x86_64.whl (76.6 MB)\n",
      "\u001b[2K     \u001b[90m━━━━━━━━━━━━━━━━━━━━━━━━━━━━━━━━━━━━━━━━\u001b[0m \u001b[32m76.6/76.6 MB\u001b[0m \u001b[31m13.3 MB/s\u001b[0m eta \u001b[36m0:00:00\u001b[0m\n",
      "\u001b[?25hRequirement already satisfied: numpy>=1.16.0 in /usr/local/lib/python3.9/dist-packages (from catboost) (1.22.4)\n",
      "Requirement already satisfied: scipy in /usr/local/lib/python3.9/dist-packages (from catboost) (1.10.1)\n",
      "Requirement already satisfied: six in /usr/local/lib/python3.9/dist-packages (from catboost) (1.16.0)\n",
      "Requirement already satisfied: graphviz in /usr/local/lib/python3.9/dist-packages (from catboost) (0.20.1)\n",
      "Requirement already satisfied: pandas>=0.24.0 in /usr/local/lib/python3.9/dist-packages (from catboost) (1.4.4)\n",
      "Requirement already satisfied: matplotlib in /usr/local/lib/python3.9/dist-packages (from catboost) (3.7.1)\n",
      "Requirement already satisfied: plotly in /usr/local/lib/python3.9/dist-packages (from catboost) (5.13.1)\n",
      "Requirement already satisfied: pytz>=2020.1 in /usr/local/lib/python3.9/dist-packages (from pandas>=0.24.0->catboost) (2022.7.1)\n",
      "Requirement already satisfied: python-dateutil>=2.8.1 in /usr/local/lib/python3.9/dist-packages (from pandas>=0.24.0->catboost) (2.8.2)\n",
      "Requirement already satisfied: packaging>=20.0 in /usr/local/lib/python3.9/dist-packages (from matplotlib->catboost) (23.0)\n",
      "Requirement already satisfied: pyparsing>=2.3.1 in /usr/local/lib/python3.9/dist-packages (from matplotlib->catboost) (3.0.9)\n",
      "Requirement already satisfied: cycler>=0.10 in /usr/local/lib/python3.9/dist-packages (from matplotlib->catboost) (0.11.0)\n",
      "Requirement already satisfied: fonttools>=4.22.0 in /usr/local/lib/python3.9/dist-packages (from matplotlib->catboost) (4.39.3)\n",
      "Requirement already satisfied: kiwisolver>=1.0.1 in /usr/local/lib/python3.9/dist-packages (from matplotlib->catboost) (1.4.4)\n",
      "Requirement already satisfied: importlib-resources>=3.2.0 in /usr/local/lib/python3.9/dist-packages (from matplotlib->catboost) (5.12.0)\n",
      "Requirement already satisfied: pillow>=6.2.0 in /usr/local/lib/python3.9/dist-packages (from matplotlib->catboost) (8.4.0)\n",
      "Requirement already satisfied: contourpy>=1.0.1 in /usr/local/lib/python3.9/dist-packages (from matplotlib->catboost) (1.0.7)\n",
      "Requirement already satisfied: tenacity>=6.2.0 in /usr/local/lib/python3.9/dist-packages (from plotly->catboost) (8.2.2)\n",
      "Requirement already satisfied: zipp>=3.1.0 in /usr/local/lib/python3.9/dist-packages (from importlib-resources>=3.2.0->matplotlib->catboost) (3.15.0)\n",
      "Installing collected packages: catboost\n",
      "Successfully installed catboost-1.1.1\n",
      "Looking in indexes: https://pypi.org/simple, https://us-python.pkg.dev/colab-wheels/public/simple/\n",
      "Collecting cuda-python\n",
      "  Downloading cuda_python-12.1.0-cp39-cp39-manylinux_2_17_x86_64.manylinux2014_x86_64.whl (18.9 MB)\n",
      "\u001b[2K     \u001b[90m━━━━━━━━━━━━━━━━━━━━━━━━━━━━━━━━━━━━━━━━\u001b[0m \u001b[32m18.9/18.9 MB\u001b[0m \u001b[31m56.0 MB/s\u001b[0m eta \u001b[36m0:00:00\u001b[0m\n",
      "\u001b[?25hRequirement already satisfied: cython in /usr/local/lib/python3.9/dist-packages (from cuda-python) (0.29.33)\n",
      "Installing collected packages: cuda-python\n",
      "Successfully installed cuda-python-12.1.0\n"
     ]
    }
   ],
   "source": [
    "!pip install catboost\n",
    "!pip install cuda-python"
   ]
  },
  {
   "cell_type": "code",
   "execution_count": null,
   "metadata": {
    "id": "oyzXEmW4rFLY"
   },
   "outputs": [],
   "source": [
    "os.environ[\"CUDA_DEVICE_ORDER\"] = \"PCI_BUS_ID\" \n",
    "os.environ[\"CUDA_VISIBLE_DEVICES\"] = \"0\"\n",
    "os.environ[\"TF_FORCE_GPU_ALLOW_GROWTH\"] = 'true'"
   ]
  },
  {
   "cell_type": "code",
   "execution_count": null,
   "metadata": {
    "id": "YUtoKRskkJv7"
   },
   "outputs": [],
   "source": [
    "# Создаем fit_model с параметрами\n",
    "def fit_model(train_pool, test_pool, **kwargs):\n",
    "    model = CatBoostClassifier(\n",
    "        task_type='GPU',\n",
    "        iterations=10000,\n",
    "        eval_metric='Accuracy',\n",
    "        od_type='Iter',\n",
    "        od_wait=500,\n",
    "        **kwargs)\n",
    "\n",
    "    return model.fit(\n",
    "        train_pool,\n",
    "        eval_set=test_pool,\n",
    "        verbose=100,\n",
    "        plot=True,\n",
    "        use_best_model=True)"
   ]
  },
  {
   "cell_type": "code",
   "execution_count": null,
   "metadata": {},
   "outputs": [],
   "source": [
    "df = data.copy()"
   ]
  },
  {
   "cell_type": "code",
   "execution_count": null,
   "metadata": {
    "id": "6_heB_vckNfz"
   },
   "outputs": [],
   "source": [
    "# Делаем train and test\n",
    "df_train = df.loc[df.dtype == \"train\"][['text', 'label']]\n",
    "df_test = df.loc[df.dtype == \"test\"][['text', 'label']]"
   ]
  },
  {
   "cell_type": "code",
   "execution_count": null,
   "metadata": {
    "id": "blxCI5wIkRqs"
   },
   "outputs": [],
   "source": [
    "train, valid = train_test_split(\n",
    "    df_train,\n",
    "    train_size=0.6,\n",
    "    random_state=0,\n",
    "    stratify=df_train['label'])\n",
    "\n",
    "y_train, X_train = \\\n",
    "    train['label'], train.drop(['label'], axis=1)\n",
    "y_valid, X_valid = \\\n",
    "    valid['label'], valid.drop(['label'], axis=1)"
   ]
  },
  {
   "cell_type": "code",
   "execution_count": null,
   "metadata": {
    "id": "3ORVKK0eYlOz"
   },
   "outputs": [],
   "source": [
    "train_pool = Pool(\n",
    "    data=X_train,\n",
    "    label=y_train,\n",
    "    text_features=['text']\n",
    ")\n",
    "\n",
    "valid_pool = Pool(\n",
    "    data=X_valid, \n",
    "    label=y_valid,\n",
    "    text_features=['text']\n",
    ")\n",
    "\n",
    "test_pool = Pool(\n",
    "    data=df_test[[c for c in df_test.columns if c!='label']][['text']], \n",
    "    label=df_test['label'],\n",
    "    text_features=['text']\n",
    ")"
   ]
  },
  {
   "cell_type": "code",
   "execution_count": null,
   "metadata": {
    "colab": {
     "base_uri": "https://localhost:8080/",
     "height": 191,
     "referenced_widgets": [
      "83e31cc91c1940f89a88209ce3f7e956"
     ]
    },
    "id": "RO37vVOlkX2i",
    "outputId": "00a2259b-9f75-4641-c17e-c11717fe79ea"
   },
   "outputs": [
    {
     "data": {
      "application/vnd.jupyter.widget-view+json": {
       "model_id": "83e31cc91c1940f89a88209ce3f7e956",
       "version_major": 2,
       "version_minor": 0
      },
      "text/plain": [
       "MetricVisualizer(layout=Layout(align_self='stretch', height='500px'))"
      ]
     },
     "metadata": {},
     "output_type": "display_data"
    },
    {
     "name": "stderr",
     "output_type": "stream",
     "text": [
      "Warning: less than 75% gpu memory available for training. Free: 10431.75 Total: 15109.75\n"
     ]
    },
    {
     "name": "stdout",
     "output_type": "stream",
     "text": [
      "0:\tlearn: 0.7487307\ttest: 0.7443531\tbest: 0.7443531 (0)\ttotal: 23.5ms\tremaining: 3m 54s\n",
      "100:\tlearn: 0.7540388\ttest: 0.7403721\tbest: 0.7443531 (0)\ttotal: 1.12s\tremaining: 1m 49s\n",
      "200:\tlearn: 0.7603277\ttest: 0.7395932\tbest: 0.7443531 (0)\ttotal: 2.12s\tremaining: 1m 43s\n",
      "300:\tlearn: 0.7650012\ttest: 0.7392471\tbest: 0.7443531 (0)\ttotal: 3.04s\tremaining: 1m 38s\n",
      "400:\tlearn: 0.7715786\ttest: 0.7401990\tbest: 0.7443531 (0)\ttotal: 3.96s\tremaining: 1m 34s\n",
      "500:\tlearn: 0.7748096\ttest: 0.7395067\tbest: 0.7443531 (0)\ttotal: 4.9s\tremaining: 1m 32s\n",
      "bestTest = 0.7443530939\n",
      "bestIteration = 0\n",
      "Shrink model to first 1 iterations.\n"
     ]
    }
   ],
   "source": [
    "# Фиттим модель\n",
    "model = fit_model(\n",
    "    train_pool, valid_pool,\n",
    "    learning_rate=0.4, #0.35\n",
    "    tokenizers=[\n",
    "        {\n",
    "            'tokenizer_id': 'Sense',\n",
    "            'separator_type': 'BySense',\n",
    "            'lowercasing': 'True',\n",
    "            'token_types':['Word', 'Number', 'SentenceBreak'],\n",
    "            'sub_tokens_policy':'SeveralTokens'\n",
    "        }      \n",
    "    ],\n",
    "    dictionaries = [\n",
    "        {\n",
    "            'dictionary_id': 'Word',\n",
    "            'max_dictionary_size': '50000'\n",
    "        }\n",
    "    ],\n",
    "    feature_calcers = [\n",
    "        'BoW:top_tokens_count=10000'\n",
    "    ]\n",
    ")"
   ]
  },
  {
   "cell_type": "markdown",
   "metadata": {},
   "source": [
    "# Метрики CatBoost"
   ]
  },
  {
   "cell_type": "markdown",
   "metadata": {
    "id": "S3DyGtnJ9Fv3"
   },
   "source": [
    "\n",
    "\n",
    "1.   bestTest = 0.7469712703 (0.35)\n",
    "2.   bestTest = 0.7577854671 (0.35)\n",
    "\n",
    "\n"
   ]
  },
  {
   "cell_type": "code",
   "execution_count": null,
   "metadata": {
    "id": "2jZ0DNUHkcpL"
   },
   "outputs": [],
   "source": [
    "y_proba_cb = model.predict_proba(test_pool)\n",
    "y_pred = np.argmax(y_proba_cb, axis=1)\n",
    "df_test['predict'] = model.predict(test_pool)"
   ]
  },
  {
   "cell_type": "code",
   "execution_count": null,
   "metadata": {
    "colab": {
     "base_uri": "https://localhost:8080/"
    },
    "id": "BaNRcVlHY3Oh",
    "outputId": "c8195dbb-8dd2-4ee7-b778-d59c6492f493"
   },
   "outputs": [
    {
     "name": "stdout",
     "output_type": "stream",
     "text": [
      "CatBoost model accuracy: 0.7504672897196262\n"
     ]
    }
   ],
   "source": [
    "acc = model.score(test_pool)\n",
    "print(f\"CatBoost model accuracy: {acc}\")"
   ]
  },
  {
   "cell_type": "markdown",
   "metadata": {
    "id": "tWf_Eqh7AKnx"
   },
   "source": [
    "## Сравниваем разные learning rate\n",
    "CatBoost model accuracy: 0.7461059190031153 (0.5 learning rate)\n",
    "\n",
    "CatBoost model accuracy: 0.7495327102803738 (0.35 learning rate)\n",
    "\n",
    "CatBoost model accuracy: 0.75202492211838 (0.4 learning rate)"
   ]
  },
  {
   "cell_type": "markdown",
   "metadata": {},
   "source": [
    "## Анализируем confusion matrix"
   ]
  },
  {
   "cell_type": "code",
   "execution_count": null,
   "metadata": {
    "colab": {
     "base_uri": "https://localhost:8080/",
     "height": 295
    },
    "id": "bGXeZriP5Miy",
    "outputId": "42c52de7-b2ab-4c3f-a84b-0ede944250e6"
   },
   "outputs": [
    {
     "data": {
      "text/plain": [
       "<matplotlib.axes._subplots.AxesSubplot at 0x7f041d22d190>"
      ]
     },
     "execution_count": 55,
     "metadata": {},
     "output_type": "execute_result"
    },
    {
     "data": {
      "image/png": "[encoded data removed]",
      "text/plain": [
       "<Figure size 432x288 with 2 Axes>"
      ]
     },
     "metadata": {},
     "output_type": "display_data"
    }
   ],
   "source": [
    "target_names = ['Negative', 'Neutral', 'Positive']\n",
    "y_true = df_test['label'].astype('category').cat.codes.values\n",
    "cf_matrix = get_confusion_matrix(model, test_pool)\n",
    "sns.heatmap(\n",
    "    cf_matrix/np.sum(cf_matrix),\n",
    "    annot=True, fmt='.2%', cmap='Blues',\n",
    "    xticklabels=target_names,\n",
    "    yticklabels=target_names)"
   ]
  },
  {
   "cell_type": "code",
   "execution_count": null,
   "metadata": {
    "colab": {
     "base_uri": "https://localhost:8080/"
    },
    "id": "v6Bi69k35hpE",
    "outputId": "f255def7-266c-4400-e6a1-4eab8cb882ff"
   },
   "outputs": [
    {
     "name": "stdout",
     "output_type": "stream",
     "text": [
      "\n",
      "Classification Report For Catboost\n",
      "              precision    recall  f1-score   support\n",
      "\n",
      "    Negative       0.54      0.18      0.27       406\n",
      "     Neutral       0.77      0.97      0.86      2377\n",
      "    Positive       0.49      0.08      0.14       427\n",
      "\n",
      "    accuracy                           0.75      3210\n",
      "   macro avg       0.60      0.41      0.42      3210\n",
      "weighted avg       0.70      0.75      0.69      3210\n",
      "\n"
     ]
    }
   ],
   "source": [
    "print('\\nClassification Report For Catboost')\n",
    "target_names = ['Negative', 'Neutral', 'Positive']\n",
    "print(classification_report(\n",
    "    df_test['label'].astype('category').cat.codes.values,\n",
    "    y_pred, target_names=target_names))"
   ]
  },
  {
   "cell_type": "markdown",
   "metadata": {},
   "source": [
    "# Сохраняем модель"
   ]
  },
  {
   "cell_type": "code",
   "execution_count": null,
   "metadata": {
    "id": "uqbobMxuDjUe"
   },
   "outputs": [],
   "source": [
    "fname = \"model_cb.cbm\"\n",
    "model.save_model(fname,\n",
    "           format=\"cbm\",\n",
    "           export_parameters=None,\n",
    "           pool=None)"
   ]
  },
  {
   "cell_type": "code",
   "execution_count": null,
   "metadata": {
    "colab": {
     "base_uri": "https://localhost:8080/",
     "height": 34
    },
    "id": "n_Rqo-z4D7Zq",
    "outputId": "a868178c-2dfd-4c85-9b96-e76f52318c18"
   },
   "outputs": [
    {
     "data": {
      "application/javascript": [
       "\n",
       "    async function download(id, filename, size) {\n",
       "      if (!google.colab.kernel.accessAllowed) {\n",
       "        return;\n",
       "      }\n",
       "      const div = document.createElement('div');\n",
       "      const label = document.createElement('label');\n",
       "      label.textContent = `Downloading \"${filename}\": `;\n",
       "      div.appendChild(label);\n",
       "      const progress = document.createElement('progress');\n",
       "      progress.max = size;\n",
       "      div.appendChild(progress);\n",
       "      document.body.appendChild(div);\n",
       "\n",
       "      const buffers = [];\n",
       "      let downloaded = 0;\n",
       "\n",
       "      const channel = await google.colab.kernel.comms.open(id);\n",
       "      // Send a message to notify the kernel that we're ready.\n",
       "      channel.send({})\n",
       "\n",
       "      for await (const message of channel.messages) {\n",
       "        // Send a message to notify the kernel that we're ready.\n",
       "        channel.send({})\n",
       "        if (message.buffers) {\n",
       "          for (const buffer of message.buffers) {\n",
       "            buffers.push(buffer);\n",
       "            downloaded += buffer.byteLength;\n",
       "            progress.value = downloaded;\n",
       "          }\n",
       "        }\n",
       "      }\n",
       "      const blob = new Blob(buffers, {type: 'application/binary'});\n",
       "      const a = document.createElement('a');\n",
       "      a.href = window.URL.createObjectURL(blob);\n",
       "      a.download = filename;\n",
       "      div.appendChild(a);\n",
       "      a.click();\n",
       "      div.remove();\n",
       "    }\n",
       "  "
      ],
      "text/plain": [
       "<IPython.core.display.Javascript object>"
      ]
     },
     "metadata": {},
     "output_type": "display_data"
    },
    {
     "data": {
      "application/javascript": [
       "download(\"download_985bf70d-380b-4df6-824b-62ce29e1ee3b\", \"model_cb.cbm\", 534093)"
      ],
      "text/plain": [
       "<IPython.core.display.Javascript object>"
      ]
     },
     "metadata": {},
     "output_type": "display_data"
    }
   ],
   "source": [
    "#from google.colab import files\n",
    "#files.download('model_cb.cbm') "
   ]
  },
  {
   "cell_type": "markdown",
   "metadata": {},
   "source": [
    "# Далее идут дополнительные модели, которые либо не работают, либо работают плохо"
   ]
  },
  {
   "cell_type": "markdown",
   "metadata": {
    "id": "reejZwBzyIH-"
   },
   "source": [
    "# BERT-Model против CAtBoost"
   ]
  },
  {
   "cell_type": "code",
   "execution_count": null,
   "metadata": {
    "id": "9MA_LkLjyLwd"
   },
   "outputs": [],
   "source": [
    "from transformers import AutoTokenizer, AutoModel, AutoModelForSequenceClassification\n",
    "tfhub_handle_encoder = \\\n",
    "    \"https://tfhub.dev/tensorflow/small_bert/bert_en_uncased_L-4_H-512_A-8/1\"\n",
    "tfhub_handle_preprocess = \\\n",
    "    \"https://tfhub.dev/tensorflow/bert_en_uncased_preprocess/3\"\n",
    "\n",
    "# tfhub_handle_encoder = \\\n",
    "#       \"https://huggingface.co/sberbank-ai/ruRoberta-large\"\n",
    "# tfhub_handle_preprocess = \\\n",
    "#       \"https://huggingface.co/sberbank-ai/ruRoberta-large\"\n",
    "# tokenizer_sd = AutoTokenizer.from_pretrained(MODEL)# , add_prefix_space=True) #, use_fast = False)\n",
    "# model_sd = AutoModelForSequenceClassification.from_pretrained(MODEL)\n"
   ]
  },
  {
   "cell_type": "code",
   "execution_count": null,
   "metadata": {
    "colab": {
     "base_uri": "https://localhost:8080/"
    },
    "id": "LRlAJC8GyMvy",
    "outputId": "fbe45e5c-784a-4a1c-a7af-01796ffa69d2"
   },
   "outputs": [
    {
     "name": "stdout",
     "output_type": "stream",
     "text": [
      "Model: \"model_3\"\n",
      "__________________________________________________________________________________________________\n",
      " Layer (type)                   Output Shape         Param #     Connected to                     \n",
      "==================================================================================================\n",
      " text (InputLayer)              [(None,)]            0           []                               \n",
      "                                                                                                  \n",
      " preprocessing (KerasLayer)     {'input_mask': (Non  0           ['text[0][0]']                   \n",
      "                                e, 128),                                                          \n",
      "                                 'input_type_ids':                                                \n",
      "                                (None, 128),                                                      \n",
      "                                 'input_word_ids':                                                \n",
      "                                (None, 128)}                                                      \n",
      "                                                                                                  \n",
      " BERT_encoder (KerasLayer)      {'sequence_output':  28763649    ['preprocessing[0][0]',          \n",
      "                                 (None, 128, 512),                'preprocessing[0][1]',          \n",
      "                                 'encoder_outputs':               'preprocessing[0][2]']          \n",
      "                                 [(None, 128, 512),                                               \n",
      "                                 (None, 128, 512),                                                \n",
      "                                 (None, 128, 512),                                                \n",
      "                                 (None, 128, 512)],                                               \n",
      "                                 'pooled_output': (                                               \n",
      "                                None, 512),                                                       \n",
      "                                 'default': (None,                                                \n",
      "                                512)}                                                             \n",
      "                                                                                                  \n",
      " dropout_4 (Dropout)            (None, 512)          0           ['BERT_encoder[0][5]']           \n",
      "                                                                                                  \n",
      " classifier (Dense)             (None, 3)            1539        ['dropout_4[0][0]']              \n",
      "                                                                                                  \n",
      "==================================================================================================\n",
      "Total params: 28,765,188\n",
      "Trainable params: 28,765,187\n",
      "Non-trainable params: 1\n",
      "__________________________________________________________________________________________________\n"
     ]
    }
   ],
   "source": [
    "def build_classifier_model():\n",
    "    \n",
    "    text_input = tf.keras.layers.Input(\n",
    "        shape=(), dtype=tf.string, name='text')\n",
    "    \n",
    "    preprocessing_layer = hub.KerasLayer(\n",
    "        tfhub_handle_preprocess, name='preprocessing')\n",
    "    \n",
    "    encoder_inputs = preprocessing_layer(text_input)\n",
    "    encoder = hub.KerasLayer(\n",
    "        tfhub_handle_encoder, trainable=True, name='BERT_encoder')\n",
    "    \n",
    "    outputs = encoder(encoder_inputs)\n",
    "    net = outputs['pooled_output']\n",
    "    net = tf.keras.layers.Dropout(0.1)(net)\n",
    "    net = tf.keras.layers.Dense(\n",
    "        3, activation='softmax', name='classifier')(net)\n",
    "    model = tf.keras.Model(text_input, net) ###\n",
    "    \n",
    "    loss = tf.keras.losses.CategoricalCrossentropy(from_logits=True)\n",
    "    metric = tf.metrics.CategoricalAccuracy('accuracy')\n",
    "    optimizer = tf.keras.optimizers.legacy.Adam(\n",
    "        learning_rate=5e-05, epsilon=1e-08, decay=0.01, clipnorm=1.0)\n",
    "    model.compile(\n",
    "        optimizer=optimizer, loss=loss, metrics=metric)\n",
    "    model.summary()\n",
    "    return model\n",
    "classifier_model = build_classifier_model()"
   ]
  },
  {
   "cell_type": "code",
   "execution_count": null,
   "metadata": {
    "id": "JuB_SHrByRtb"
   },
   "outputs": [],
   "source": [
    "y_train_c = tf.keras.utils.to_categorical(\n",
    "    y_train.astype('category').cat.codes.values, num_classes=3)\n",
    "y_valid_c = tf.keras.utils.to_categorical(\n",
    "    y_valid.astype('category').cat.codes.values, num_classes=3)\n"
   ]
  },
  {
   "cell_type": "code",
   "execution_count": null,
   "metadata": {
    "colab": {
     "base_uri": "https://localhost:8080/"
    },
    "id": "wJIBUA-jyRwW",
    "outputId": "0d00d190-1d37-4b03-ebf6-ca14774199d3"
   },
   "outputs": [
    {
     "name": "stdout",
     "output_type": "stream",
     "text": [
      "Epoch 1/5\n"
     ]
    },
    {
     "name": "stderr",
     "output_type": "stream",
     "text": [
      "/usr/local/lib/python3.8/dist-packages/keras/backend.py:5534: UserWarning: \"`categorical_crossentropy` received `from_logits=True`, but the `output` argument was produced by a Softmax activation and thus does not represent logits. Was this intended?\n",
      "  output, from_logits = _get_logits(\n"
     ]
    },
    {
     "name": "stdout",
     "output_type": "stream",
     "text": [
      "542/542 [==============================] - 165s 292ms/step - loss: 0.7596 - accuracy: 0.7384 - val_loss: 0.7061 - val_accuracy: 0.7416\n",
      "Epoch 2/5\n",
      "542/542 [==============================] - 152s 281ms/step - loss: 0.7284 - accuracy: 0.7402 - val_loss: 0.6975 - val_accuracy: 0.7396\n",
      "Epoch 3/5\n",
      "542/542 [==============================] - 153s 283ms/step - loss: 0.7101 - accuracy: 0.7408 - val_loss: 0.6814 - val_accuracy: 0.7434\n",
      "Epoch 4/5\n",
      "542/542 [==============================] - 151s 279ms/step - loss: 0.6929 - accuracy: 0.7424 - val_loss: 0.6767 - val_accuracy: 0.7433\n",
      "Epoch 5/5\n",
      "542/542 [==============================] - 158s 292ms/step - loss: 0.6903 - accuracy: 0.7437 - val_loss: 0.6833 - val_accuracy: 0.7428\n"
     ]
    }
   ],
   "source": [
    "history = classifier_model.fit(\n",
    "    x=X_train['text'].values,\n",
    "    y=y_train_c,\n",
    "    validation_data=(X_valid['text'].values, y_valid_c),\n",
    "    epochs=5)"
   ]
  },
  {
   "cell_type": "code",
   "execution_count": null,
   "metadata": {
    "colab": {
     "base_uri": "https://localhost:8080/",
     "height": 632
    },
    "id": "t7qD26FiyRy8",
    "outputId": "7e67369c-b74a-46f5-81a1-11c629f41190"
   },
   "outputs": [
    {
     "data": {
      "image/png": "[encoded data removed]",
      "text/plain": [
       "<Figure size 1440x720 with 2 Axes>"
      ]
     },
     "metadata": {},
     "output_type": "display_data"
    }
   ],
   "source": [
    "sns.set()\n",
    "sns.set_context(\"paper\", font_scale=2) \n",
    "\n",
    "fig = plt.figure(figsize=(20,10))\n",
    "ax1 = fig.add_subplot(121)\n",
    "sns.lineplot(ax=ax1, data=history.history['accuracy'])\n",
    "sns.lineplot(ax=ax1, data=history.history['val_accuracy'])\n",
    "ax1.set(\n",
    "    title=f\"Model accuracy\",\n",
    "    xlabel=\"epoch\",\n",
    "    ylabel=\"accuracy\"\n",
    ")\n",
    "ax1.legend(['train', 'test'], loc='upper left')\n",
    "ax2 = fig.add_subplot(122)\n",
    "sns.lineplot(ax=ax2, data=history.history['loss'])\n",
    "sns.lineplot(ax=ax2, data=history.history['val_loss'])\n",
    "ax2.set(\n",
    "    title=f\"Model loss\",\n",
    "    xlabel=\"epoch\",\n",
    "    ylabel=\"loss\"\n",
    ")\n",
    "ax2.legend(['train', 'test'], loc='upper left')\n",
    "\n",
    "fig.tight_layout()\n",
    "plt.show(fig) "
   ]
  },
  {
   "cell_type": "code",
   "execution_count": null,
   "metadata": {
    "colab": {
     "base_uri": "https://localhost:8080/"
    },
    "id": "Sf1TJNO9yYu-",
    "outputId": "1c44a1ed-2cae-42db-947b-5b6798f005f2"
   },
   "outputs": [
    {
     "name": "stdout",
     "output_type": "stream",
     "text": [
      "101/101 [==============================] - 10s 101ms/step - loss: 0.6874 - accuracy: 0.7430\n"
     ]
    }
   ],
   "source": [
    "y_test_c = tf.keras.utils.to_categorical(\n",
    "    df_test['label'].astype('category').cat.codes.values, num_classes=3)\n",
    "\n",
    "e = classifier_model.evaluate(x=df_test['text'].values, y=y_test_c)"
   ]
  },
  {
   "cell_type": "code",
   "execution_count": null,
   "metadata": {
    "colab": {
     "base_uri": "https://localhost:8080/"
    },
    "id": "vIMN0peCyYxc",
    "outputId": "9c54dc18-879c-4725-ac05-e56bd5e4bb2f"
   },
   "outputs": [
    {
     "name": "stdout",
     "output_type": "stream",
     "text": [
      "BERT Accuracy: 0.7429906725883484\n"
     ]
    }
   ],
   "source": [
    "print(f\"BERT Accuracy: {e[1]}\")"
   ]
  },
  {
   "cell_type": "code",
   "execution_count": null,
   "metadata": {
    "id": "L5CfaIkL-Zd9"
   },
   "outputs": [],
   "source": [
    "y_true = df_test['label'].astype('category').cat.codes.values"
   ]
  },
  {
   "cell_type": "code",
   "execution_count": null,
   "metadata": {
    "colab": {
     "base_uri": "https://localhost:8080/"
    },
    "id": "EozbtJv29_iK",
    "outputId": "d67e443b-daaa-4a08-9158-9b6be881bd28"
   },
   "outputs": [
    {
     "name": "stdout",
     "output_type": "stream",
     "text": [
      "101/101 [==============================] - 10s 96ms/step\n"
     ]
    }
   ],
   "source": [
    "y_proba_bert = classifier_model.predict(df_test['text'].values)\n",
    "y_pred_bert = np.argmax(y_proba_bert, axis=1)"
   ]
  },
  {
   "cell_type": "code",
   "execution_count": null,
   "metadata": {
    "colab": {
     "base_uri": "https://localhost:8080/"
    },
    "id": "33aQhDLU9_kx",
    "outputId": "6599f8e4-fa68-48d6-8966-3ad488ba5c8b"
   },
   "outputs": [
    {
     "name": "stdout",
     "output_type": "stream",
     "text": [
      "              precision    recall  f1-score   support\n",
      "\n",
      "    Negative       0.49      0.24      0.32       406\n",
      "     Neutral       0.79      0.93      0.85      2377\n",
      "    Positive       0.37      0.18      0.25       427\n",
      "\n",
      "    accuracy                           0.74      3210\n",
      "   macro avg       0.55      0.45      0.47      3210\n",
      "weighted avg       0.70      0.74      0.71      3210\n",
      "\n"
     ]
    }
   ],
   "source": [
    "target_names = ['Negative', 'Neutral', 'Positive']\n",
    "print(classification_report(y_true, y_pred_bert, target_names=target_names))"
   ]
  },
  {
   "cell_type": "code",
   "execution_count": null,
   "metadata": {
    "colab": {
     "base_uri": "https://localhost:8080/"
    },
    "id": "DUw2s9Yz9_nV",
    "outputId": "a3237a44-1776-452a-9fb1-a28e2e5c0229"
   },
   "outputs": [
    {
     "name": "stdout",
     "output_type": "stream",
     "text": [
      "Average accuracy: 0.746417445482866\n"
     ]
    }
   ],
   "source": [
    "from sklearn.metrics import accuracy_score\n",
    "y_proba_cb = model.predict_proba(test_pool)\n",
    "y_proba_avg = np.argmax((y_proba_cb + y_proba_bert)/2, axis=1)\n",
    "print(f'Average accuracy: {accuracy_score(y_true, y_proba_avg)}')"
   ]
  },
  {
   "cell_type": "markdown",
   "metadata": {
    "id": "grd7HutLcp52"
   },
   "source": [
    "# Sber bert model\n",
    "Сберовская модель, которая определяет сентимент на основе дополнительной метрики меры информации. Не работает для длинных сообщений"
   ]
  },
  {
   "cell_type": "code",
   "execution_count": null,
   "metadata": {
    "id": "wkSQKkRJaiMl"
   },
   "outputs": [],
   "source": [
    "from transformers import GPT2Tokenizer, GPT2LMHeadModel\n",
    "import math\n",
    "import pandas as pd"
   ]
  },
  {
   "cell_type": "code",
   "execution_count": null,
   "metadata": {
    "id": "yZ_yoG4Rcx3s"
   },
   "outputs": [],
   "source": [
    "#загрузка моделей из hugging face\n",
    "tokenizer = GPT2Tokenizer.from_pretrained(\"sberbank-ai/rugpt3large_based_on_gpt2\", add_prefix_space=True)\n",
    "gpt3_large = GPT2LMHeadModel.from_pretrained(\"sberbank-ai/rugpt3large_based_on_gpt2\")\n",
    "#gpt3_large = gpt3_large.to(device)"
   ]
  },
  {
   "cell_type": "code",
   "execution_count": null,
   "metadata": {
    "id": "T9k9ZGmTc0A3"
   },
   "outputs": [],
   "source": [
    "def calculate_perplexity(sentence, model, tokenizer):\n",
    "    sentence_positive = 'довольна:'+sentence               \n",
    "    sentence_negative = 'недовольна:'+sentence               \n",
    "    list_sent = [sentence_positive, sentence_negative]\n",
    "    ppl_values = []\n",
    "\n",
    "    for sentence in list_sent:\n",
    "        encodings = tokenizer(sentence, return_tensors='pt')\n",
    "        input_ids = encodings.input_ids #.to(device)\n",
    "        with torch.no_grad():\n",
    "            outputs = gpt3_large(input_ids=input_ids, labels=input_ids)\n",
    "        loss = outputs.loss\n",
    "        try:\n",
    "            ppl = math.exp(loss.item() * input_ids.size(1)) #было произведение\n",
    "        except OverflowError:\n",
    "            ppl = float(10**100)\n",
    "        ppl_values.append(ppl)\n",
    "    \n",
    "    if ppl_values[0] > ppl_values[1]:\n",
    "        return \"отрицательный\" # отрицательный ppl_values[1] - ppl_values[0] \n",
    "    elif ppl_values[0] < ppl_values[1]:\n",
    "        return  1 # положительный ppl_values[1] - ppl_values[0]"
   ]
  },
  {
   "cell_type": "code",
   "execution_count": null,
   "metadata": {
    "id": "g4_sC__be3Ve"
   },
   "outputs": [],
   "source": [
    "data = pd.DataFrame()\n",
    "data = data_proc; data\n",
    "data['post_proc'] = data['post_proc'].astype(\"str\")"
   ]
  },
  {
   "cell_type": "code",
   "execution_count": null,
   "metadata": {
    "id": "qmFg1I0uc22W"
   },
   "outputs": [],
   "source": [
    "#reviews = pd.read_excel('путь_до_файла_с_данными')\n",
    "#reviews['sentiment'] = reviews['review'].apply(lambda x: calculate_perplexity(x, gpt3_large, tokenizer))\n",
    "\n",
    "data['sentiment'] = data['post_proc'].apply(lambda x: calculate_perplexity(x, gpt3_large, tokenizer))"
   ]
  },
  {
   "cell_type": "code",
   "execution_count": null,
   "metadata": {
    "colab": {
     "base_uri": "https://localhost:8080/",
     "height": 175
    },
    "id": "lR-x15HdmroT",
    "outputId": "0dd4ae4c-b1f4-48d7-a9a4-210a6fb7a63f"
   },
   "outputs": [
    {
     "data": {
      "text/html": [
       "\n",
       "  <div id=\"df-10224aab-5efd-43c1-8292-181d07185507\">\n",
       "    <div class=\"colab-df-container\">\n",
       "      <div>\n",
       "<style scoped>\n",
       "    .dataframe tbody tr th:only-of-type {\n",
       "        vertical-align: middle;\n",
       "    }\n",
       "\n",
       "    .dataframe tbody tr th {\n",
       "        vertical-align: top;\n",
       "    }\n",
       "\n",
       "    .dataframe thead th {\n",
       "        text-align: right;\n",
       "    }\n",
       "</style>\n",
       "<table border=\"1\" class=\"dataframe\">\n",
       "  <thead>\n",
       "    <tr style=\"text-align: right;\">\n",
       "      <th></th>\n",
       "      <th>sentiment</th>\n",
       "    </tr>\n",
       "  </thead>\n",
       "  <tbody>\n",
       "    <tr>\n",
       "      <th>8</th>\n",
       "      <td>None</td>\n",
       "    </tr>\n",
       "    <tr>\n",
       "      <th>9</th>\n",
       "      <td>None</td>\n",
       "    </tr>\n",
       "    <tr>\n",
       "      <th>10</th>\n",
       "      <td>None</td>\n",
       "    </tr>\n",
       "    <tr>\n",
       "      <th>11</th>\n",
       "      <td>None</td>\n",
       "    </tr>\n",
       "  </tbody>\n",
       "</table>\n",
       "</div>\n",
       "      <button class=\"colab-df-convert\" onclick=\"convertToInteractive('df-10224aab-5efd-43c1-8292-181d07185507')\"\n",
       "              title=\"Convert this dataframe to an interactive table.\"\n",
       "              style=\"display:none;\">\n",
       "        \n",
       "  <svg xmlns=\"http://www.w3.org/2000/svg\" height=\"24px\"viewBox=\"0 0 24 24\"\n",
       "       width=\"24px\">\n",
       "    <path d=\"M0 0h24v24H0V0z\" fill=\"none\"/>\n",
       "    <path d=\"M18.56 5.44l.94 2.06.94-2.06 2.06-.94-2.06-.94-.94-2.06-.94 2.06-2.06.94zm-11 1L8.5 8.5l.94-2.06 2.06-.94-2.06-.94L8.5 2.5l-.94 2.06-2.06.94zm10 10l.94 2.06.94-2.06 2.06-.94-2.06-.94-.94-2.06-.94 2.06-2.06.94z\"/><path d=\"M17.41 7.96l-1.37-1.37c-.4-.4-.92-.59-1.43-.59-.52 0-1.04.2-1.43.59L10.3 9.45l-7.72 7.72c-.78.78-.78 2.05 0 2.83L4 21.41c.39.39.9.59 1.41.59.51 0 1.02-.2 1.41-.59l7.78-7.78 2.81-2.81c.8-.78.8-2.07 0-2.86zM5.41 20L4 18.59l7.72-7.72 1.47 1.35L5.41 20z\"/>\n",
       "  </svg>\n",
       "      </button>\n",
       "      \n",
       "  <style>\n",
       "    .colab-df-container {\n",
       "      display:flex;\n",
       "      flex-wrap:wrap;\n",
       "      gap: 12px;\n",
       "    }\n",
       "\n",
       "    .colab-df-convert {\n",
       "      background-color: #E8F0FE;\n",
       "      border: none;\n",
       "      border-radius: 50%;\n",
       "      cursor: pointer;\n",
       "      display: none;\n",
       "      fill: #1967D2;\n",
       "      height: 32px;\n",
       "      padding: 0 0 0 0;\n",
       "      width: 32px;\n",
       "    }\n",
       "\n",
       "    .colab-df-convert:hover {\n",
       "      background-color: #E2EBFA;\n",
       "      box-shadow: 0px 1px 2px rgba(60, 64, 67, 0.3), 0px 1px 3px 1px rgba(60, 64, 67, 0.15);\n",
       "      fill: #174EA6;\n",
       "    }\n",
       "\n",
       "    [theme=dark] .colab-df-convert {\n",
       "      background-color: #3B4455;\n",
       "      fill: #D2E3FC;\n",
       "    }\n",
       "\n",
       "    [theme=dark] .colab-df-convert:hover {\n",
       "      background-color: #434B5C;\n",
       "      box-shadow: 0px 1px 3px 1px rgba(0, 0, 0, 0.15);\n",
       "      filter: drop-shadow(0px 1px 2px rgba(0, 0, 0, 0.3));\n",
       "      fill: #FFFFFF;\n",
       "    }\n",
       "  </style>\n",
       "\n",
       "      <script>\n",
       "        const buttonEl =\n",
       "          document.querySelector('#df-10224aab-5efd-43c1-8292-181d07185507 button.colab-df-convert');\n",
       "        buttonEl.style.display =\n",
       "          google.colab.kernel.accessAllowed ? 'block' : 'none';\n",
       "\n",
       "        async function convertToInteractive(key) {\n",
       "          const element = document.querySelector('#df-10224aab-5efd-43c1-8292-181d07185507');\n",
       "          const dataTable =\n",
       "            await google.colab.kernel.invokeFunction('convertToInteractive',\n",
       "                                                     [key], {});\n",
       "          if (!dataTable) return;\n",
       "\n",
       "          const docLinkHtml = 'Like what you see? Visit the ' +\n",
       "            '<a target=\"_blank\" href=https://colab.research.google.com/notebooks/data_table.ipynb>data table notebook</a>'\n",
       "            + ' to learn more about interactive tables.';\n",
       "          element.innerHTML = '';\n",
       "          dataTable['output_type'] = 'display_data';\n",
       "          await google.colab.output.renderOutput(dataTable, element);\n",
       "          const docLink = document.createElement('div');\n",
       "          docLink.innerHTML = docLinkHtml;\n",
       "          element.appendChild(docLink);\n",
       "        }\n",
       "      </script>\n",
       "    </div>\n",
       "  </div>\n",
       "  "
      ],
      "text/plain": [
       "   sentiment\n",
       "8       None\n",
       "9       None\n",
       "10      None\n",
       "11      None"
      ]
     },
     "execution_count": 64,
     "metadata": {},
     "output_type": "execute_result"
    }
   ],
   "source": [
    "data"
   ]
  },
  {
   "cell_type": "code",
   "execution_count": null,
   "metadata": {
    "colab": {
     "base_uri": "https://localhost:8080/"
    },
    "id": "Qbjj9Qq4hwEo",
    "outputId": "b01c9b55-e53e-4b30-ad85-da276da32b36"
   },
   "outputs": [
    {
     "name": "stdout",
     "output_type": "stream",
     "text": [
      "[[ 1.00000000e+00  9.68119447e-23  1.32897196e-22 -1.27344342e-22\n",
      "  -9.23045582e-22 -7.82784472e-21]]\n"
     ]
    }
   ],
   "source": [
    "# from sklearn import preprocessing\n",
    "\n",
    "# array = np.array(reviews['sentiment'])\n",
    "# #reviews['sentiment'] = scaler.transform(reviews['sentiment'])\n",
    "# reviews\n",
    "\n",
    "# x_array = np.array(reviews['sentiment'])\n",
    "# normalized_arr = preprocessing.normalize([x_array])\n",
    "\n",
    "# print(normalized_arr)"
   ]
  },
  {
   "cell_type": "markdown",
   "metadata": {
    "id": "let3_79bah9F"
   },
   "source": [
    "# TextBlob\n",
    "Работает только с англйиским"
   ]
  },
  {
   "cell_type": "markdown",
   "metadata": {
    "id": "ZCPRwGwqcG04"
   },
   "source": [
    "https://dev-gang.ru/article/analiz-tonalnosti-v-python-s-pomosczu-textblob-gig60q9gat/"
   ]
  },
  {
   "cell_type": "code",
   "execution_count": null,
   "metadata": {
    "colab": {
     "base_uri": "https://localhost:8080/"
    },
    "id": "03gOfXLRbe48",
    "outputId": "e6acddd4-d2b7-4114-b65b-08eeb7e5630e"
   },
   "outputs": [
    {
     "name": "stdout",
     "output_type": "stream",
     "text": [
      "Looking in indexes: https://pypi.org/simple, https://us-python.pkg.dev/colab-wheels/public/simple/\n",
      "Requirement already satisfied: textblob in /usr/local/lib/python3.8/dist-packages (0.15.3)\n",
      "Requirement already satisfied: nltk>=3.1 in /usr/local/lib/python3.8/dist-packages (from textblob) (3.7)\n",
      "Requirement already satisfied: tqdm in /usr/local/lib/python3.8/dist-packages (from nltk>=3.1->textblob) (4.64.1)\n",
      "Requirement already satisfied: regex>=2021.8.3 in /usr/local/lib/python3.8/dist-packages (from nltk>=3.1->textblob) (2022.6.2)\n",
      "Requirement already satisfied: joblib in /usr/local/lib/python3.8/dist-packages (from nltk>=3.1->textblob) (1.2.0)\n",
      "Requirement already satisfied: click in /usr/local/lib/python3.8/dist-packages (from nltk>=3.1->textblob) (7.1.2)\n"
     ]
    }
   ],
   "source": [
    "! pip install textblob"
   ]
  },
  {
   "cell_type": "code",
   "execution_count": null,
   "metadata": {
    "colab": {
     "base_uri": "https://localhost:8080/",
     "height": 1000
    },
    "id": "yCE_yn-Fai88",
    "outputId": "7350f65a-aeec-4b15-8d14-a36f9cfa77a2"
   },
   "outputs": [
    {
     "name": "stdout",
     "output_type": "stream",
     "text": [
      "\n",
      "**********************************************************************\n",
      "  Resource \u001b[93mmovie_reviews\u001b[0m not found.\n",
      "  Please use the NLTK Downloader to obtain the resource:\n",
      "\n",
      "  \u001b[31m>>> import nltk\n",
      "  >>> nltk.download('movie_reviews')\n",
      "  \u001b[0m\n",
      "  For more information see: https://www.nltk.org/data.html\n",
      "\n",
      "  Attempted to load \u001b[93mcorpora/movie_reviews\u001b[0m\n",
      "\n",
      "  Searched in:\n",
      "    - '/root/nltk_data'\n",
      "    - '/usr/nltk_data'\n",
      "    - '/usr/share/nltk_data'\n",
      "    - '/usr/lib/nltk_data'\n",
      "    - '/usr/share/nltk_data'\n",
      "    - '/usr/local/share/nltk_data'\n",
      "    - '/usr/lib/nltk_data'\n",
      "    - '/usr/local/lib/nltk_data'\n",
      "**********************************************************************\n",
      "\n"
     ]
    },
    {
     "ename": "MissingCorpusError",
     "evalue": "ignored",
     "output_type": "error",
     "traceback": [
      "\u001b[0;31m---------------------------------------------------------------------------\u001b[0m",
      "\u001b[0;31mLookupError\u001b[0m                               Traceback (most recent call last)",
      "\u001b[0;32m/usr/local/lib/python3.8/dist-packages/nltk/corpus/util.py\u001b[0m in \u001b[0;36m__load\u001b[0;34m(self)\u001b[0m\n\u001b[1;32m     83\u001b[0m                 \u001b[0;32mtry\u001b[0m\u001b[0;34m:\u001b[0m\u001b[0;34m\u001b[0m\u001b[0;34m\u001b[0m\u001b[0m\n\u001b[0;32m---> 84\u001b[0;31m                     \u001b[0mroot\u001b[0m \u001b[0;34m=\u001b[0m \u001b[0mnltk\u001b[0m\u001b[0;34m.\u001b[0m\u001b[0mdata\u001b[0m\u001b[0;34m.\u001b[0m\u001b[0mfind\u001b[0m\u001b[0;34m(\u001b[0m\u001b[0;34mf\"{self.subdir}/{zip_name}\"\u001b[0m\u001b[0;34m)\u001b[0m\u001b[0;34m\u001b[0m\u001b[0;34m\u001b[0m\u001b[0m\n\u001b[0m\u001b[1;32m     85\u001b[0m                 \u001b[0;32mexcept\u001b[0m \u001b[0mLookupError\u001b[0m\u001b[0;34m:\u001b[0m\u001b[0;34m\u001b[0m\u001b[0;34m\u001b[0m\u001b[0m\n",
      "\u001b[0;32m/usr/local/lib/python3.8/dist-packages/nltk/data.py\u001b[0m in \u001b[0;36mfind\u001b[0;34m(resource_name, paths)\u001b[0m\n\u001b[1;32m    582\u001b[0m     \u001b[0mresource_not_found\u001b[0m \u001b[0;34m=\u001b[0m \u001b[0;34mf\"\\n{sep}\\n{msg}\\n{sep}\\n\"\u001b[0m\u001b[0;34m\u001b[0m\u001b[0;34m\u001b[0m\u001b[0m\n\u001b[0;32m--> 583\u001b[0;31m     \u001b[0;32mraise\u001b[0m \u001b[0mLookupError\u001b[0m\u001b[0;34m(\u001b[0m\u001b[0mresource_not_found\u001b[0m\u001b[0;34m)\u001b[0m\u001b[0;34m\u001b[0m\u001b[0;34m\u001b[0m\u001b[0m\n\u001b[0m\u001b[1;32m    584\u001b[0m \u001b[0;34m\u001b[0m\u001b[0m\n",
      "\u001b[0;31mLookupError\u001b[0m: \n**********************************************************************\n  Resource \u001b[93mmovie_reviews\u001b[0m not found.\n  Please use the NLTK Downloader to obtain the resource:\n\n  \u001b[31m>>> import nltk\n  >>> nltk.download('movie_reviews')\n  \u001b[0m\n  For more information see: https://www.nltk.org/data.html\n\n  Attempted to load \u001b[93mcorpora/movie_reviews.zip/movie_reviews/\u001b[0m\n\n  Searched in:\n    - '/root/nltk_data'\n    - '/usr/nltk_data'\n    - '/usr/share/nltk_data'\n    - '/usr/lib/nltk_data'\n    - '/usr/share/nltk_data'\n    - '/usr/local/share/nltk_data'\n    - '/usr/lib/nltk_data'\n    - '/usr/local/lib/nltk_data'\n**********************************************************************\n",
      "\nDuring handling of the above exception, another exception occurred:\n",
      "\u001b[0;31mLookupError\u001b[0m                               Traceback (most recent call last)",
      "\u001b[0;32m/usr/local/lib/python3.8/dist-packages/textblob/decorators.py\u001b[0m in \u001b[0;36mdecorated\u001b[0;34m(*args, **kwargs)\u001b[0m\n\u001b[1;32m     34\u001b[0m         \u001b[0;32mtry\u001b[0m\u001b[0;34m:\u001b[0m\u001b[0;34m\u001b[0m\u001b[0;34m\u001b[0m\u001b[0m\n\u001b[0;32m---> 35\u001b[0;31m             \u001b[0;32mreturn\u001b[0m \u001b[0mfunc\u001b[0m\u001b[0;34m(\u001b[0m\u001b[0;34m*\u001b[0m\u001b[0margs\u001b[0m\u001b[0;34m,\u001b[0m \u001b[0;34m**\u001b[0m\u001b[0mkwargs\u001b[0m\u001b[0;34m)\u001b[0m\u001b[0;34m\u001b[0m\u001b[0;34m\u001b[0m\u001b[0m\n\u001b[0m\u001b[1;32m     36\u001b[0m         \u001b[0;32mexcept\u001b[0m \u001b[0mLookupError\u001b[0m \u001b[0;32mas\u001b[0m \u001b[0merr\u001b[0m\u001b[0;34m:\u001b[0m\u001b[0;34m\u001b[0m\u001b[0;34m\u001b[0m\u001b[0m\n",
      "\u001b[0;32m/usr/local/lib/python3.8/dist-packages/textblob/en/sentiments.py\u001b[0m in \u001b[0;36mtrain\u001b[0;34m(self)\u001b[0m\n\u001b[1;32m     73\u001b[0m         \u001b[0msuper\u001b[0m\u001b[0;34m(\u001b[0m\u001b[0mNaiveBayesAnalyzer\u001b[0m\u001b[0;34m,\u001b[0m \u001b[0mself\u001b[0m\u001b[0;34m)\u001b[0m\u001b[0;34m.\u001b[0m\u001b[0mtrain\u001b[0m\u001b[0;34m(\u001b[0m\u001b[0;34m)\u001b[0m\u001b[0;34m\u001b[0m\u001b[0;34m\u001b[0m\u001b[0m\n\u001b[0;32m---> 74\u001b[0;31m         \u001b[0mneg_ids\u001b[0m \u001b[0;34m=\u001b[0m \u001b[0mnltk\u001b[0m\u001b[0;34m.\u001b[0m\u001b[0mcorpus\u001b[0m\u001b[0;34m.\u001b[0m\u001b[0mmovie_reviews\u001b[0m\u001b[0;34m.\u001b[0m\u001b[0mfileids\u001b[0m\u001b[0;34m(\u001b[0m\u001b[0;34m'neg'\u001b[0m\u001b[0;34m)\u001b[0m\u001b[0;34m\u001b[0m\u001b[0;34m\u001b[0m\u001b[0m\n\u001b[0m\u001b[1;32m     75\u001b[0m         \u001b[0mpos_ids\u001b[0m \u001b[0;34m=\u001b[0m \u001b[0mnltk\u001b[0m\u001b[0;34m.\u001b[0m\u001b[0mcorpus\u001b[0m\u001b[0;34m.\u001b[0m\u001b[0mmovie_reviews\u001b[0m\u001b[0;34m.\u001b[0m\u001b[0mfileids\u001b[0m\u001b[0;34m(\u001b[0m\u001b[0;34m'pos'\u001b[0m\u001b[0;34m)\u001b[0m\u001b[0;34m\u001b[0m\u001b[0;34m\u001b[0m\u001b[0m\n",
      "\u001b[0;32m/usr/local/lib/python3.8/dist-packages/nltk/corpus/util.py\u001b[0m in \u001b[0;36m__getattr__\u001b[0;34m(self, attr)\u001b[0m\n\u001b[1;32m    120\u001b[0m \u001b[0;34m\u001b[0m\u001b[0m\n\u001b[0;32m--> 121\u001b[0;31m         \u001b[0mself\u001b[0m\u001b[0;34m.\u001b[0m\u001b[0m__load\u001b[0m\u001b[0;34m(\u001b[0m\u001b[0;34m)\u001b[0m\u001b[0;34m\u001b[0m\u001b[0;34m\u001b[0m\u001b[0m\n\u001b[0m\u001b[1;32m    122\u001b[0m         \u001b[0;31m# This looks circular, but its not, since __load() changes our\u001b[0m\u001b[0;34m\u001b[0m\u001b[0;34m\u001b[0m\u001b[0;34m\u001b[0m\u001b[0m\n",
      "\u001b[0;32m/usr/local/lib/python3.8/dist-packages/nltk/corpus/util.py\u001b[0m in \u001b[0;36m__load\u001b[0;34m(self)\u001b[0m\n\u001b[1;32m     85\u001b[0m                 \u001b[0;32mexcept\u001b[0m \u001b[0mLookupError\u001b[0m\u001b[0;34m:\u001b[0m\u001b[0;34m\u001b[0m\u001b[0;34m\u001b[0m\u001b[0m\n\u001b[0;32m---> 86\u001b[0;31m                     \u001b[0;32mraise\u001b[0m \u001b[0me\u001b[0m\u001b[0;34m\u001b[0m\u001b[0;34m\u001b[0m\u001b[0m\n\u001b[0m\u001b[1;32m     87\u001b[0m \u001b[0;34m\u001b[0m\u001b[0m\n",
      "\u001b[0;32m/usr/local/lib/python3.8/dist-packages/nltk/corpus/util.py\u001b[0m in \u001b[0;36m__load\u001b[0;34m(self)\u001b[0m\n\u001b[1;32m     80\u001b[0m             \u001b[0;32mtry\u001b[0m\u001b[0;34m:\u001b[0m\u001b[0;34m\u001b[0m\u001b[0;34m\u001b[0m\u001b[0m\n\u001b[0;32m---> 81\u001b[0;31m                 \u001b[0mroot\u001b[0m \u001b[0;34m=\u001b[0m \u001b[0mnltk\u001b[0m\u001b[0;34m.\u001b[0m\u001b[0mdata\u001b[0m\u001b[0;34m.\u001b[0m\u001b[0mfind\u001b[0m\u001b[0;34m(\u001b[0m\u001b[0;34mf\"{self.subdir}/{self.__name}\"\u001b[0m\u001b[0;34m)\u001b[0m\u001b[0;34m\u001b[0m\u001b[0;34m\u001b[0m\u001b[0m\n\u001b[0m\u001b[1;32m     82\u001b[0m             \u001b[0;32mexcept\u001b[0m \u001b[0mLookupError\u001b[0m \u001b[0;32mas\u001b[0m \u001b[0me\u001b[0m\u001b[0;34m:\u001b[0m\u001b[0;34m\u001b[0m\u001b[0;34m\u001b[0m\u001b[0m\n",
      "\u001b[0;32m/usr/local/lib/python3.8/dist-packages/nltk/data.py\u001b[0m in \u001b[0;36mfind\u001b[0;34m(resource_name, paths)\u001b[0m\n\u001b[1;32m    582\u001b[0m     \u001b[0mresource_not_found\u001b[0m \u001b[0;34m=\u001b[0m \u001b[0;34mf\"\\n{sep}\\n{msg}\\n{sep}\\n\"\u001b[0m\u001b[0;34m\u001b[0m\u001b[0;34m\u001b[0m\u001b[0m\n\u001b[0;32m--> 583\u001b[0;31m     \u001b[0;32mraise\u001b[0m \u001b[0mLookupError\u001b[0m\u001b[0;34m(\u001b[0m\u001b[0mresource_not_found\u001b[0m\u001b[0;34m)\u001b[0m\u001b[0;34m\u001b[0m\u001b[0;34m\u001b[0m\u001b[0m\n\u001b[0m\u001b[1;32m    584\u001b[0m \u001b[0;34m\u001b[0m\u001b[0m\n",
      "\u001b[0;31mLookupError\u001b[0m: \n**********************************************************************\n  Resource \u001b[93mmovie_reviews\u001b[0m not found.\n  Please use the NLTK Downloader to obtain the resource:\n\n  \u001b[31m>>> import nltk\n  >>> nltk.download('movie_reviews')\n  \u001b[0m\n  For more information see: https://www.nltk.org/data.html\n\n  Attempted to load \u001b[93mcorpora/movie_reviews\u001b[0m\n\n  Searched in:\n    - '/root/nltk_data'\n    - '/usr/nltk_data'\n    - '/usr/share/nltk_data'\n    - '/usr/lib/nltk_data'\n    - '/usr/share/nltk_data'\n    - '/usr/local/share/nltk_data'\n    - '/usr/lib/nltk_data'\n    - '/usr/local/lib/nltk_data'\n**********************************************************************\n",
      "\nDuring handling of the above exception, another exception occurred:\n",
      "\u001b[0;31mMissingCorpusError\u001b[0m                        Traceback (most recent call last)",
      "\u001b[0;32m<ipython-input-51-624f9d8d8501>\u001b[0m in \u001b[0;36m<module>\u001b[0;34m\u001b[0m\n\u001b[1;32m      6\u001b[0m \u001b[0mblob_object\u001b[0m \u001b[0;34m=\u001b[0m \u001b[0mTextBlob\u001b[0m\u001b[0;34m(\u001b[0m\u001b[0msentence\u001b[0m\u001b[0;34m,\u001b[0m \u001b[0manalyzer\u001b[0m\u001b[0;34m=\u001b[0m\u001b[0mNaiveBayesAnalyzer\u001b[0m\u001b[0;34m(\u001b[0m\u001b[0;34m)\u001b[0m\u001b[0;34m)\u001b[0m\u001b[0;34m\u001b[0m\u001b[0;34m\u001b[0m\u001b[0m\n\u001b[1;32m      7\u001b[0m \u001b[0;34m\u001b[0m\u001b[0m\n\u001b[0;32m----> 8\u001b[0;31m \u001b[0manalysis\u001b[0m \u001b[0;34m=\u001b[0m \u001b[0mblob_object\u001b[0m\u001b[0;34m.\u001b[0m\u001b[0msentiment\u001b[0m\u001b[0;34m\u001b[0m\u001b[0;34m\u001b[0m\u001b[0m\n\u001b[0m\u001b[1;32m      9\u001b[0m \u001b[0mprint\u001b[0m\u001b[0;34m(\u001b[0m\u001b[0manalysis\u001b[0m\u001b[0;34m)\u001b[0m\u001b[0;34m\u001b[0m\u001b[0;34m\u001b[0m\u001b[0m\n",
      "\u001b[0;32m/usr/local/lib/python3.8/dist-packages/textblob/decorators.py\u001b[0m in \u001b[0;36m__get__\u001b[0;34m(self, obj, cls)\u001b[0m\n\u001b[1;32m     22\u001b[0m         \u001b[0;32mif\u001b[0m \u001b[0mobj\u001b[0m \u001b[0;32mis\u001b[0m \u001b[0;32mNone\u001b[0m\u001b[0;34m:\u001b[0m\u001b[0;34m\u001b[0m\u001b[0;34m\u001b[0m\u001b[0m\n\u001b[1;32m     23\u001b[0m             \u001b[0;32mreturn\u001b[0m \u001b[0mself\u001b[0m\u001b[0;34m\u001b[0m\u001b[0;34m\u001b[0m\u001b[0m\n\u001b[0;32m---> 24\u001b[0;31m         \u001b[0mvalue\u001b[0m \u001b[0;34m=\u001b[0m \u001b[0mobj\u001b[0m\u001b[0;34m.\u001b[0m\u001b[0m__dict__\u001b[0m\u001b[0;34m[\u001b[0m\u001b[0mself\u001b[0m\u001b[0;34m.\u001b[0m\u001b[0mfunc\u001b[0m\u001b[0;34m.\u001b[0m\u001b[0m__name__\u001b[0m\u001b[0;34m]\u001b[0m \u001b[0;34m=\u001b[0m \u001b[0mself\u001b[0m\u001b[0;34m.\u001b[0m\u001b[0mfunc\u001b[0m\u001b[0;34m(\u001b[0m\u001b[0mobj\u001b[0m\u001b[0;34m)\u001b[0m\u001b[0;34m\u001b[0m\u001b[0;34m\u001b[0m\u001b[0m\n\u001b[0m\u001b[1;32m     25\u001b[0m         \u001b[0;32mreturn\u001b[0m \u001b[0mvalue\u001b[0m\u001b[0;34m\u001b[0m\u001b[0;34m\u001b[0m\u001b[0m\n\u001b[1;32m     26\u001b[0m \u001b[0;34m\u001b[0m\u001b[0m\n",
      "\u001b[0;32m/usr/local/lib/python3.8/dist-packages/textblob/blob.py\u001b[0m in \u001b[0;36msentiment\u001b[0;34m(self)\u001b[0m\n\u001b[1;32m    430\u001b[0m         \u001b[0;34m:\u001b[0m\u001b[0mrtype\u001b[0m\u001b[0;34m:\u001b[0m \u001b[0mnamedtuple\u001b[0m \u001b[0mof\u001b[0m \u001b[0mthe\u001b[0m \u001b[0mform\u001b[0m\u001b[0;31m \u001b[0m\u001b[0;31m`\u001b[0m\u001b[0;31m`\u001b[0m\u001b[0mSentiment\u001b[0m\u001b[0;34m(\u001b[0m\u001b[0mpolarity\u001b[0m\u001b[0;34m,\u001b[0m \u001b[0msubjectivity\u001b[0m\u001b[0;34m)\u001b[0m\u001b[0;31m`\u001b[0m\u001b[0;31m`\u001b[0m\u001b[0;34m\u001b[0m\u001b[0;34m\u001b[0m\u001b[0m\n\u001b[1;32m    431\u001b[0m         \"\"\"\n\u001b[0;32m--> 432\u001b[0;31m         \u001b[0;32mreturn\u001b[0m \u001b[0mself\u001b[0m\u001b[0;34m.\u001b[0m\u001b[0manalyzer\u001b[0m\u001b[0;34m.\u001b[0m\u001b[0manalyze\u001b[0m\u001b[0;34m(\u001b[0m\u001b[0mself\u001b[0m\u001b[0;34m.\u001b[0m\u001b[0mraw\u001b[0m\u001b[0;34m)\u001b[0m\u001b[0;34m\u001b[0m\u001b[0;34m\u001b[0m\u001b[0m\n\u001b[0m\u001b[1;32m    433\u001b[0m \u001b[0;34m\u001b[0m\u001b[0m\n\u001b[1;32m    434\u001b[0m     \u001b[0;34m@\u001b[0m\u001b[0mcached_property\u001b[0m\u001b[0;34m\u001b[0m\u001b[0;34m\u001b[0m\u001b[0m\n",
      "\u001b[0;32m/usr/local/lib/python3.8/dist-packages/textblob/en/sentiments.py\u001b[0m in \u001b[0;36manalyze\u001b[0;34m(self, text)\u001b[0m\n\u001b[1;32m     86\u001b[0m         \"\"\"\n\u001b[1;32m     87\u001b[0m         \u001b[0;31m# Lazily train the classifier\u001b[0m\u001b[0;34m\u001b[0m\u001b[0;34m\u001b[0m\u001b[0;34m\u001b[0m\u001b[0m\n\u001b[0;32m---> 88\u001b[0;31m         \u001b[0msuper\u001b[0m\u001b[0;34m(\u001b[0m\u001b[0mNaiveBayesAnalyzer\u001b[0m\u001b[0;34m,\u001b[0m \u001b[0mself\u001b[0m\u001b[0;34m)\u001b[0m\u001b[0;34m.\u001b[0m\u001b[0manalyze\u001b[0m\u001b[0;34m(\u001b[0m\u001b[0mtext\u001b[0m\u001b[0;34m)\u001b[0m\u001b[0;34m\u001b[0m\u001b[0;34m\u001b[0m\u001b[0m\n\u001b[0m\u001b[1;32m     89\u001b[0m         \u001b[0mtokens\u001b[0m \u001b[0;34m=\u001b[0m \u001b[0mword_tokenize\u001b[0m\u001b[0;34m(\u001b[0m\u001b[0mtext\u001b[0m\u001b[0;34m,\u001b[0m \u001b[0minclude_punc\u001b[0m\u001b[0;34m=\u001b[0m\u001b[0;32mFalse\u001b[0m\u001b[0;34m)\u001b[0m\u001b[0;34m\u001b[0m\u001b[0;34m\u001b[0m\u001b[0m\n\u001b[1;32m     90\u001b[0m         \u001b[0mfiltered\u001b[0m \u001b[0;34m=\u001b[0m \u001b[0;34m(\u001b[0m\u001b[0mt\u001b[0m\u001b[0;34m.\u001b[0m\u001b[0mlower\u001b[0m\u001b[0;34m(\u001b[0m\u001b[0;34m)\u001b[0m \u001b[0;32mfor\u001b[0m \u001b[0mt\u001b[0m \u001b[0;32min\u001b[0m \u001b[0mtokens\u001b[0m \u001b[0;32mif\u001b[0m \u001b[0mlen\u001b[0m\u001b[0;34m(\u001b[0m\u001b[0mt\u001b[0m\u001b[0;34m)\u001b[0m \u001b[0;34m>=\u001b[0m \u001b[0;36m3\u001b[0m\u001b[0;34m)\u001b[0m\u001b[0;34m\u001b[0m\u001b[0;34m\u001b[0m\u001b[0m\n",
      "\u001b[0;32m/usr/local/lib/python3.8/dist-packages/textblob/base.py\u001b[0m in \u001b[0;36manalyze\u001b[0;34m(self, text)\u001b[0m\n\u001b[1;32m     92\u001b[0m         \u001b[0;31m# Lazily train the classifier\u001b[0m\u001b[0;34m\u001b[0m\u001b[0;34m\u001b[0m\u001b[0;34m\u001b[0m\u001b[0m\n\u001b[1;32m     93\u001b[0m         \u001b[0;32mif\u001b[0m \u001b[0;32mnot\u001b[0m \u001b[0mself\u001b[0m\u001b[0;34m.\u001b[0m\u001b[0m_trained\u001b[0m\u001b[0;34m:\u001b[0m\u001b[0;34m\u001b[0m\u001b[0;34m\u001b[0m\u001b[0m\n\u001b[0;32m---> 94\u001b[0;31m             \u001b[0mself\u001b[0m\u001b[0;34m.\u001b[0m\u001b[0mtrain\u001b[0m\u001b[0;34m(\u001b[0m\u001b[0;34m)\u001b[0m\u001b[0;34m\u001b[0m\u001b[0;34m\u001b[0m\u001b[0m\n\u001b[0m\u001b[1;32m     95\u001b[0m         \u001b[0;31m# Analyze text\u001b[0m\u001b[0;34m\u001b[0m\u001b[0;34m\u001b[0m\u001b[0;34m\u001b[0m\u001b[0m\n\u001b[1;32m     96\u001b[0m         \u001b[0;32mreturn\u001b[0m \u001b[0;32mNone\u001b[0m\u001b[0;34m\u001b[0m\u001b[0;34m\u001b[0m\u001b[0m\n",
      "\u001b[0;32m/usr/local/lib/python3.8/dist-packages/textblob/decorators.py\u001b[0m in \u001b[0;36mdecorated\u001b[0;34m(*args, **kwargs)\u001b[0m\n\u001b[1;32m     36\u001b[0m         \u001b[0;32mexcept\u001b[0m \u001b[0mLookupError\u001b[0m \u001b[0;32mas\u001b[0m \u001b[0merr\u001b[0m\u001b[0;34m:\u001b[0m\u001b[0;34m\u001b[0m\u001b[0;34m\u001b[0m\u001b[0m\n\u001b[1;32m     37\u001b[0m             \u001b[0mprint\u001b[0m\u001b[0;34m(\u001b[0m\u001b[0merr\u001b[0m\u001b[0;34m)\u001b[0m\u001b[0;34m\u001b[0m\u001b[0;34m\u001b[0m\u001b[0m\n\u001b[0;32m---> 38\u001b[0;31m             \u001b[0;32mraise\u001b[0m \u001b[0mMissingCorpusError\u001b[0m\u001b[0;34m(\u001b[0m\u001b[0;34m)\u001b[0m\u001b[0;34m\u001b[0m\u001b[0;34m\u001b[0m\u001b[0m\n\u001b[0m\u001b[1;32m     39\u001b[0m     \u001b[0;32mreturn\u001b[0m \u001b[0mdecorated\u001b[0m\u001b[0;34m\u001b[0m\u001b[0;34m\u001b[0m\u001b[0m\n",
      "\u001b[0;31mMissingCorpusError\u001b[0m: \nLooks like you are missing some required data for this feature.\n\nTo download the necessary data, simply run\n\n    python -m textblob.download_corpora\n\nor use the NLTK downloader to download the missing data: http://nltk.org/data.html\nIf this doesn't fix the problem, file an issue at https://github.com/sloria/TextBlob/issues.\n"
     ]
    }
   ],
   "source": [
    "from textblob import TextBlob\n",
    "from textblob.sentiments import NaiveBayesAnalyzer\n",
    "\n",
    "sentence = \"Very bad stock\"\n",
    "\n",
    "blob_object = TextBlob(sentence, analyzer=NaiveBayesAnalyzer())\n",
    "\n",
    "analysis = blob_object.sentiment\n",
    "print(analysis)"
   ]
  },
  {
   "cell_type": "markdown",
   "metadata": {
    "id": "CD-3Wz_dWumh"
   },
   "source": [
    "# Dostoevsky\n",
    "Определяет neg, pos, neutral. Но пока видимая проблема в том, что нет ярко окрашенных негативных или позитивных сообщений, что с другой стороны нормально, так как выбросы будут очень редкими"
   ]
  },
  {
   "cell_type": "markdown",
   "metadata": {
    "id": "znR2f42MW0wq"
   },
   "source": [
    "https://leftjoin.ru/all/constitution-sentiment-analysis/\n",
    "https://github.com/bureaucratic-labs/dostoevsky\n"
   ]
  },
  {
   "cell_type": "code",
   "execution_count": null,
   "metadata": {
    "colab": {
     "base_uri": "https://localhost:8080/"
    },
    "id": "V0I3axTQSvkj",
    "outputId": "7c92f0ec-7e2b-4df0-904f-ee8b7cf48a1f"
   },
   "outputs": [
    {
     "name": "stdout",
     "output_type": "stream",
     "text": [
      "Looking in indexes: https://pypi.org/simple, https://us-python.pkg.dev/colab-wheels/public/simple/\n",
      "Collecting dostoevsky\n",
      "  Downloading dostoevsky-0.6.0-py2.py3-none-any.whl (8.5 kB)\n",
      "Collecting razdel==0.5.0\n",
      "  Downloading razdel-0.5.0-py3-none-any.whl (21 kB)\n",
      "Collecting fasttext==0.9.2\n",
      "  Downloading fasttext-0.9.2.tar.gz (68 kB)\n",
      "\u001b[2K     \u001b[90m━━━━━━━━━━━━━━━━━━━━━━━━━━━━━━━━━━━━━━━━\u001b[0m \u001b[32m68.8/68.8 KB\u001b[0m \u001b[31m6.7 MB/s\u001b[0m eta \u001b[36m0:00:00\u001b[0m\n",
      "\u001b[?25h  Preparing metadata (setup.py) ... \u001b[?25l\u001b[?25hdone\n",
      "Collecting pybind11>=2.2\n",
      "  Using cached pybind11-2.10.3-py3-none-any.whl (222 kB)\n",
      "Requirement already satisfied: setuptools>=0.7.0 in /usr/local/lib/python3.8/dist-packages (from fasttext==0.9.2->dostoevsky) (57.4.0)\n",
      "Requirement already satisfied: numpy in /usr/local/lib/python3.8/dist-packages (from fasttext==0.9.2->dostoevsky) (1.21.6)\n",
      "Building wheels for collected packages: fasttext\n",
      "  Building wheel for fasttext (setup.py) ... \u001b[?25l\u001b[?25hdone\n",
      "  Created wheel for fasttext: filename=fasttext-0.9.2-cp38-cp38-linux_x86_64.whl size=4397803 sha256=346bed02cfb08cb35877e9d3dcdff3edda9fd49b6e58aaacb98651235d23b930\n",
      "  Stored in directory: /root/.cache/pip/wheels/93/61/2a/c54711a91c418ba06ba195b1d78ff24fcaad8592f2a694ac94\n",
      "Successfully built fasttext\n",
      "Installing collected packages: razdel, pybind11, fasttext, dostoevsky\n",
      "Successfully installed dostoevsky-0.6.0 fasttext-0.9.2 pybind11-2.10.3 razdel-0.5.0\n"
     ]
    }
   ],
   "source": [
    "!pip install dostoevsky"
   ]
  },
  {
   "cell_type": "code",
   "execution_count": null,
   "metadata": {
    "id": "Rar0b5SQSd3L"
   },
   "outputs": [],
   "source": [
    "from dostoevsky.tokenization import RegexTokenizer\n",
    "from dostoevsky.models import FastTextSocialNetworkModel\n",
    "import pandas as pd"
   ]
  },
  {
   "cell_type": "code",
   "execution_count": null,
   "metadata": {
    "id": "3g7EAWuCU7kx"
   },
   "outputs": [],
   "source": [
    "!python -m dostoevsky download fasttext-social-network-model"
   ]
  },
  {
   "cell_type": "code",
   "execution_count": null,
   "metadata": {
    "id": "SEMqKlSlHEsM"
   },
   "outputs": [],
   "source": [
    "res_dost = tmp.iloc[100:125]"
   ]
  },
  {
   "cell_type": "code",
   "execution_count": null,
   "metadata": {
    "id": "t_gW5Vw4g0vZ"
   },
   "outputs": [],
   "source": [
    "dost = pd.DataFrame()\n",
    "dost = data_proc[100:125] \n",
    "for i in range(100,125):\n",
    "  dost['post_proc'][i] = \" \".join(data_proc['post_proc'][i])\n"
   ]
  },
  {
   "cell_type": "code",
   "execution_count": null,
   "metadata": {
    "colab": {
     "base_uri": "https://localhost:8080/"
    },
    "id": "nUUSC6xATGQS",
    "outputId": "78825dcb-0b5f-4dc9-a062-3af90e679370"
   },
   "outputs": [
    {
     "name": "stderr",
     "output_type": "stream",
     "text": [
      "Warning : `load_model` does not return WordVectorModel or SupervisedModel any more, but a `FastText` object which is very similar.\n"
     ]
    }
   ],
   "source": [
    "tokenizer = RegexTokenizer()\n",
    "model = FastTextSocialNetworkModel(tokenizer=tokenizer)\n",
    "sentiment_list = []\n",
    "results = model.predict(res_dost['message'], k=2)\n",
    "for sentiment in results:\n",
    "    sentiment_list.append(sentiment)"
   ]
  },
  {
   "cell_type": "code",
   "execution_count": null,
   "metadata": {
    "colab": {
     "base_uri": "https://localhost:8080/"
    },
    "id": "Ji_BrL51TJ6h",
    "outputId": "4784f0a0-11ac-40a3-cfea-b1b2e63b4bad"
   },
   "outputs": [
    {
     "name": "stderr",
     "output_type": "stream",
     "text": [
      "<ipython-input-186-51fcd1bd8666>:22: SettingWithCopyWarning: \n",
      "A value is trying to be set on a copy of a slice from a DataFrame.\n",
      "Try using .loc[row_indexer,col_indexer] = value instead\n",
      "\n",
      "See the caveats in the documentation: https://pandas.pydata.org/pandas-docs/stable/user_guide/indexing.html#returning-a-view-versus-a-copy\n",
      "  res_dost['neutral'] = neutral_list\n",
      "<ipython-input-186-51fcd1bd8666>:23: SettingWithCopyWarning: \n",
      "A value is trying to be set on a copy of a slice from a DataFrame.\n",
      "Try using .loc[row_indexer,col_indexer] = value instead\n",
      "\n",
      "See the caveats in the documentation: https://pandas.pydata.org/pandas-docs/stable/user_guide/indexing.html#returning-a-view-versus-a-copy\n",
      "  res_dost['negative'] = negative_list\n",
      "<ipython-input-186-51fcd1bd8666>:24: SettingWithCopyWarning: \n",
      "A value is trying to be set on a copy of a slice from a DataFrame.\n",
      "Try using .loc[row_indexer,col_indexer] = value instead\n",
      "\n",
      "See the caveats in the documentation: https://pandas.pydata.org/pandas-docs/stable/user_guide/indexing.html#returning-a-view-versus-a-copy\n",
      "  res_dost['positive'] = positive_list\n"
     ]
    }
   ],
   "source": [
    "neutral_list = []\n",
    "negative_list = []\n",
    "positive_list = []\n",
    "speech_list = []\n",
    "skip_list = []\n",
    "for sentiment in sentiment_list:\n",
    "    neutral = sentiment.get('neutral')\n",
    "    negative = sentiment.get('negative')\n",
    "    positive = sentiment.get('positive')\n",
    "    if neutral is None:\n",
    "        neutral_list.append(0)\n",
    "    else:\n",
    "        neutral_list.append(sentiment.get('neutral'))\n",
    "    if negative is None:\n",
    "        negative_list.append(0)\n",
    "    else:\n",
    "        negative_list.append(sentiment.get('negative'))\n",
    "    if positive is None:\n",
    "        positive_list.append(0)\n",
    "    else:\n",
    "        positive_list.append(sentiment.get('positive'))\n",
    "res_dost['neutral'] = neutral_list\n",
    "res_dost['negative'] = negative_list\n",
    "res_dost['positive'] = positive_list\n",
    "#res_dost = pd.merge(left = data, right = res_dost, right_index=True, left_index=True); res_dost"
   ]
  },
  {
   "cell_type": "code",
   "execution_count": null,
   "metadata": {
    "colab": {
     "base_uri": "https://localhost:8080/",
     "height": 833
    },
    "id": "OoqVV83npwqV",
    "outputId": "ef0d575c-6a74-4d11-9a7b-b003fe25353e"
   },
   "outputs": [
    {
     "data": {
      "text/html": [
       "\n",
       "  <div id=\"df-6f45d233-d588-42d3-924c-0b9cf0c2a174\">\n",
       "    <div class=\"colab-df-container\">\n",
       "      <div>\n",
       "<style scoped>\n",
       "    .dataframe tbody tr th:only-of-type {\n",
       "        vertical-align: middle;\n",
       "    }\n",
       "\n",
       "    .dataframe tbody tr th {\n",
       "        vertical-align: top;\n",
       "    }\n",
       "\n",
       "    .dataframe thead th {\n",
       "        text-align: right;\n",
       "    }\n",
       "</style>\n",
       "<table border=\"1\" class=\"dataframe\">\n",
       "  <thead>\n",
       "    <tr style=\"text-align: right;\">\n",
       "      <th></th>\n",
       "      <th>index</th>\n",
       "      <th>id</th>\n",
       "      <th>date</th>\n",
       "      <th>message</th>\n",
       "      <th>views</th>\n",
       "      <th>forwards</th>\n",
       "      <th>Unnamed: 14</th>\n",
       "      <th>Unnamed: 15</th>\n",
       "      <th>neutral</th>\n",
       "      <th>negative</th>\n",
       "      <th>positive</th>\n",
       "    </tr>\n",
       "  </thead>\n",
       "  <tbody>\n",
       "    <tr>\n",
       "      <th>100</th>\n",
       "      <td>116</td>\n",
       "      <td>16871.0</td>\n",
       "      <td>2022-11-23T11:31:16+00:00</td>\n",
       "      <td>📊 Duke Energy Corporation\\nТикер: DUK\\nИдея: L...</td>\n",
       "      <td>12411.0</td>\n",
       "      <td>6.0</td>\n",
       "      <td>👍</td>\n",
       "      <td>19</td>\n",
       "      <td>0.831153</td>\n",
       "      <td>0.106701</td>\n",
       "      <td>0</td>\n",
       "    </tr>\n",
       "    <tr>\n",
       "      <th>101</th>\n",
       "      <td>117</td>\n",
       "      <td>16870.0</td>\n",
       "      <td>2022-11-23T10:30:41+00:00</td>\n",
       "      <td>📊 ПАО «Дальневосточное морское пароходство»\\nТ...</td>\n",
       "      <td>12247.0</td>\n",
       "      <td>32.0</td>\n",
       "      <td>👍</td>\n",
       "      <td>39</td>\n",
       "      <td>0.754925</td>\n",
       "      <td>0.160276</td>\n",
       "      <td>0</td>\n",
       "    </tr>\n",
       "    <tr>\n",
       "      <th>102</th>\n",
       "      <td>118</td>\n",
       "      <td>16869.0</td>\n",
       "      <td>2022-11-23T09:41:34+00:00</td>\n",
       "      <td>📈Фьючерсы на природный газ (NGX2): потенциальн...</td>\n",
       "      <td>12337.0</td>\n",
       "      <td>13.0</td>\n",
       "      <td>👍</td>\n",
       "      <td>27</td>\n",
       "      <td>0.798197</td>\n",
       "      <td>0.187143</td>\n",
       "      <td>0</td>\n",
       "    </tr>\n",
       "    <tr>\n",
       "      <th>103</th>\n",
       "      <td>119</td>\n",
       "      <td>16868.0</td>\n",
       "      <td>2022-11-23T08:26:12+00:00</td>\n",
       "      <td>«Норникель» борется за уровень 15000 рублей, т...</td>\n",
       "      <td>13838.0</td>\n",
       "      <td>5.0</td>\n",
       "      <td>👍</td>\n",
       "      <td>53</td>\n",
       "      <td>0.712242</td>\n",
       "      <td>0.191943</td>\n",
       "      <td>0</td>\n",
       "    </tr>\n",
       "    <tr>\n",
       "      <th>104</th>\n",
       "      <td>120</td>\n",
       "      <td>16867.0</td>\n",
       "      <td>2022-11-22T17:00:42+00:00</td>\n",
       "      <td>Встреча с Ozon: бизнес в новых условиях\\n\\n🤝Мы...</td>\n",
       "      <td>14537.0</td>\n",
       "      <td>7.0</td>\n",
       "      <td>👍</td>\n",
       "      <td>23</td>\n",
       "      <td>0.859674</td>\n",
       "      <td>0.073706</td>\n",
       "      <td>0</td>\n",
       "    </tr>\n",
       "    <tr>\n",
       "      <th>105</th>\n",
       "      <td>121</td>\n",
       "      <td>16866.0</td>\n",
       "      <td>2022-11-22T14:45:36+00:00</td>\n",
       "      <td>📈Baidu, Inc. (BIDU): китайская компания, предо...</td>\n",
       "      <td>13678.0</td>\n",
       "      <td>4.0</td>\n",
       "      <td>👍</td>\n",
       "      <td>33</td>\n",
       "      <td>0.782673</td>\n",
       "      <td>0.125933</td>\n",
       "      <td>0</td>\n",
       "    </tr>\n",
       "    <tr>\n",
       "      <th>106</th>\n",
       "      <td>122</td>\n",
       "      <td>16865.0</td>\n",
       "      <td>2022-11-22T13:58:05+00:00</td>\n",
       "      <td>📉 Экспортные ограничения США снижают потенциал...</td>\n",
       "      <td>12758.0</td>\n",
       "      <td>1.0</td>\n",
       "      <td>👍</td>\n",
       "      <td>20</td>\n",
       "      <td>0.718604</td>\n",
       "      <td>0.132974</td>\n",
       "      <td>0</td>\n",
       "    </tr>\n",
       "    <tr>\n",
       "      <th>107</th>\n",
       "      <td>123</td>\n",
       "      <td>16864.0</td>\n",
       "      <td>2022-11-22T13:22:34+00:00</td>\n",
       "      <td>Цифры по банковскому сектору за октябрь указыв...</td>\n",
       "      <td>12711.0</td>\n",
       "      <td>3.0</td>\n",
       "      <td>👍</td>\n",
       "      <td>21</td>\n",
       "      <td>0.867046</td>\n",
       "      <td>0.106701</td>\n",
       "      <td>0</td>\n",
       "    </tr>\n",
       "    <tr>\n",
       "      <th>108</th>\n",
       "      <td>124</td>\n",
       "      <td>16863.0</td>\n",
       "      <td>2022-11-22T11:40:19+00:00</td>\n",
       "      <td>📊ПАО «МТС»\\nТикер: MTSS\\nИдея: Long⬆️\\nГоризон...</td>\n",
       "      <td>12821.0</td>\n",
       "      <td>41.0</td>\n",
       "      <td>👍</td>\n",
       "      <td>66</td>\n",
       "      <td>0.812877</td>\n",
       "      <td>0.106701</td>\n",
       "      <td>0</td>\n",
       "    </tr>\n",
       "    <tr>\n",
       "      <th>109</th>\n",
       "      <td>125</td>\n",
       "      <td>16862.0</td>\n",
       "      <td>2022-11-22T11:01:22+00:00</td>\n",
       "      <td>📊Deere &amp; Company\\nТикер: DE\\nИдея: Long⬆️\\nГор...</td>\n",
       "      <td>12945.0</td>\n",
       "      <td>6.0</td>\n",
       "      <td>👍</td>\n",
       "      <td>12</td>\n",
       "      <td>0.817585</td>\n",
       "      <td>0.082707</td>\n",
       "      <td>0</td>\n",
       "    </tr>\n",
       "    <tr>\n",
       "      <th>110</th>\n",
       "      <td>126</td>\n",
       "      <td>16860.0</td>\n",
       "      <td>2022-11-22T08:40:38+00:00</td>\n",
       "      <td>Пока все говорит о том, что банки выглядят оче...</td>\n",
       "      <td>14157.0</td>\n",
       "      <td>6.0</td>\n",
       "      <td>👍</td>\n",
       "      <td>35</td>\n",
       "      <td>0.607673</td>\n",
       "      <td>0.148057</td>\n",
       "      <td>0</td>\n",
       "    </tr>\n",
       "    <tr>\n",
       "      <th>111</th>\n",
       "      <td>127</td>\n",
       "      <td>16859.0</td>\n",
       "      <td>2022-11-21T16:38:31+00:00</td>\n",
       "      <td>📈Progressive Corporation (PGR): страховая комп...</td>\n",
       "      <td>9321.0</td>\n",
       "      <td>4.0</td>\n",
       "      <td>👍</td>\n",
       "      <td>10</td>\n",
       "      <td>0.884049</td>\n",
       "      <td>0.125933</td>\n",
       "      <td>0</td>\n",
       "    </tr>\n",
       "    <tr>\n",
       "      <th>112</th>\n",
       "      <td>128</td>\n",
       "      <td>16858.0</td>\n",
       "      <td>2022-11-21T15:09:47+00:00</td>\n",
       "      <td>Brent восстановится до $110 за баррель в 2023 ...</td>\n",
       "      <td>14487.0</td>\n",
       "      <td>8.0</td>\n",
       "      <td>👍</td>\n",
       "      <td>6</td>\n",
       "      <td>0.658428</td>\n",
       "      <td>0.140346</td>\n",
       "      <td>0</td>\n",
       "    </tr>\n",
       "    <tr>\n",
       "      <th>113</th>\n",
       "      <td>129</td>\n",
       "      <td>16857.0</td>\n",
       "      <td>2022-11-21T13:47:01+00:00</td>\n",
       "      <td>📊Акции «ФосАгро» остаются интересными\\n\\nПрочн...</td>\n",
       "      <td>14593.0</td>\n",
       "      <td>18.0</td>\n",
       "      <td>👍</td>\n",
       "      <td>37</td>\n",
       "      <td>0.787941</td>\n",
       "      <td>0.106701</td>\n",
       "      <td>0</td>\n",
       "    </tr>\n",
       "    <tr>\n",
       "      <th>114</th>\n",
       "      <td>130</td>\n",
       "      <td>16856.0</td>\n",
       "      <td>2022-11-21T12:55:10+00:00</td>\n",
       "      <td>Ситуация в Китае может измениться: вирусологи ...</td>\n",
       "      <td>14107.0</td>\n",
       "      <td>11.0</td>\n",
       "      <td>👍</td>\n",
       "      <td>33</td>\n",
       "      <td>0.771854</td>\n",
       "      <td>0.222710</td>\n",
       "      <td>0</td>\n",
       "    </tr>\n",
       "    <tr>\n",
       "      <th>115</th>\n",
       "      <td>131</td>\n",
       "      <td>16855.0</td>\n",
       "      <td>2022-11-21T11:15:21+00:00</td>\n",
       "      <td>📊ПАО «Полюс»\\nТикер: PLZL\\nИдея: Short⬇️\\nГори...</td>\n",
       "      <td>14011.0</td>\n",
       "      <td>51.0</td>\n",
       "      <td>👍</td>\n",
       "      <td>49</td>\n",
       "      <td>0.712242</td>\n",
       "      <td>0.000000</td>\n",
       "      <td>0</td>\n",
       "    </tr>\n",
       "    <tr>\n",
       "      <th>116</th>\n",
       "      <td>132</td>\n",
       "      <td>16854.0</td>\n",
       "      <td>2022-11-21T10:39:15+00:00</td>\n",
       "      <td>📊The Boeing Company\\nТикер: BA\\nИдея: Short⬇️\\...</td>\n",
       "      <td>13961.0</td>\n",
       "      <td>11.0</td>\n",
       "      <td>👍</td>\n",
       "      <td>13</td>\n",
       "      <td>0.808077</td>\n",
       "      <td>0.119213</td>\n",
       "      <td>0</td>\n",
       "    </tr>\n",
       "    <tr>\n",
       "      <th>117</th>\n",
       "      <td>133</td>\n",
       "      <td>16853.0</td>\n",
       "      <td>2022-11-21T08:26:25+00:00</td>\n",
       "      <td>В условиях рисков вхождения Европы и США в рец...</td>\n",
       "      <td>15254.0</td>\n",
       "      <td>5.0</td>\n",
       "      <td>👍</td>\n",
       "      <td>17</td>\n",
       "      <td>0.737168</td>\n",
       "      <td>0.164526</td>\n",
       "      <td>0</td>\n",
       "    </tr>\n",
       "    <tr>\n",
       "      <th>118</th>\n",
       "      <td>134</td>\n",
       "      <td>16852.0</td>\n",
       "      <td>2022-11-18T15:58:51+00:00</td>\n",
       "      <td>📈Progressive Corporation (PGR): страховая комп...</td>\n",
       "      <td>17371.0</td>\n",
       "      <td>4.0</td>\n",
       "      <td>👍</td>\n",
       "      <td>20</td>\n",
       "      <td>0.884049</td>\n",
       "      <td>0.125933</td>\n",
       "      <td>0</td>\n",
       "    </tr>\n",
       "    <tr>\n",
       "      <th>119</th>\n",
       "      <td>135</td>\n",
       "      <td>16851.0</td>\n",
       "      <td>2022-11-18T14:45:22+00:00</td>\n",
       "      <td>📊JD.cоm, Inc.\\nТикер: JD\\nИдея: Long⬆️\\nГоризо...</td>\n",
       "      <td>15277.0</td>\n",
       "      <td>15.0</td>\n",
       "      <td>👍</td>\n",
       "      <td>24</td>\n",
       "      <td>0.803184</td>\n",
       "      <td>0.095359</td>\n",
       "      <td>0</td>\n",
       "    </tr>\n",
       "    <tr>\n",
       "      <th>120</th>\n",
       "      <td>136</td>\n",
       "      <td>16850.0</td>\n",
       "      <td>2022-11-18T14:27:42+00:00</td>\n",
       "      <td>📊Cian PLC\\nТикер: CIAN\\nИдея: Long⬆️\\nГоризонт...</td>\n",
       "      <td>13274.0</td>\n",
       "      <td>30.0</td>\n",
       "      <td>👍</td>\n",
       "      <td>23</td>\n",
       "      <td>0.835494</td>\n",
       "      <td>0.112805</td>\n",
       "      <td>0</td>\n",
       "    </tr>\n",
       "    <tr>\n",
       "      <th>121</th>\n",
       "      <td>137</td>\n",
       "      <td>16849.0</td>\n",
       "      <td>2022-11-18T11:54:04+00:00</td>\n",
       "      <td>С учетом последних данных инфляции в США стоит...</td>\n",
       "      <td>14288.0</td>\n",
       "      <td>3.0</td>\n",
       "      <td>👍</td>\n",
       "      <td>29</td>\n",
       "      <td>0.749097</td>\n",
       "      <td>0.109716</td>\n",
       "      <td>0</td>\n",
       "    </tr>\n",
       "    <tr>\n",
       "      <th>122</th>\n",
       "      <td>138</td>\n",
       "      <td>16848.0</td>\n",
       "      <td>2022-11-18T08:06:28+00:00</td>\n",
       "      <td>Brent может пойти ниже - к $85, но пока рассчи...</td>\n",
       "      <td>15184.0</td>\n",
       "      <td>6.0</td>\n",
       "      <td>👍</td>\n",
       "      <td>26</td>\n",
       "      <td>0.855861</td>\n",
       "      <td>0.090103</td>\n",
       "      <td>0</td>\n",
       "    </tr>\n",
       "    <tr>\n",
       "      <th>123</th>\n",
       "      <td>139</td>\n",
       "      <td>16847.0</td>\n",
       "      <td>2022-11-17T15:31:14+00:00</td>\n",
       "      <td>🏦 Акции Goldman Sachs близки к справедливой оц...</td>\n",
       "      <td>15945.0</td>\n",
       "      <td>2.0</td>\n",
       "      <td>👍</td>\n",
       "      <td>21</td>\n",
       "      <td>0.724880</td>\n",
       "      <td>0.187143</td>\n",
       "      <td>0</td>\n",
       "    </tr>\n",
       "    <tr>\n",
       "      <th>124</th>\n",
       "      <td>140</td>\n",
       "      <td>16846.0</td>\n",
       "      <td>2022-11-17T15:16:04+00:00</td>\n",
       "      <td>📈Colgate-Palmolive (CL): американская компания...</td>\n",
       "      <td>13917.0</td>\n",
       "      <td>1.0</td>\n",
       "      <td>👍</td>\n",
       "      <td>20</td>\n",
       "      <td>0.699264</td>\n",
       "      <td>0.187143</td>\n",
       "      <td>0</td>\n",
       "    </tr>\n",
       "  </tbody>\n",
       "</table>\n",
       "</div>\n",
       "      <button class=\"colab-df-convert\" onclick=\"convertToInteractive('df-6f45d233-d588-42d3-924c-0b9cf0c2a174')\"\n",
       "              title=\"Convert this dataframe to an interactive table.\"\n",
       "              style=\"display:none;\">\n",
       "        \n",
       "  <svg xmlns=\"http://www.w3.org/2000/svg\" height=\"24px\"viewBox=\"0 0 24 24\"\n",
       "       width=\"24px\">\n",
       "    <path d=\"M0 0h24v24H0V0z\" fill=\"none\"/>\n",
       "    <path d=\"M18.56 5.44l.94 2.06.94-2.06 2.06-.94-2.06-.94-.94-2.06-.94 2.06-2.06.94zm-11 1L8.5 8.5l.94-2.06 2.06-.94-2.06-.94L8.5 2.5l-.94 2.06-2.06.94zm10 10l.94 2.06.94-2.06 2.06-.94-2.06-.94-.94-2.06-.94 2.06-2.06.94z\"/><path d=\"M17.41 7.96l-1.37-1.37c-.4-.4-.92-.59-1.43-.59-.52 0-1.04.2-1.43.59L10.3 9.45l-7.72 7.72c-.78.78-.78 2.05 0 2.83L4 21.41c.39.39.9.59 1.41.59.51 0 1.02-.2 1.41-.59l7.78-7.78 2.81-2.81c.8-.78.8-2.07 0-2.86zM5.41 20L4 18.59l7.72-7.72 1.47 1.35L5.41 20z\"/>\n",
       "  </svg>\n",
       "      </button>\n",
       "      \n",
       "  <style>\n",
       "    .colab-df-container {\n",
       "      display:flex;\n",
       "      flex-wrap:wrap;\n",
       "      gap: 12px;\n",
       "    }\n",
       "\n",
       "    .colab-df-convert {\n",
       "      background-color: #E8F0FE;\n",
       "      border: none;\n",
       "      border-radius: 50%;\n",
       "      cursor: pointer;\n",
       "      display: none;\n",
       "      fill: #1967D2;\n",
       "      height: 32px;\n",
       "      padding: 0 0 0 0;\n",
       "      width: 32px;\n",
       "    }\n",
       "\n",
       "    .colab-df-convert:hover {\n",
       "      background-color: #E2EBFA;\n",
       "      box-shadow: 0px 1px 2px rgba(60, 64, 67, 0.3), 0px 1px 3px 1px rgba(60, 64, 67, 0.15);\n",
       "      fill: #174EA6;\n",
       "    }\n",
       "\n",
       "    [theme=dark] .colab-df-convert {\n",
       "      background-color: #3B4455;\n",
       "      fill: #D2E3FC;\n",
       "    }\n",
       "\n",
       "    [theme=dark] .colab-df-convert:hover {\n",
       "      background-color: #434B5C;\n",
       "      box-shadow: 0px 1px 3px 1px rgba(0, 0, 0, 0.15);\n",
       "      filter: drop-shadow(0px 1px 2px rgba(0, 0, 0, 0.3));\n",
       "      fill: #FFFFFF;\n",
       "    }\n",
       "  </style>\n",
       "\n",
       "      <script>\n",
       "        const buttonEl =\n",
       "          document.querySelector('#df-6f45d233-d588-42d3-924c-0b9cf0c2a174 button.colab-df-convert');\n",
       "        buttonEl.style.display =\n",
       "          google.colab.kernel.accessAllowed ? 'block' : 'none';\n",
       "\n",
       "        async function convertToInteractive(key) {\n",
       "          const element = document.querySelector('#df-6f45d233-d588-42d3-924c-0b9cf0c2a174');\n",
       "          const dataTable =\n",
       "            await google.colab.kernel.invokeFunction('convertToInteractive',\n",
       "                                                     [key], {});\n",
       "          if (!dataTable) return;\n",
       "\n",
       "          const docLinkHtml = 'Like what you see? Visit the ' +\n",
       "            '<a target=\"_blank\" href=https://colab.research.google.com/notebooks/data_table.ipynb>data table notebook</a>'\n",
       "            + ' to learn more about interactive tables.';\n",
       "          element.innerHTML = '';\n",
       "          dataTable['output_type'] = 'display_data';\n",
       "          await google.colab.output.renderOutput(dataTable, element);\n",
       "          const docLink = document.createElement('div');\n",
       "          docLink.innerHTML = docLinkHtml;\n",
       "          element.appendChild(docLink);\n",
       "        }\n",
       "      </script>\n",
       "    </div>\n",
       "  </div>\n",
       "  "
      ],
      "text/plain": [
       "     index       id                       date  \\\n",
       "100    116  16871.0  2022-11-23T11:31:16+00:00   \n",
       "101    117  16870.0  2022-11-23T10:30:41+00:00   \n",
       "102    118  16869.0  2022-11-23T09:41:34+00:00   \n",
       "103    119  16868.0  2022-11-23T08:26:12+00:00   \n",
       "104    120  16867.0  2022-11-22T17:00:42+00:00   \n",
       "105    121  16866.0  2022-11-22T14:45:36+00:00   \n",
       "106    122  16865.0  2022-11-22T13:58:05+00:00   \n",
       "107    123  16864.0  2022-11-22T13:22:34+00:00   \n",
       "108    124  16863.0  2022-11-22T11:40:19+00:00   \n",
       "109    125  16862.0  2022-11-22T11:01:22+00:00   \n",
       "110    126  16860.0  2022-11-22T08:40:38+00:00   \n",
       "111    127  16859.0  2022-11-21T16:38:31+00:00   \n",
       "112    128  16858.0  2022-11-21T15:09:47+00:00   \n",
       "113    129  16857.0  2022-11-21T13:47:01+00:00   \n",
       "114    130  16856.0  2022-11-21T12:55:10+00:00   \n",
       "115    131  16855.0  2022-11-21T11:15:21+00:00   \n",
       "116    132  16854.0  2022-11-21T10:39:15+00:00   \n",
       "117    133  16853.0  2022-11-21T08:26:25+00:00   \n",
       "118    134  16852.0  2022-11-18T15:58:51+00:00   \n",
       "119    135  16851.0  2022-11-18T14:45:22+00:00   \n",
       "120    136  16850.0  2022-11-18T14:27:42+00:00   \n",
       "121    137  16849.0  2022-11-18T11:54:04+00:00   \n",
       "122    138  16848.0  2022-11-18T08:06:28+00:00   \n",
       "123    139  16847.0  2022-11-17T15:31:14+00:00   \n",
       "124    140  16846.0  2022-11-17T15:16:04+00:00   \n",
       "\n",
       "                                               message    views  forwards  \\\n",
       "100  📊 Duke Energy Corporation\\nТикер: DUK\\nИдея: L...  12411.0       6.0   \n",
       "101  📊 ПАО «Дальневосточное морское пароходство»\\nТ...  12247.0      32.0   \n",
       "102  📈Фьючерсы на природный газ (NGX2): потенциальн...  12337.0      13.0   \n",
       "103  «Норникель» борется за уровень 15000 рублей, т...  13838.0       5.0   \n",
       "104  Встреча с Ozon: бизнес в новых условиях\\n\\n🤝Мы...  14537.0       7.0   \n",
       "105  📈Baidu, Inc. (BIDU): китайская компания, предо...  13678.0       4.0   \n",
       "106  📉 Экспортные ограничения США снижают потенциал...  12758.0       1.0   \n",
       "107  Цифры по банковскому сектору за октябрь указыв...  12711.0       3.0   \n",
       "108  📊ПАО «МТС»\\nТикер: MTSS\\nИдея: Long⬆️\\nГоризон...  12821.0      41.0   \n",
       "109  📊Deere & Company\\nТикер: DE\\nИдея: Long⬆️\\nГор...  12945.0       6.0   \n",
       "110  Пока все говорит о том, что банки выглядят оче...  14157.0       6.0   \n",
       "111  📈Progressive Corporation (PGR): страховая комп...   9321.0       4.0   \n",
       "112  Brent восстановится до $110 за баррель в 2023 ...  14487.0       8.0   \n",
       "113  📊Акции «ФосАгро» остаются интересными\\n\\nПрочн...  14593.0      18.0   \n",
       "114  Ситуация в Китае может измениться: вирусологи ...  14107.0      11.0   \n",
       "115  📊ПАО «Полюс»\\nТикер: PLZL\\nИдея: Short⬇️\\nГори...  14011.0      51.0   \n",
       "116  📊The Boeing Company\\nТикер: BA\\nИдея: Short⬇️\\...  13961.0      11.0   \n",
       "117  В условиях рисков вхождения Европы и США в рец...  15254.0       5.0   \n",
       "118  📈Progressive Corporation (PGR): страховая комп...  17371.0       4.0   \n",
       "119  📊JD.cоm, Inc.\\nТикер: JD\\nИдея: Long⬆️\\nГоризо...  15277.0      15.0   \n",
       "120  📊Cian PLC\\nТикер: CIAN\\nИдея: Long⬆️\\nГоризонт...  13274.0      30.0   \n",
       "121  С учетом последних данных инфляции в США стоит...  14288.0       3.0   \n",
       "122  Brent может пойти ниже - к $85, но пока рассчи...  15184.0       6.0   \n",
       "123  🏦 Акции Goldman Sachs близки к справедливой оц...  15945.0       2.0   \n",
       "124  📈Colgate-Palmolive (CL): американская компания...  13917.0       1.0   \n",
       "\n",
       "    Unnamed: 14 Unnamed: 15   neutral  negative  positive  \n",
       "100           👍          19  0.831153  0.106701         0  \n",
       "101           👍          39  0.754925  0.160276         0  \n",
       "102           👍          27  0.798197  0.187143         0  \n",
       "103           👍          53  0.712242  0.191943         0  \n",
       "104           👍          23  0.859674  0.073706         0  \n",
       "105           👍          33  0.782673  0.125933         0  \n",
       "106           👍          20  0.718604  0.132974         0  \n",
       "107           👍          21  0.867046  0.106701         0  \n",
       "108           👍          66  0.812877  0.106701         0  \n",
       "109           👍          12  0.817585  0.082707         0  \n",
       "110           👍          35  0.607673  0.148057         0  \n",
       "111           👍          10  0.884049  0.125933         0  \n",
       "112           👍           6  0.658428  0.140346         0  \n",
       "113           👍          37  0.787941  0.106701         0  \n",
       "114           👍          33  0.771854  0.222710         0  \n",
       "115           👍          49  0.712242  0.000000         0  \n",
       "116           👍          13  0.808077  0.119213         0  \n",
       "117           👍          17  0.737168  0.164526         0  \n",
       "118           👍          20  0.884049  0.125933         0  \n",
       "119           👍          24  0.803184  0.095359         0  \n",
       "120           👍          23  0.835494  0.112805         0  \n",
       "121           👍          29  0.749097  0.109716         0  \n",
       "122           👍          26  0.855861  0.090103         0  \n",
       "123           👍          21  0.724880  0.187143         0  \n",
       "124           👍          20  0.699264  0.187143         0  "
      ]
     },
     "execution_count": 187,
     "metadata": {},
     "output_type": "execute_result"
    }
   ],
   "source": [
    "res_dost"
   ]
  },
  {
   "cell_type": "markdown",
   "metadata": {
    "id": "uBHeI-nSpxHh"
   },
   "source": [
    "#Bert model\n",
    "bert-base-multilingual-cased. Нужно поиграться с моделью. Эта плохо работает с русским языком. Надо пробовать сберовские, но они медленные"
   ]
  },
  {
   "cell_type": "markdown",
   "metadata": {
    "id": "sDwc_YTU24LC"
   },
   "source": [
    "Проверка моделей:\n",
    "\n",
    "\n",
    "1.   yandex/RuLeanALBERT надо переписать код)\n",
    "2.   sberbank-ai/ruT5-large (не работает)\n",
    "3.   **sberbank-ai/ruRoberta-large (работает)**\n",
    "4.   sberbank-ai/ruT5-base (не работает)\n",
    "5. sberbank-ai/ruBert-large (работает плохо)\n",
    "\n",
    "\n",
    "\n"
   ]
  },
  {
   "cell_type": "code",
   "execution_count": null,
   "metadata": {
    "colab": {
     "base_uri": "https://localhost:8080/"
    },
    "id": "oF0deKUUpxRc",
    "outputId": "547e1840-d9dc-4053-920d-e83970b247d8"
   },
   "outputs": [
    {
     "name": "stderr",
     "output_type": "stream",
     "text": [
      "Some weights of the model checkpoint at sberbank-ai/ruRoberta-large were not used when initializing RobertaForSequenceClassification: ['lm_head.decoder.weight', 'lm_head.layer_norm.weight', 'lm_head.dense.weight', 'lm_head.bias', 'lm_head.decoder.bias', 'lm_head.layer_norm.bias', 'lm_head.dense.bias']\n",
      "- This IS expected if you are initializing RobertaForSequenceClassification from the checkpoint of a model trained on another task or with another architecture (e.g. initializing a BertForSequenceClassification model from a BertForPreTraining model).\n",
      "- This IS NOT expected if you are initializing RobertaForSequenceClassification from the checkpoint of a model that you expect to be exactly identical (initializing a BertForSequenceClassification model from a BertForSequenceClassification model).\n",
      "Some weights of RobertaForSequenceClassification were not initialized from the model checkpoint at sberbank-ai/ruRoberta-large and are newly initialized: ['classifier.dense.weight', 'classifier.out_proj.bias', 'classifier.out_proj.weight', 'classifier.dense.bias']\n",
      "You should probably TRAIN this model on a down-stream task to be able to use it for predictions and inference.\n"
     ]
    }
   ],
   "source": [
    "from transformers import AutoTokenizer, AutoModel, AutoModelForSequenceClassification\n",
    "MODEL = \"sberbank-ai/ruRoberta-large\"\n",
    "tokenizer_sd = AutoTokenizer.from_pretrained(MODEL)# , add_prefix_space=True) #, use_fast = False)\n",
    "model_sd = AutoModelForSequenceClassification.from_pretrained(MODEL)\n"
   ]
  },
  {
   "cell_type": "code",
   "execution_count": null,
   "metadata": {
    "id": "h2QUmpo6q47Q"
   },
   "outputs": [],
   "source": [
    "def sentiment_score(message):\n",
    "    tokens = tokenizer_sd.encode(message, return_tensors='pt') #, is_split_into_words=True)\n",
    "    result = model_sd(tokens)\n",
    "    return int(torch.argmax(result.logits))+1"
   ]
  },
  {
   "cell_type": "code",
   "execution_count": null,
   "metadata": {
    "colab": {
     "base_uri": "https://localhost:8080/",
     "height": 346
    },
    "collapsed": true,
    "id": "K8-jaxcGrUxm",
    "outputId": "ab2e4fa9-bf51-4243-f03e-10a14366551f"
   },
   "outputs": [
    {
     "ename": "TypeError",
     "evalue": "ignored",
     "output_type": "error",
     "traceback": [
      "\u001b[0;31m---------------------------------------------------------------------------\u001b[0m",
      "\u001b[0;31mTypeError\u001b[0m                                 Traceback (most recent call last)",
      "\u001b[0;32m<ipython-input-74-7a30b8a5fec8>\u001b[0m in \u001b[0;36m<module>\u001b[0;34m\u001b[0m\n\u001b[1;32m      2\u001b[0m \u001b[0mkek\u001b[0m \u001b[0;34m=\u001b[0m \u001b[0mdf_train\u001b[0m\u001b[0;34m.\u001b[0m\u001b[0mcopy\u001b[0m\u001b[0;34m(\u001b[0m\u001b[0;34m)\u001b[0m\u001b[0;34m\u001b[0m\u001b[0;34m\u001b[0m\u001b[0m\n\u001b[1;32m      3\u001b[0m \u001b[0;31m#data = data.dropna()\u001b[0m\u001b[0;34m\u001b[0m\u001b[0;34m\u001b[0m\u001b[0;34m\u001b[0m\u001b[0m\n\u001b[0;32m----> 4\u001b[0;31m \u001b[0mkek\u001b[0m\u001b[0;34m[\u001b[0m\u001b[0;34m'sentiment'\u001b[0m\u001b[0;34m]\u001b[0m \u001b[0;34m=\u001b[0m \u001b[0mkek\u001b[0m\u001b[0;34m[\u001b[0m\u001b[0;34m'text'\u001b[0m\u001b[0;34m]\u001b[0m\u001b[0;34m[\u001b[0m\u001b[0;34m:\u001b[0m\u001b[0;36m50\u001b[0m\u001b[0;34m]\u001b[0m\u001b[0;34m.\u001b[0m\u001b[0mapply\u001b[0m\u001b[0;34m(\u001b[0m\u001b[0;32mlambda\u001b[0m \u001b[0mx\u001b[0m\u001b[0;34m:\u001b[0m \u001b[0msentiment_score\u001b[0m\u001b[0;34m(\u001b[0m\u001b[0mx\u001b[0m\u001b[0;34m[\u001b[0m\u001b[0;34m:\u001b[0m\u001b[0;36m512\u001b[0m\u001b[0;34m]\u001b[0m\u001b[0;34m)\u001b[0m\u001b[0;34m)\u001b[0m\u001b[0;34m\u001b[0m\u001b[0;34m\u001b[0m\u001b[0m\n\u001b[0m",
      "\u001b[0;32m/usr/local/lib/python3.8/dist-packages/pandas/core/series.py\u001b[0m in \u001b[0;36mapply\u001b[0;34m(self, func, convert_dtype, args, **kwargs)\u001b[0m\n\u001b[1;32m   4355\u001b[0m         \u001b[0mdtype\u001b[0m\u001b[0;34m:\u001b[0m \u001b[0mfloat64\u001b[0m\u001b[0;34m\u001b[0m\u001b[0;34m\u001b[0m\u001b[0m\n\u001b[1;32m   4356\u001b[0m         \"\"\"\n\u001b[0;32m-> 4357\u001b[0;31m         \u001b[0;32mreturn\u001b[0m \u001b[0mSeriesApply\u001b[0m\u001b[0;34m(\u001b[0m\u001b[0mself\u001b[0m\u001b[0;34m,\u001b[0m \u001b[0mfunc\u001b[0m\u001b[0;34m,\u001b[0m \u001b[0mconvert_dtype\u001b[0m\u001b[0;34m,\u001b[0m \u001b[0margs\u001b[0m\u001b[0;34m,\u001b[0m \u001b[0mkwargs\u001b[0m\u001b[0;34m)\u001b[0m\u001b[0;34m.\u001b[0m\u001b[0mapply\u001b[0m\u001b[0;34m(\u001b[0m\u001b[0;34m)\u001b[0m\u001b[0;34m\u001b[0m\u001b[0;34m\u001b[0m\u001b[0m\n\u001b[0m\u001b[1;32m   4358\u001b[0m \u001b[0;34m\u001b[0m\u001b[0m\n\u001b[1;32m   4359\u001b[0m     def _reduce(\n",
      "\u001b[0;32m/usr/local/lib/python3.8/dist-packages/pandas/core/apply.py\u001b[0m in \u001b[0;36mapply\u001b[0;34m(self)\u001b[0m\n\u001b[1;32m   1041\u001b[0m             \u001b[0;32mreturn\u001b[0m \u001b[0mself\u001b[0m\u001b[0;34m.\u001b[0m\u001b[0mapply_str\u001b[0m\u001b[0;34m(\u001b[0m\u001b[0;34m)\u001b[0m\u001b[0;34m\u001b[0m\u001b[0;34m\u001b[0m\u001b[0m\n\u001b[1;32m   1042\u001b[0m \u001b[0;34m\u001b[0m\u001b[0m\n\u001b[0;32m-> 1043\u001b[0;31m         \u001b[0;32mreturn\u001b[0m \u001b[0mself\u001b[0m\u001b[0;34m.\u001b[0m\u001b[0mapply_standard\u001b[0m\u001b[0;34m(\u001b[0m\u001b[0;34m)\u001b[0m\u001b[0;34m\u001b[0m\u001b[0;34m\u001b[0m\u001b[0m\n\u001b[0m\u001b[1;32m   1044\u001b[0m \u001b[0;34m\u001b[0m\u001b[0m\n\u001b[1;32m   1045\u001b[0m     \u001b[0;32mdef\u001b[0m \u001b[0magg\u001b[0m\u001b[0;34m(\u001b[0m\u001b[0mself\u001b[0m\u001b[0;34m)\u001b[0m\u001b[0;34m:\u001b[0m\u001b[0;34m\u001b[0m\u001b[0;34m\u001b[0m\u001b[0m\n",
      "\u001b[0;32m/usr/local/lib/python3.8/dist-packages/pandas/core/apply.py\u001b[0m in \u001b[0;36mapply_standard\u001b[0;34m(self)\u001b[0m\n\u001b[1;32m   1096\u001b[0m                 \u001b[0;31m# List[Union[Callable[..., Any], str]]]]]\"; expected\u001b[0m\u001b[0;34m\u001b[0m\u001b[0;34m\u001b[0m\u001b[0;34m\u001b[0m\u001b[0m\n\u001b[1;32m   1097\u001b[0m                 \u001b[0;31m# \"Callable[[Any], Any]\"\u001b[0m\u001b[0;34m\u001b[0m\u001b[0;34m\u001b[0m\u001b[0;34m\u001b[0m\u001b[0m\n\u001b[0;32m-> 1098\u001b[0;31m                 mapped = lib.map_infer(\n\u001b[0m\u001b[1;32m   1099\u001b[0m                     \u001b[0mvalues\u001b[0m\u001b[0;34m,\u001b[0m\u001b[0;34m\u001b[0m\u001b[0;34m\u001b[0m\u001b[0m\n\u001b[1;32m   1100\u001b[0m                     \u001b[0mf\u001b[0m\u001b[0;34m,\u001b[0m  \u001b[0;31m# type: ignore[arg-type]\u001b[0m\u001b[0;34m\u001b[0m\u001b[0;34m\u001b[0m\u001b[0m\n",
      "\u001b[0;32m/usr/local/lib/python3.8/dist-packages/pandas/_libs/lib.pyx\u001b[0m in \u001b[0;36mpandas._libs.lib.map_infer\u001b[0;34m()\u001b[0m\n",
      "\u001b[0;32m<ipython-input-74-7a30b8a5fec8>\u001b[0m in \u001b[0;36m<lambda>\u001b[0;34m(x)\u001b[0m\n\u001b[1;32m      2\u001b[0m \u001b[0mkek\u001b[0m \u001b[0;34m=\u001b[0m \u001b[0mdf_train\u001b[0m\u001b[0;34m.\u001b[0m\u001b[0mcopy\u001b[0m\u001b[0;34m(\u001b[0m\u001b[0;34m)\u001b[0m\u001b[0;34m\u001b[0m\u001b[0;34m\u001b[0m\u001b[0m\n\u001b[1;32m      3\u001b[0m \u001b[0;31m#data = data.dropna()\u001b[0m\u001b[0;34m\u001b[0m\u001b[0;34m\u001b[0m\u001b[0;34m\u001b[0m\u001b[0m\n\u001b[0;32m----> 4\u001b[0;31m \u001b[0mkek\u001b[0m\u001b[0;34m[\u001b[0m\u001b[0;34m'sentiment'\u001b[0m\u001b[0;34m]\u001b[0m \u001b[0;34m=\u001b[0m \u001b[0mkek\u001b[0m\u001b[0;34m[\u001b[0m\u001b[0;34m'text'\u001b[0m\u001b[0;34m]\u001b[0m\u001b[0;34m[\u001b[0m\u001b[0;34m:\u001b[0m\u001b[0;36m50\u001b[0m\u001b[0;34m]\u001b[0m\u001b[0;34m.\u001b[0m\u001b[0mapply\u001b[0m\u001b[0;34m(\u001b[0m\u001b[0;32mlambda\u001b[0m \u001b[0mx\u001b[0m\u001b[0;34m:\u001b[0m \u001b[0msentiment_score\u001b[0m\u001b[0;34m(\u001b[0m\u001b[0mx\u001b[0m\u001b[0;34m[\u001b[0m\u001b[0;34m:\u001b[0m\u001b[0;36m512\u001b[0m\u001b[0;34m]\u001b[0m\u001b[0;34m)\u001b[0m\u001b[0;34m)\u001b[0m\u001b[0;34m\u001b[0m\u001b[0;34m\u001b[0m\u001b[0m\n\u001b[0m",
      "\u001b[0;32m<ipython-input-72-4a3bd3b6dbd2>\u001b[0m in \u001b[0;36msentiment_score\u001b[0;34m(message)\u001b[0m\n\u001b[1;32m      1\u001b[0m \u001b[0;32mdef\u001b[0m \u001b[0msentiment_score\u001b[0m\u001b[0;34m(\u001b[0m\u001b[0mmessage\u001b[0m\u001b[0;34m)\u001b[0m\u001b[0;34m:\u001b[0m\u001b[0;34m\u001b[0m\u001b[0;34m\u001b[0m\u001b[0m\n\u001b[1;32m      2\u001b[0m   \u001b[0mtokens\u001b[0m \u001b[0;34m=\u001b[0m \u001b[0mtokenizer_sd\u001b[0m\u001b[0;34m.\u001b[0m\u001b[0mencode\u001b[0m\u001b[0;34m(\u001b[0m\u001b[0mmessage\u001b[0m\u001b[0;34m,\u001b[0m \u001b[0mreturn_tensors\u001b[0m\u001b[0;34m=\u001b[0m\u001b[0;34m'pt'\u001b[0m\u001b[0;34m)\u001b[0m \u001b[0;31m#, is_split_into_words=True)\u001b[0m\u001b[0;34m\u001b[0m\u001b[0;34m\u001b[0m\u001b[0m\n\u001b[0;32m----> 3\u001b[0;31m   \u001b[0mresult\u001b[0m \u001b[0;34m=\u001b[0m \u001b[0mmodel_sd\u001b[0m\u001b[0;34m(\u001b[0m\u001b[0mtokens\u001b[0m\u001b[0;34m,\u001b[0m \u001b[0mtask_type\u001b[0m\u001b[0;34m=\u001b[0m\u001b[0;34m'GPU'\u001b[0m\u001b[0;34m)\u001b[0m\u001b[0;34m\u001b[0m\u001b[0;34m\u001b[0m\u001b[0m\n\u001b[0m\u001b[1;32m      4\u001b[0m   \u001b[0;32mreturn\u001b[0m \u001b[0mint\u001b[0m\u001b[0;34m(\u001b[0m\u001b[0mtorch\u001b[0m\u001b[0;34m.\u001b[0m\u001b[0margmax\u001b[0m\u001b[0;34m(\u001b[0m\u001b[0mresult\u001b[0m\u001b[0;34m.\u001b[0m\u001b[0mlogits\u001b[0m\u001b[0;34m)\u001b[0m\u001b[0;34m)\u001b[0m\u001b[0;34m+\u001b[0m\u001b[0;36m1\u001b[0m\u001b[0;34m\u001b[0m\u001b[0;34m\u001b[0m\u001b[0m\n",
      "\u001b[0;32m/usr/local/lib/python3.8/dist-packages/torch/nn/modules/module.py\u001b[0m in \u001b[0;36m_call_impl\u001b[0;34m(self, *input, **kwargs)\u001b[0m\n\u001b[1;32m   1192\u001b[0m         if not (self._backward_hooks or self._forward_hooks or self._forward_pre_hooks or _global_backward_hooks\n\u001b[1;32m   1193\u001b[0m                 or _global_forward_hooks or _global_forward_pre_hooks):\n\u001b[0;32m-> 1194\u001b[0;31m             \u001b[0;32mreturn\u001b[0m \u001b[0mforward_call\u001b[0m\u001b[0;34m(\u001b[0m\u001b[0;34m*\u001b[0m\u001b[0minput\u001b[0m\u001b[0;34m,\u001b[0m \u001b[0;34m**\u001b[0m\u001b[0mkwargs\u001b[0m\u001b[0;34m)\u001b[0m\u001b[0;34m\u001b[0m\u001b[0;34m\u001b[0m\u001b[0m\n\u001b[0m\u001b[1;32m   1195\u001b[0m         \u001b[0;31m# Do not call functions when jit is used\u001b[0m\u001b[0;34m\u001b[0m\u001b[0;34m\u001b[0m\u001b[0;34m\u001b[0m\u001b[0m\n\u001b[1;32m   1196\u001b[0m         \u001b[0mfull_backward_hooks\u001b[0m\u001b[0;34m,\u001b[0m \u001b[0mnon_full_backward_hooks\u001b[0m \u001b[0;34m=\u001b[0m \u001b[0;34m[\u001b[0m\u001b[0;34m]\u001b[0m\u001b[0;34m,\u001b[0m \u001b[0;34m[\u001b[0m\u001b[0;34m]\u001b[0m\u001b[0;34m\u001b[0m\u001b[0;34m\u001b[0m\u001b[0m\n",
      "\u001b[0;31mTypeError\u001b[0m: forward() got an unexpected keyword argument 'task_type'"
     ]
    }
   ],
   "source": [
    "res_sbert = pd.DataFrame()\n",
    "kek = df_train.copy()\n",
    "#data = data.dropna()\n",
    "kek['sentiment'] = kek['text'][:50].apply(lambda x: sentiment_score(x[:512]))"
   ]
  },
  {
   "cell_type": "code",
   "execution_count": null,
   "metadata": {
    "colab": {
     "base_uri": "https://localhost:8080/",
     "height": 423
    },
    "collapsed": true,
    "id": "L558GYvRBIaX",
    "outputId": "8b7382d4-fa33-4f9d-817b-2cdc3dc3ac4e"
   },
   "outputs": [
    {
     "data": {
      "text/html": [
       "\n",
       "  <div id=\"df-dcb40d28-d19f-47cd-ae00-1c9b03194f02\">\n",
       "    <div class=\"colab-df-container\">\n",
       "      <div>\n",
       "<style scoped>\n",
       "    .dataframe tbody tr th:only-of-type {\n",
       "        vertical-align: middle;\n",
       "    }\n",
       "\n",
       "    .dataframe tbody tr th {\n",
       "        vertical-align: top;\n",
       "    }\n",
       "\n",
       "    .dataframe thead th {\n",
       "        text-align: right;\n",
       "    }\n",
       "</style>\n",
       "<table border=\"1\" class=\"dataframe\">\n",
       "  <thead>\n",
       "    <tr style=\"text-align: right;\">\n",
       "      <th></th>\n",
       "      <th>text</th>\n",
       "      <th>label</th>\n",
       "      <th>sentiment</th>\n",
       "    </tr>\n",
       "  </thead>\n",
       "  <tbody>\n",
       "    <tr>\n",
       "      <th>0</th>\n",
       "      <td>И где хранить?)) А контракты бы купил где-нибу...</td>\n",
       "      <td>2.0</td>\n",
       "      <td>2.0</td>\n",
       "    </tr>\n",
       "    <tr>\n",
       "      <th>1</th>\n",
       "      <td>А, кстати, про втб. У меня мысль последнее вре...</td>\n",
       "      <td>2.0</td>\n",
       "      <td>1.0</td>\n",
       "    </tr>\n",
       "    <tr>\n",
       "      <th>2</th>\n",
       "      <td>Очень приятно слышать человека именно тем сост...</td>\n",
       "      <td>2.0</td>\n",
       "      <td>1.0</td>\n",
       "    </tr>\n",
       "    <tr>\n",
       "      <th>3</th>\n",
       "      <td>покупаем покупаем страшно недооценен . дивоход...</td>\n",
       "      <td>3.0</td>\n",
       "      <td>1.0</td>\n",
       "    </tr>\n",
       "    <tr>\n",
       "      <th>4</th>\n",
       "      <td>весьма интересно посмотреть постаукцион</td>\n",
       "      <td>2.0</td>\n",
       "      <td>1.0</td>\n",
       "    </tr>\n",
       "    <tr>\n",
       "      <th>...</th>\n",
       "      <td>...</td>\n",
       "      <td>...</td>\n",
       "      <td>...</td>\n",
       "    </tr>\n",
       "    <tr>\n",
       "      <th>32569</th>\n",
       "      <td>Смотреть торговать не одно тоже.Всех благ</td>\n",
       "      <td>2.0</td>\n",
       "      <td>NaN</td>\n",
       "    </tr>\n",
       "    <tr>\n",
       "      <th>32570</th>\n",
       "      <td>Не повторяйте этот бред. До развала СССР довел...</td>\n",
       "      <td>2.0</td>\n",
       "      <td>NaN</td>\n",
       "    </tr>\n",
       "    <tr>\n",
       "      <th>32571</th>\n",
       "      <td>пропал, дела</td>\n",
       "      <td>2.0</td>\n",
       "      <td>NaN</td>\n",
       "    </tr>\n",
       "    <tr>\n",
       "      <th>32573</th>\n",
       "      <td>УДС – уровень достаточности средств Стоимость ...</td>\n",
       "      <td>2.0</td>\n",
       "      <td>NaN</td>\n",
       "    </tr>\n",
       "    <tr>\n",
       "      <th>32574</th>\n",
       "      <td>Откуда ушли позавчера - туда пришли обратно......</td>\n",
       "      <td>2.0</td>\n",
       "      <td>NaN</td>\n",
       "    </tr>\n",
       "  </tbody>\n",
       "</table>\n",
       "<p>28887 rows × 3 columns</p>\n",
       "</div>\n",
       "      <button class=\"colab-df-convert\" onclick=\"convertToInteractive('df-dcb40d28-d19f-47cd-ae00-1c9b03194f02')\"\n",
       "              title=\"Convert this dataframe to an interactive table.\"\n",
       "              style=\"display:none;\">\n",
       "        \n",
       "  <svg xmlns=\"http://www.w3.org/2000/svg\" height=\"24px\"viewBox=\"0 0 24 24\"\n",
       "       width=\"24px\">\n",
       "    <path d=\"M0 0h24v24H0V0z\" fill=\"none\"/>\n",
       "    <path d=\"M18.56 5.44l.94 2.06.94-2.06 2.06-.94-2.06-.94-.94-2.06-.94 2.06-2.06.94zm-11 1L8.5 8.5l.94-2.06 2.06-.94-2.06-.94L8.5 2.5l-.94 2.06-2.06.94zm10 10l.94 2.06.94-2.06 2.06-.94-2.06-.94-.94-2.06-.94 2.06-2.06.94z\"/><path d=\"M17.41 7.96l-1.37-1.37c-.4-.4-.92-.59-1.43-.59-.52 0-1.04.2-1.43.59L10.3 9.45l-7.72 7.72c-.78.78-.78 2.05 0 2.83L4 21.41c.39.39.9.59 1.41.59.51 0 1.02-.2 1.41-.59l7.78-7.78 2.81-2.81c.8-.78.8-2.07 0-2.86zM5.41 20L4 18.59l7.72-7.72 1.47 1.35L5.41 20z\"/>\n",
       "  </svg>\n",
       "      </button>\n",
       "      \n",
       "  <style>\n",
       "    .colab-df-container {\n",
       "      display:flex;\n",
       "      flex-wrap:wrap;\n",
       "      gap: 12px;\n",
       "    }\n",
       "\n",
       "    .colab-df-convert {\n",
       "      background-color: #E8F0FE;\n",
       "      border: none;\n",
       "      border-radius: 50%;\n",
       "      cursor: pointer;\n",
       "      display: none;\n",
       "      fill: #1967D2;\n",
       "      height: 32px;\n",
       "      padding: 0 0 0 0;\n",
       "      width: 32px;\n",
       "    }\n",
       "\n",
       "    .colab-df-convert:hover {\n",
       "      background-color: #E2EBFA;\n",
       "      box-shadow: 0px 1px 2px rgba(60, 64, 67, 0.3), 0px 1px 3px 1px rgba(60, 64, 67, 0.15);\n",
       "      fill: #174EA6;\n",
       "    }\n",
       "\n",
       "    [theme=dark] .colab-df-convert {\n",
       "      background-color: #3B4455;\n",
       "      fill: #D2E3FC;\n",
       "    }\n",
       "\n",
       "    [theme=dark] .colab-df-convert:hover {\n",
       "      background-color: #434B5C;\n",
       "      box-shadow: 0px 1px 3px 1px rgba(0, 0, 0, 0.15);\n",
       "      filter: drop-shadow(0px 1px 2px rgba(0, 0, 0, 0.3));\n",
       "      fill: #FFFFFF;\n",
       "    }\n",
       "  </style>\n",
       "\n",
       "      <script>\n",
       "        const buttonEl =\n",
       "          document.querySelector('#df-dcb40d28-d19f-47cd-ae00-1c9b03194f02 button.colab-df-convert');\n",
       "        buttonEl.style.display =\n",
       "          google.colab.kernel.accessAllowed ? 'block' : 'none';\n",
       "\n",
       "        async function convertToInteractive(key) {\n",
       "          const element = document.querySelector('#df-dcb40d28-d19f-47cd-ae00-1c9b03194f02');\n",
       "          const dataTable =\n",
       "            await google.colab.kernel.invokeFunction('convertToInteractive',\n",
       "                                                     [key], {});\n",
       "          if (!dataTable) return;\n",
       "\n",
       "          const docLinkHtml = 'Like what you see? Visit the ' +\n",
       "            '<a target=\"_blank\" href=https://colab.research.google.com/notebooks/data_table.ipynb>data table notebook</a>'\n",
       "            + ' to learn more about interactive tables.';\n",
       "          element.innerHTML = '';\n",
       "          dataTable['output_type'] = 'display_data';\n",
       "          await google.colab.output.renderOutput(dataTable, element);\n",
       "          const docLink = document.createElement('div');\n",
       "          docLink.innerHTML = docLinkHtml;\n",
       "          element.appendChild(docLink);\n",
       "        }\n",
       "      </script>\n",
       "    </div>\n",
       "  </div>\n",
       "  "
      ],
      "text/plain": [
       "                                                    text  label  sentiment\n",
       "0      И где хранить?)) А контракты бы купил где-нибу...    2.0        2.0\n",
       "1      А, кстати, про втб. У меня мысль последнее вре...    2.0        1.0\n",
       "2      Очень приятно слышать человека именно тем сост...    2.0        1.0\n",
       "3      покупаем покупаем страшно недооценен . дивоход...    3.0        1.0\n",
       "4                весьма интересно посмотреть постаукцион    2.0        1.0\n",
       "...                                                  ...    ...        ...\n",
       "32569          Смотреть торговать не одно тоже.Всех благ    2.0        NaN\n",
       "32570  Не повторяйте этот бред. До развала СССР довел...    2.0        NaN\n",
       "32571                                       пропал, дела    2.0        NaN\n",
       "32573  УДС – уровень достаточности средств Стоимость ...    2.0        NaN\n",
       "32574  Откуда ушли позавчера - туда пришли обратно......    2.0        NaN\n",
       "\n",
       "[28887 rows x 3 columns]"
      ]
     },
     "execution_count": 71,
     "metadata": {},
     "output_type": "execute_result"
    }
   ],
   "source": [
    "#data['sentiment'] = data['sentiment'] - 1\n",
    "#res_sbert = data; res_sbert[:100]\n",
    "kek"
   ]
  },
  {
   "cell_type": "code",
   "execution_count": null,
   "metadata": {
    "id": "5ucJCg0JX7bu"
   },
   "outputs": [],
   "source": [
    "res_sbert = res_sbert.merge(tmp, left_index=True, right_index=True)\n"
   ]
  },
  {
   "cell_type": "code",
   "execution_count": null,
   "metadata": {
    "colab": {
     "base_uri": "https://localhost:8080/"
    },
    "id": "RfHH61iman0K",
    "outputId": "d8182468-6b06-49e8-d4d0-6a16396f74ca"
   },
   "outputs": [
    {
     "data": {
      "text/plain": [
       "0.28"
      ]
     },
     "execution_count": 111,
     "metadata": {},
     "output_type": "execute_result"
    }
   ],
   "source": [
    "#res_sbert[['label']] = res_sbert[['label']].astype(int)\n",
    "#res = res_sbert[[\"message\", 'sentiment','label2','dtype']][:100]\n",
    "from sklearn.metrics import accuracy_score\n",
    "accuracy_score(kek['label2'], kek['sentiment'])\n",
    "#import matplotlib.pyplot as plt\n",
    "#plt.plot(res.index, res['label2'])\n",
    "#plt.plot(res.index, res['sentiment'])"
   ]
  },
  {
   "cell_type": "code",
   "execution_count": null,
   "metadata": {
    "colab": {
     "base_uri": "https://localhost:8080/",
     "height": 423
    },
    "collapsed": true,
    "id": "YLFBLvEcKTvC",
    "outputId": "75779830-1c96-40a9-da34-8a427d05bf7f"
   },
   "outputs": [
    {
     "data": {
      "text/html": [
       "\n",
       "  <div id=\"df-4e36abeb-d332-4ea4-af5a-78c55ee3cc7c\">\n",
       "    <div class=\"colab-df-container\">\n",
       "      <div>\n",
       "<style scoped>\n",
       "    .dataframe tbody tr th:only-of-type {\n",
       "        vertical-align: middle;\n",
       "    }\n",
       "\n",
       "    .dataframe tbody tr th {\n",
       "        vertical-align: top;\n",
       "    }\n",
       "\n",
       "    .dataframe thead th {\n",
       "        text-align: right;\n",
       "    }\n",
       "</style>\n",
       "<table border=\"1\" class=\"dataframe\">\n",
       "  <thead>\n",
       "    <tr style=\"text-align: right;\">\n",
       "      <th></th>\n",
       "      <th>message</th>\n",
       "      <th>label</th>\n",
       "      <th>count</th>\n",
       "      <th>dtype</th>\n",
       "    </tr>\n",
       "  </thead>\n",
       "  <tbody>\n",
       "    <tr>\n",
       "      <th>8</th>\n",
       "      <td>Нефть среду 40 собралась, льют, плюс санкции</td>\n",
       "      <td>1.0</td>\n",
       "      <td>11.0</td>\n",
       "      <td>train</td>\n",
       "    </tr>\n",
       "    <tr>\n",
       "      <th>16</th>\n",
       "      <td>шорты!!! счастье!!!</td>\n",
       "      <td>1.0</td>\n",
       "      <td>6.0</td>\n",
       "      <td>train</td>\n",
       "    </tr>\n",
       "    <tr>\n",
       "      <th>23</th>\n",
       "      <td>Мультиплицируется эффект падения. Вы чего? Ник...</td>\n",
       "      <td>1.0</td>\n",
       "      <td>50.0</td>\n",
       "      <td>train</td>\n",
       "    </tr>\n",
       "    <tr>\n",
       "      <th>25</th>\n",
       "      <td>Джо появился, шорту ... так-то шутка, каждой ш...</td>\n",
       "      <td>1.0</td>\n",
       "      <td>16.0</td>\n",
       "      <td>train</td>\n",
       "    </tr>\n",
       "    <tr>\n",
       "      <th>38</th>\n",
       "      <td>Ага, 8140. Тейк лоу дня.</td>\n",
       "      <td>1.0</td>\n",
       "      <td>7.0</td>\n",
       "      <td>train</td>\n",
       "    </tr>\n",
       "    <tr>\n",
       "      <th>...</th>\n",
       "      <td>...</td>\n",
       "      <td>...</td>\n",
       "      <td>...</td>\n",
       "      <td>...</td>\n",
       "    </tr>\n",
       "    <tr>\n",
       "      <th>32490</th>\n",
       "      <td>оборонять будут сильно, из крупняка решит сыгр...</td>\n",
       "      <td>1.0</td>\n",
       "      <td>29.0</td>\n",
       "      <td>train</td>\n",
       "    </tr>\n",
       "    <tr>\n",
       "      <th>32494</th>\n",
       "      <td>Сургут вроде скоро упрется верхнюю границу нис...</td>\n",
       "      <td>1.0</td>\n",
       "      <td>22.0</td>\n",
       "      <td>train</td>\n",
       "    </tr>\n",
       "    <tr>\n",
       "      <th>32523</th>\n",
       "      <td>одна из составляющих получения профита - увере...</td>\n",
       "      <td>1.0</td>\n",
       "      <td>34.0</td>\n",
       "      <td>train</td>\n",
       "    </tr>\n",
       "    <tr>\n",
       "      <th>32550</th>\n",
       "      <td>не маловато? ) чего он должен +5 сделать? сбер...</td>\n",
       "      <td>1.0</td>\n",
       "      <td>26.0</td>\n",
       "      <td>train</td>\n",
       "    </tr>\n",
       "    <tr>\n",
       "      <th>32560</th>\n",
       "      <td>смело продаем краткосрок!</td>\n",
       "      <td>1.0</td>\n",
       "      <td>3.0</td>\n",
       "      <td>train</td>\n",
       "    </tr>\n",
       "  </tbody>\n",
       "</table>\n",
       "<p>4061 rows × 4 columns</p>\n",
       "</div>\n",
       "      <button class=\"colab-df-convert\" onclick=\"convertToInteractive('df-4e36abeb-d332-4ea4-af5a-78c55ee3cc7c')\"\n",
       "              title=\"Convert this dataframe to an interactive table.\"\n",
       "              style=\"display:none;\">\n",
       "        \n",
       "  <svg xmlns=\"http://www.w3.org/2000/svg\" height=\"24px\"viewBox=\"0 0 24 24\"\n",
       "       width=\"24px\">\n",
       "    <path d=\"M0 0h24v24H0V0z\" fill=\"none\"/>\n",
       "    <path d=\"M18.56 5.44l.94 2.06.94-2.06 2.06-.94-2.06-.94-.94-2.06-.94 2.06-2.06.94zm-11 1L8.5 8.5l.94-2.06 2.06-.94-2.06-.94L8.5 2.5l-.94 2.06-2.06.94zm10 10l.94 2.06.94-2.06 2.06-.94-2.06-.94-.94-2.06-.94 2.06-2.06.94z\"/><path d=\"M17.41 7.96l-1.37-1.37c-.4-.4-.92-.59-1.43-.59-.52 0-1.04.2-1.43.59L10.3 9.45l-7.72 7.72c-.78.78-.78 2.05 0 2.83L4 21.41c.39.39.9.59 1.41.59.51 0 1.02-.2 1.41-.59l7.78-7.78 2.81-2.81c.8-.78.8-2.07 0-2.86zM5.41 20L4 18.59l7.72-7.72 1.47 1.35L5.41 20z\"/>\n",
       "  </svg>\n",
       "      </button>\n",
       "      \n",
       "  <style>\n",
       "    .colab-df-container {\n",
       "      display:flex;\n",
       "      flex-wrap:wrap;\n",
       "      gap: 12px;\n",
       "    }\n",
       "\n",
       "    .colab-df-convert {\n",
       "      background-color: #E8F0FE;\n",
       "      border: none;\n",
       "      border-radius: 50%;\n",
       "      cursor: pointer;\n",
       "      display: none;\n",
       "      fill: #1967D2;\n",
       "      height: 32px;\n",
       "      padding: 0 0 0 0;\n",
       "      width: 32px;\n",
       "    }\n",
       "\n",
       "    .colab-df-convert:hover {\n",
       "      background-color: #E2EBFA;\n",
       "      box-shadow: 0px 1px 2px rgba(60, 64, 67, 0.3), 0px 1px 3px 1px rgba(60, 64, 67, 0.15);\n",
       "      fill: #174EA6;\n",
       "    }\n",
       "\n",
       "    [theme=dark] .colab-df-convert {\n",
       "      background-color: #3B4455;\n",
       "      fill: #D2E3FC;\n",
       "    }\n",
       "\n",
       "    [theme=dark] .colab-df-convert:hover {\n",
       "      background-color: #434B5C;\n",
       "      box-shadow: 0px 1px 3px 1px rgba(0, 0, 0, 0.15);\n",
       "      filter: drop-shadow(0px 1px 2px rgba(0, 0, 0, 0.3));\n",
       "      fill: #FFFFFF;\n",
       "    }\n",
       "  </style>\n",
       "\n",
       "      <script>\n",
       "        const buttonEl =\n",
       "          document.querySelector('#df-4e36abeb-d332-4ea4-af5a-78c55ee3cc7c button.colab-df-convert');\n",
       "        buttonEl.style.display =\n",
       "          google.colab.kernel.accessAllowed ? 'block' : 'none';\n",
       "\n",
       "        async function convertToInteractive(key) {\n",
       "          const element = document.querySelector('#df-4e36abeb-d332-4ea4-af5a-78c55ee3cc7c');\n",
       "          const dataTable =\n",
       "            await google.colab.kernel.invokeFunction('convertToInteractive',\n",
       "                                                     [key], {});\n",
       "          if (!dataTable) return;\n",
       "\n",
       "          const docLinkHtml = 'Like what you see? Visit the ' +\n",
       "            '<a target=\"_blank\" href=https://colab.research.google.com/notebooks/data_table.ipynb>data table notebook</a>'\n",
       "            + ' to learn more about interactive tables.';\n",
       "          element.innerHTML = '';\n",
       "          dataTable['output_type'] = 'display_data';\n",
       "          await google.colab.output.renderOutput(dataTable, element);\n",
       "          const docLink = document.createElement('div');\n",
       "          docLink.innerHTML = docLinkHtml;\n",
       "          element.appendChild(docLink);\n",
       "        }\n",
       "      </script>\n",
       "    </div>\n",
       "  </div>\n",
       "  "
      ],
      "text/plain": [
       "                                                 message  label  count  dtype\n",
       "8           Нефть среду 40 собралась, льют, плюс санкции    1.0   11.0  train\n",
       "16                                   шорты!!! счастье!!!    1.0    6.0  train\n",
       "23     Мультиплицируется эффект падения. Вы чего? Ник...    1.0   50.0  train\n",
       "25     Джо появился, шорту ... так-то шутка, каждой ш...    1.0   16.0  train\n",
       "38                              Ага, 8140. Тейк лоу дня.    1.0    7.0  train\n",
       "...                                                  ...    ...    ...    ...\n",
       "32490  оборонять будут сильно, из крупняка решит сыгр...    1.0   29.0  train\n",
       "32494  Сургут вроде скоро упрется верхнюю границу нис...    1.0   22.0  train\n",
       "32523  одна из составляющих получения профита - увере...    1.0   34.0  train\n",
       "32550  не маловато? ) чего он должен +5 сделать? сбер...    1.0   26.0  train\n",
       "32560                          смело продаем краткосрок!    1.0    3.0  train\n",
       "\n",
       "[4061 rows x 4 columns]"
      ]
     },
     "execution_count": 58,
     "metadata": {},
     "output_type": "execute_result"
    }
   ],
   "source": [
    "tmp.loc[tmp.label == 1]"
   ]
  },
  {
   "cell_type": "code",
   "execution_count": null,
   "metadata": {
    "colab": {
     "base_uri": "https://localhost:8080/",
     "height": 17
    },
    "id": "Gz14cJvqBKti",
    "outputId": "af8febee-f614-4972-c89f-13bb13515eba"
   },
   "outputs": [
    {
     "data": {
      "application/javascript": [
       "\n",
       "    async function download(id, filename, size) {\n",
       "      if (!google.colab.kernel.accessAllowed) {\n",
       "        return;\n",
       "      }\n",
       "      const div = document.createElement('div');\n",
       "      const label = document.createElement('label');\n",
       "      label.textContent = `Downloading \"${filename}\": `;\n",
       "      div.appendChild(label);\n",
       "      const progress = document.createElement('progress');\n",
       "      progress.max = size;\n",
       "      div.appendChild(progress);\n",
       "      document.body.appendChild(div);\n",
       "\n",
       "      const buffers = [];\n",
       "      let downloaded = 0;\n",
       "\n",
       "      const channel = await google.colab.kernel.comms.open(id);\n",
       "      // Send a message to notify the kernel that we're ready.\n",
       "      channel.send({})\n",
       "\n",
       "      for await (const message of channel.messages) {\n",
       "        // Send a message to notify the kernel that we're ready.\n",
       "        channel.send({})\n",
       "        if (message.buffers) {\n",
       "          for (const buffer of message.buffers) {\n",
       "            buffers.push(buffer);\n",
       "            downloaded += buffer.byteLength;\n",
       "            progress.value = downloaded;\n",
       "          }\n",
       "        }\n",
       "      }\n",
       "      const blob = new Blob(buffers, {type: 'application/binary'});\n",
       "      const a = document.createElement('a');\n",
       "      a.href = window.URL.createObjectURL(blob);\n",
       "      a.download = filename;\n",
       "      div.appendChild(a);\n",
       "      a.click();\n",
       "      div.remove();\n",
       "    }\n",
       "  "
      ],
      "text/plain": [
       "<IPython.core.display.Javascript object>"
      ]
     },
     "metadata": {},
     "output_type": "display_data"
    },
    {
     "data": {
      "application/javascript": [
       "download(\"download_835ce1a9-4f76-4b6d-9223-638e99cb5a0d\", \"Sber_model.csv\", 57882)"
      ],
      "text/plain": [
       "<IPython.core.display.Javascript object>"
      ]
     },
     "metadata": {},
     "output_type": "display_data"
    }
   ],
   "source": [
    "#res_sbert.to_csv(\"Sber_model.csv\", sep=\",\")\n",
    "#files.download(\"Sber_model.csv\")"
   ]
  }
 ],
 "metadata": {
  "accelerator": "GPU",
  "colab": {
   "collapsed_sections": [
    "iKRVe44p0Z8i",
    "aLBUrrEBuxSK",
    "Rvl1Qiz-PyEq",
    "grd7HutLcp52",
    "let3_79bah9F",
    "CD-3Wz_dWumh"
   ],
   "provenance": []
  },
  "gpuClass": "standard",
  "kernelspec": {
   "display_name": "Python 3 (ipykernel)",
   "language": "python",
   "name": "python3"
  },
  "language_info": {
   "codemirror_mode": {
    "name": "ipython",
    "version": 3
   },
   "file_extension": ".py",
   "mimetype": "text/x-python",
   "name": "python",
   "nbconvert_exporter": "python",
   "pygments_lexer": "ipython3",
   "version": "3.9.12"
  },
  "widgets": {
   "application/vnd.jupyter.widget-state+json": {
    "03ebb57923b244f0a73cab38114a9904": {
     "model_module": "@jupyter-widgets/base",
     "model_module_version": "1.2.0",
     "model_name": "LayoutModel",
     "state": {
      "_model_module": "@jupyter-widgets/base",
      "_model_module_version": "1.2.0",
      "_model_name": "LayoutModel",
      "_view_count": null,
      "_view_module": "@jupyter-widgets/base",
      "_view_module_version": "1.2.0",
      "_view_name": "LayoutView",
      "align_content": null,
      "align_items": null,
      "align_self": null,
      "border": null,
      "bottom": null,
      "display": null,
      "flex": null,
      "flex_flow": null,
      "grid_area": null,
      "grid_auto_columns": null,
      "grid_auto_flow": null,
      "grid_auto_rows": null,
      "grid_column": null,
      "grid_gap": null,
      "grid_row": null,
      "grid_template_areas": null,
      "grid_template_columns": null,
      "grid_template_rows": null,
      "height": null,
      "justify_content": null,
      "justify_items": null,
      "left": null,
      "margin": null,
      "max_height": null,
      "max_width": null,
      "min_height": null,
      "min_width": null,
      "object_fit": null,
      "object_position": null,
      "order": null,
      "overflow": null,
      "overflow_x": null,
      "overflow_y": null,
      "padding": null,
      "right": null,
      "top": null,
      "visibility": null,
      "width": null
     }
    },
    "0d220a3d986a4deca7ada05cdd93e66d": {
     "model_module": "@jupyter-widgets/controls",
     "model_module_version": "1.5.0",
     "model_name": "HBoxModel",
     "state": {
      "_dom_classes": [],
      "_model_module": "@jupyter-widgets/controls",
      "_model_module_version": "1.5.0",
      "_model_name": "HBoxModel",
      "_view_count": null,
      "_view_module": "@jupyter-widgets/controls",
      "_view_module_version": "1.5.0",
      "_view_name": "HBoxView",
      "box_style": "",
      "children": [
       "IPY_MODEL_1d40a866883045079aa3daf15ffa0ef0",
       "IPY_MODEL_c3e9c49c43134f5bb6d4aaba3b944e56",
       "IPY_MODEL_80823747e90f4ce9b801b0784c9c3395"
      ],
      "layout": "IPY_MODEL_3ee03799ea4245c8842b8719ef0e49b6"
     }
    },
    "0e98b2a4df1a45258f235b2bd3ad4df6": {
     "model_module": "@jupyter-widgets/base",
     "model_module_version": "1.2.0",
     "model_name": "LayoutModel",
     "state": {
      "_model_module": "@jupyter-widgets/base",
      "_model_module_version": "1.2.0",
      "_model_name": "LayoutModel",
      "_view_count": null,
      "_view_module": "@jupyter-widgets/base",
      "_view_module_version": "1.2.0",
      "_view_name": "LayoutView",
      "align_content": null,
      "align_items": null,
      "align_self": null,
      "border": null,
      "bottom": null,
      "display": null,
      "flex": null,
      "flex_flow": null,
      "grid_area": null,
      "grid_auto_columns": null,
      "grid_auto_flow": null,
      "grid_auto_rows": null,
      "grid_column": null,
      "grid_gap": null,
      "grid_row": null,
      "grid_template_areas": null,
      "grid_template_columns": null,
      "grid_template_rows": null,
      "height": null,
      "justify_content": null,
      "justify_items": null,
      "left": null,
      "margin": null,
      "max_height": null,
      "max_width": null,
      "min_height": null,
      "min_width": null,
      "object_fit": null,
      "object_position": null,
      "order": null,
      "overflow": null,
      "overflow_x": null,
      "overflow_y": null,
      "padding": null,
      "right": null,
      "top": null,
      "visibility": null,
      "width": null
     }
    },
    "14f6ecc78e04446585c333fd256a03e2": {
     "model_module": "@jupyter-widgets/controls",
     "model_module_version": "1.5.0",
     "model_name": "ProgressStyleModel",
     "state": {
      "_model_module": "@jupyter-widgets/controls",
      "_model_module_version": "1.5.0",
      "_model_name": "ProgressStyleModel",
      "_view_count": null,
      "_view_module": "@jupyter-widgets/base",
      "_view_module_version": "1.2.0",
      "_view_name": "StyleView",
      "bar_color": null,
      "description_width": ""
     }
    },
    "1aae0b315bc34772af77b847668ef23d": {
     "model_module": "@jupyter-widgets/base",
     "model_module_version": "1.2.0",
     "model_name": "LayoutModel",
     "state": {
      "_model_module": "@jupyter-widgets/base",
      "_model_module_version": "1.2.0",
      "_model_name": "LayoutModel",
      "_view_count": null,
      "_view_module": "@jupyter-widgets/base",
      "_view_module_version": "1.2.0",
      "_view_name": "LayoutView",
      "align_content": null,
      "align_items": null,
      "align_self": null,
      "border": null,
      "bottom": null,
      "display": null,
      "flex": null,
      "flex_flow": null,
      "grid_area": null,
      "grid_auto_columns": null,
      "grid_auto_flow": null,
      "grid_auto_rows": null,
      "grid_column": null,
      "grid_gap": null,
      "grid_row": null,
      "grid_template_areas": null,
      "grid_template_columns": null,
      "grid_template_rows": null,
      "height": null,
      "justify_content": null,
      "justify_items": null,
      "left": null,
      "margin": null,
      "max_height": null,
      "max_width": null,
      "min_height": null,
      "min_width": null,
      "object_fit": null,
      "object_position": null,
      "order": null,
      "overflow": null,
      "overflow_x": null,
      "overflow_y": null,
      "padding": null,
      "right": null,
      "top": null,
      "visibility": null,
      "width": null
     }
    },
    "1d40a866883045079aa3daf15ffa0ef0": {
     "model_module": "@jupyter-widgets/controls",
     "model_module_version": "1.5.0",
     "model_name": "HTMLModel",
     "state": {
      "_dom_classes": [],
      "_model_module": "@jupyter-widgets/controls",
      "_model_module_version": "1.5.0",
      "_model_name": "HTMLModel",
      "_view_count": null,
      "_view_module": "@jupyter-widgets/controls",
      "_view_module_version": "1.5.0",
      "_view_name": "HTMLView",
      "description": "",
      "description_tooltip": null,
      "layout": "IPY_MODEL_4315807360534d1d96f4333483a141a6",
      "placeholder": "​",
      "style": "IPY_MODEL_2624ff99d27d4f6c942a62bed020bb54",
      "value": "Downloading: 100%"
     }
    },
    "1e49f9e136e740fe8f06048906f8ad72": {
     "model_module": "@jupyter-widgets/controls",
     "model_module_version": "1.5.0",
     "model_name": "DescriptionStyleModel",
     "state": {
      "_model_module": "@jupyter-widgets/controls",
      "_model_module_version": "1.5.0",
      "_model_name": "DescriptionStyleModel",
      "_view_count": null,
      "_view_module": "@jupyter-widgets/base",
      "_view_module_version": "1.2.0",
      "_view_name": "StyleView",
      "description_width": ""
     }
    },
    "1e4c328791484857b9abee9727e5efe1": {
     "model_module": "@jupyter-widgets/controls",
     "model_module_version": "1.5.0",
     "model_name": "HTMLModel",
     "state": {
      "_dom_classes": [],
      "_model_module": "@jupyter-widgets/controls",
      "_model_module_version": "1.5.0",
      "_model_name": "HTMLModel",
      "_view_count": null,
      "_view_module": "@jupyter-widgets/controls",
      "_view_module_version": "1.5.0",
      "_view_name": "HTMLView",
      "description": "",
      "description_tooltip": null,
      "layout": "IPY_MODEL_d8d383135e9c4a66b0507ba1f04181cf",
      "placeholder": "​",
      "style": "IPY_MODEL_5168496b620447f0b87e07f3628bb523",
      "value": " 323/323 [00:00&lt;00:00, 918B/s]"
     }
    },
    "1ef9759b0e054ba9aad784abaa79dec1": {
     "model_module": "@jupyter-widgets/controls",
     "model_module_version": "1.5.0",
     "model_name": "DescriptionStyleModel",
     "state": {
      "_model_module": "@jupyter-widgets/controls",
      "_model_module_version": "1.5.0",
      "_model_name": "DescriptionStyleModel",
      "_view_count": null,
      "_view_module": "@jupyter-widgets/base",
      "_view_module_version": "1.2.0",
      "_view_name": "StyleView",
      "description_width": ""
     }
    },
    "2049b94a12a6484bb07b2e4d35ee8942": {
     "model_module": "@jupyter-widgets/controls",
     "model_module_version": "1.5.0",
     "model_name": "ProgressStyleModel",
     "state": {
      "_model_module": "@jupyter-widgets/controls",
      "_model_module_version": "1.5.0",
      "_model_name": "ProgressStyleModel",
      "_view_count": null,
      "_view_module": "@jupyter-widgets/base",
      "_view_module_version": "1.2.0",
      "_view_name": "StyleView",
      "bar_color": null,
      "description_width": ""
     }
    },
    "24f9b0b8806b49ce81cd0c950376ce5c": {
     "model_module": "@jupyter-widgets/base",
     "model_module_version": "1.2.0",
     "model_name": "LayoutModel",
     "state": {
      "_model_module": "@jupyter-widgets/base",
      "_model_module_version": "1.2.0",
      "_model_name": "LayoutModel",
      "_view_count": null,
      "_view_module": "@jupyter-widgets/base",
      "_view_module_version": "1.2.0",
      "_view_name": "LayoutView",
      "align_content": null,
      "align_items": null,
      "align_self": null,
      "border": null,
      "bottom": null,
      "display": null,
      "flex": null,
      "flex_flow": null,
      "grid_area": null,
      "grid_auto_columns": null,
      "grid_auto_flow": null,
      "grid_auto_rows": null,
      "grid_column": null,
      "grid_gap": null,
      "grid_row": null,
      "grid_template_areas": null,
      "grid_template_columns": null,
      "grid_template_rows": null,
      "height": null,
      "justify_content": null,
      "justify_items": null,
      "left": null,
      "margin": null,
      "max_height": null,
      "max_width": null,
      "min_height": null,
      "min_width": null,
      "object_fit": null,
      "object_position": null,
      "order": null,
      "overflow": null,
      "overflow_x": null,
      "overflow_y": null,
      "padding": null,
      "right": null,
      "top": null,
      "visibility": null,
      "width": null
     }
    },
    "2624ff99d27d4f6c942a62bed020bb54": {
     "model_module": "@jupyter-widgets/controls",
     "model_module_version": "1.5.0",
     "model_name": "DescriptionStyleModel",
     "state": {
      "_model_module": "@jupyter-widgets/controls",
      "_model_module_version": "1.5.0",
      "_model_name": "DescriptionStyleModel",
      "_view_count": null,
      "_view_module": "@jupyter-widgets/base",
      "_view_module_version": "1.2.0",
      "_view_name": "StyleView",
      "description_width": ""
     }
    },
    "356d96a2725d46e9acafa2fd2ce207b4": {
     "model_module": "@jupyter-widgets/controls",
     "model_module_version": "1.5.0",
     "model_name": "HTMLModel",
     "state": {
      "_dom_classes": [],
      "_model_module": "@jupyter-widgets/controls",
      "_model_module_version": "1.5.0",
      "_model_name": "HTMLModel",
      "_view_count": null,
      "_view_module": "@jupyter-widgets/controls",
      "_view_module_version": "1.5.0",
      "_view_name": "HTMLView",
      "description": "",
      "description_tooltip": null,
      "layout": "IPY_MODEL_d1b1f541e577492cbd9c0cb906b45c9c",
      "placeholder": "​",
      "style": "IPY_MODEL_c7e16c151e8b4b41983751dbece2b4bd",
      "value": "Downloading: 100%"
     }
    },
    "3ee03799ea4245c8842b8719ef0e49b6": {
     "model_module": "@jupyter-widgets/base",
     "model_module_version": "1.2.0",
     "model_name": "LayoutModel",
     "state": {
      "_model_module": "@jupyter-widgets/base",
      "_model_module_version": "1.2.0",
      "_model_name": "LayoutModel",
      "_view_count": null,
      "_view_module": "@jupyter-widgets/base",
      "_view_module_version": "1.2.0",
      "_view_name": "LayoutView",
      "align_content": null,
      "align_items": null,
      "align_self": null,
      "border": null,
      "bottom": null,
      "display": null,
      "flex": null,
      "flex_flow": null,
      "grid_area": null,
      "grid_auto_columns": null,
      "grid_auto_flow": null,
      "grid_auto_rows": null,
      "grid_column": null,
      "grid_gap": null,
      "grid_row": null,
      "grid_template_areas": null,
      "grid_template_columns": null,
      "grid_template_rows": null,
      "height": null,
      "justify_content": null,
      "justify_items": null,
      "left": null,
      "margin": null,
      "max_height": null,
      "max_width": null,
      "min_height": null,
      "min_width": null,
      "object_fit": null,
      "object_position": null,
      "order": null,
      "overflow": null,
      "overflow_x": null,
      "overflow_y": null,
      "padding": null,
      "right": null,
      "top": null,
      "visibility": null,
      "width": null
     }
    },
    "3fd46f66ca5b4d7296eadffd7b5962d2": {
     "model_module": "@jupyter-widgets/controls",
     "model_module_version": "1.5.0",
     "model_name": "HBoxModel",
     "state": {
      "_dom_classes": [],
      "_model_module": "@jupyter-widgets/controls",
      "_model_module_version": "1.5.0",
      "_model_name": "HBoxModel",
      "_view_count": null,
      "_view_module": "@jupyter-widgets/controls",
      "_view_module_version": "1.5.0",
      "_view_name": "HBoxView",
      "box_style": "",
      "children": [
       "IPY_MODEL_f421558f55bd4bc1b4f445cd321017e1",
       "IPY_MODEL_61f9169e87894008a0e25a6ad3089d11",
       "IPY_MODEL_abda463788cc40668096a8ea8429b152"
      ],
      "layout": "IPY_MODEL_b549349d5fe443b7b4a5c530de0229a9"
     }
    },
    "4315807360534d1d96f4333483a141a6": {
     "model_module": "@jupyter-widgets/base",
     "model_module_version": "1.2.0",
     "model_name": "LayoutModel",
     "state": {
      "_model_module": "@jupyter-widgets/base",
      "_model_module_version": "1.2.0",
      "_model_name": "LayoutModel",
      "_view_count": null,
      "_view_module": "@jupyter-widgets/base",
      "_view_module_version": "1.2.0",
      "_view_name": "LayoutView",
      "align_content": null,
      "align_items": null,
      "align_self": null,
      "border": null,
      "bottom": null,
      "display": null,
      "flex": null,
      "flex_flow": null,
      "grid_area": null,
      "grid_auto_columns": null,
      "grid_auto_flow": null,
      "grid_auto_rows": null,
      "grid_column": null,
      "grid_gap": null,
      "grid_row": null,
      "grid_template_areas": null,
      "grid_template_columns": null,
      "grid_template_rows": null,
      "height": null,
      "justify_content": null,
      "justify_items": null,
      "left": null,
      "margin": null,
      "max_height": null,
      "max_width": null,
      "min_height": null,
      "min_width": null,
      "object_fit": null,
      "object_position": null,
      "order": null,
      "overflow": null,
      "overflow_x": null,
      "overflow_y": null,
      "padding": null,
      "right": null,
      "top": null,
      "visibility": null,
      "width": null
     }
    },
    "44d1a1fde38a4c2c96aff148fcd83ddb": {
     "model_module": "@jupyter-widgets/controls",
     "model_module_version": "1.5.0",
     "model_name": "ProgressStyleModel",
     "state": {
      "_model_module": "@jupyter-widgets/controls",
      "_model_module_version": "1.5.0",
      "_model_name": "ProgressStyleModel",
      "_view_count": null,
      "_view_module": "@jupyter-widgets/base",
      "_view_module_version": "1.2.0",
      "_view_name": "StyleView",
      "bar_color": null,
      "description_width": ""
     }
    },
    "46896aeb1d9a43b59b5b18f0ff00cd90": {
     "model_module": "@jupyter-widgets/controls",
     "model_module_version": "1.5.0",
     "model_name": "FloatProgressModel",
     "state": {
      "_dom_classes": [],
      "_model_module": "@jupyter-widgets/controls",
      "_model_module_version": "1.5.0",
      "_model_name": "FloatProgressModel",
      "_view_count": null,
      "_view_module": "@jupyter-widgets/controls",
      "_view_module_version": "1.5.0",
      "_view_name": "ProgressView",
      "bar_style": "success",
      "description": "",
      "description_tooltip": null,
      "layout": "IPY_MODEL_910ccaf2d6914ac8b570c667300348eb",
      "max": 1780720,
      "min": 0,
      "orientation": "horizontal",
      "style": "IPY_MODEL_2049b94a12a6484bb07b2e4d35ee8942",
      "value": 1780720
     }
    },
    "5168496b620447f0b87e07f3628bb523": {
     "model_module": "@jupyter-widgets/controls",
     "model_module_version": "1.5.0",
     "model_name": "DescriptionStyleModel",
     "state": {
      "_model_module": "@jupyter-widgets/controls",
      "_model_module_version": "1.5.0",
      "_model_name": "DescriptionStyleModel",
      "_view_count": null,
      "_view_module": "@jupyter-widgets/base",
      "_view_module_version": "1.2.0",
      "_view_name": "StyleView",
      "description_width": ""
     }
    },
    "5f2db2c8868d4426a20a7020edcfa603": {
     "model_module": "@jupyter-widgets/base",
     "model_module_version": "1.2.0",
     "model_name": "LayoutModel",
     "state": {
      "_model_module": "@jupyter-widgets/base",
      "_model_module_version": "1.2.0",
      "_model_name": "LayoutModel",
      "_view_count": null,
      "_view_module": "@jupyter-widgets/base",
      "_view_module_version": "1.2.0",
      "_view_name": "LayoutView",
      "align_content": null,
      "align_items": null,
      "align_self": null,
      "border": null,
      "bottom": null,
      "display": null,
      "flex": null,
      "flex_flow": null,
      "grid_area": null,
      "grid_auto_columns": null,
      "grid_auto_flow": null,
      "grid_auto_rows": null,
      "grid_column": null,
      "grid_gap": null,
      "grid_row": null,
      "grid_template_areas": null,
      "grid_template_columns": null,
      "grid_template_rows": null,
      "height": null,
      "justify_content": null,
      "justify_items": null,
      "left": null,
      "margin": null,
      "max_height": null,
      "max_width": null,
      "min_height": null,
      "min_width": null,
      "object_fit": null,
      "object_position": null,
      "order": null,
      "overflow": null,
      "overflow_x": null,
      "overflow_y": null,
      "padding": null,
      "right": null,
      "top": null,
      "visibility": null,
      "width": null
     }
    },
    "61f9169e87894008a0e25a6ad3089d11": {
     "model_module": "@jupyter-widgets/controls",
     "model_module_version": "1.5.0",
     "model_name": "FloatProgressModel",
     "state": {
      "_dom_classes": [],
      "_model_module": "@jupyter-widgets/controls",
      "_model_module_version": "1.5.0",
      "_model_name": "FloatProgressModel",
      "_view_count": null,
      "_view_module": "@jupyter-widgets/controls",
      "_view_module_version": "1.5.0",
      "_view_name": "ProgressView",
      "bar_style": "success",
      "description": "",
      "description_tooltip": null,
      "layout": "IPY_MODEL_a8440965b010445a84167d0ad9ff5928",
      "max": 1707791567,
      "min": 0,
      "orientation": "horizontal",
      "style": "IPY_MODEL_44d1a1fde38a4c2c96aff148fcd83ddb",
      "value": 1707791567
     }
    },
    "62bbfa27f1f940d2ab676eb5315806af": {
     "model_module": "@jupyter-widgets/controls",
     "model_module_version": "1.5.0",
     "model_name": "HTMLModel",
     "state": {
      "_dom_classes": [],
      "_model_module": "@jupyter-widgets/controls",
      "_model_module_version": "1.5.0",
      "_model_name": "HTMLModel",
      "_view_count": null,
      "_view_module": "@jupyter-widgets/controls",
      "_view_module_version": "1.5.0",
      "_view_name": "HTMLView",
      "description": "",
      "description_tooltip": null,
      "layout": "IPY_MODEL_ca5b992491d94668ba948fd4ca599f30",
      "placeholder": "​",
      "style": "IPY_MODEL_da5965a3b00f4fde93890a203505f402",
      "value": " 1.78M/1.78M [00:00&lt;00:00, 2.09MB/s]"
     }
    },
    "6a668284194640dc9053445fca741b6f": {
     "model_module": "@jupyter-widgets/base",
     "model_module_version": "1.2.0",
     "model_name": "LayoutModel",
     "state": {
      "_model_module": "@jupyter-widgets/base",
      "_model_module_version": "1.2.0",
      "_model_name": "LayoutModel",
      "_view_count": null,
      "_view_module": "@jupyter-widgets/base",
      "_view_module_version": "1.2.0",
      "_view_name": "LayoutView",
      "align_content": null,
      "align_items": null,
      "align_self": null,
      "border": null,
      "bottom": null,
      "display": null,
      "flex": null,
      "flex_flow": null,
      "grid_area": null,
      "grid_auto_columns": null,
      "grid_auto_flow": null,
      "grid_auto_rows": null,
      "grid_column": null,
      "grid_gap": null,
      "grid_row": null,
      "grid_template_areas": null,
      "grid_template_columns": null,
      "grid_template_rows": null,
      "height": null,
      "justify_content": null,
      "justify_items": null,
      "left": null,
      "margin": null,
      "max_height": null,
      "max_width": null,
      "min_height": null,
      "min_width": null,
      "object_fit": null,
      "object_position": null,
      "order": null,
      "overflow": null,
      "overflow_x": null,
      "overflow_y": null,
      "padding": null,
      "right": null,
      "top": null,
      "visibility": null,
      "width": null
     }
    },
    "6d81c812d75b4d379657c1ccf60073ff": {
     "model_module": "@jupyter-widgets/controls",
     "model_module_version": "1.5.0",
     "model_name": "HTMLModel",
     "state": {
      "_dom_classes": [],
      "_model_module": "@jupyter-widgets/controls",
      "_model_module_version": "1.5.0",
      "_model_name": "HTMLModel",
      "_view_count": null,
      "_view_module": "@jupyter-widgets/controls",
      "_view_module_version": "1.5.0",
      "_view_name": "HTMLView",
      "description": "",
      "description_tooltip": null,
      "layout": "IPY_MODEL_03ebb57923b244f0a73cab38114a9904",
      "placeholder": "​",
      "style": "IPY_MODEL_1e49f9e136e740fe8f06048906f8ad72",
      "value": "Downloading: 100%"
     }
    },
    "6e78ea8c33994adca18a310db69adf22": {
     "model_module": "@jupyter-widgets/controls",
     "model_module_version": "1.5.0",
     "model_name": "ProgressStyleModel",
     "state": {
      "_model_module": "@jupyter-widgets/controls",
      "_model_module_version": "1.5.0",
      "_model_name": "ProgressStyleModel",
      "_view_count": null,
      "_view_module": "@jupyter-widgets/base",
      "_view_module_version": "1.2.0",
      "_view_name": "StyleView",
      "bar_color": null,
      "description_width": ""
     }
    },
    "6ed87226f99c4c4f95fd97fcc7af5dea": {
     "model_module": "@jupyter-widgets/controls",
     "model_module_version": "1.5.0",
     "model_name": "HTMLModel",
     "state": {
      "_dom_classes": [],
      "_model_module": "@jupyter-widgets/controls",
      "_model_module_version": "1.5.0",
      "_model_name": "HTMLModel",
      "_view_count": null,
      "_view_module": "@jupyter-widgets/controls",
      "_view_module_version": "1.5.0",
      "_view_name": "HTMLView",
      "description": "",
      "description_tooltip": null,
      "layout": "IPY_MODEL_db7d65ec78864badb3dd4742d8ebfd40",
      "placeholder": "​",
      "style": "IPY_MODEL_e98bc665135d4cb0bbea72db34875bd8",
      "value": " 655/655 [00:00&lt;00:00, 16.4kB/s]"
     }
    },
    "716c32cf47684127b5579e4703b526d6": {
     "model_module": "@jupyter-widgets/controls",
     "model_module_version": "1.5.0",
     "model_name": "HTMLModel",
     "state": {
      "_dom_classes": [],
      "_model_module": "@jupyter-widgets/controls",
      "_model_module_version": "1.5.0",
      "_model_name": "HTMLModel",
      "_view_count": null,
      "_view_module": "@jupyter-widgets/controls",
      "_view_module_version": "1.5.0",
      "_view_name": "HTMLView",
      "description": "",
      "description_tooltip": null,
      "layout": "IPY_MODEL_5f2db2c8868d4426a20a7020edcfa603",
      "placeholder": "​",
      "style": "IPY_MODEL_1ef9759b0e054ba9aad784abaa79dec1",
      "value": "Downloading: 100%"
     }
    },
    "80823747e90f4ce9b801b0784c9c3395": {
     "model_module": "@jupyter-widgets/controls",
     "model_module_version": "1.5.0",
     "model_name": "HTMLModel",
     "state": {
      "_dom_classes": [],
      "_model_module": "@jupyter-widgets/controls",
      "_model_module_version": "1.5.0",
      "_model_name": "HTMLModel",
      "_view_count": null,
      "_view_module": "@jupyter-widgets/controls",
      "_view_module_version": "1.5.0",
      "_view_name": "HTMLView",
      "description": "",
      "description_tooltip": null,
      "layout": "IPY_MODEL_a5310284602c46dead3d07de6485d206",
      "placeholder": "​",
      "style": "IPY_MODEL_9a478e955ad54116ac22451ccfdcd7a1",
      "value": " 112/112 [00:00&lt;00:00, 1.51kB/s]"
     }
    },
    "81af0da2f62d4d3593e40b579ad2c8dd": {
     "model_module": "@jupyter-widgets/controls",
     "model_module_version": "1.5.0",
     "model_name": "HBoxModel",
     "state": {
      "_dom_classes": [],
      "_model_module": "@jupyter-widgets/controls",
      "_model_module_version": "1.5.0",
      "_model_name": "HBoxModel",
      "_view_count": null,
      "_view_module": "@jupyter-widgets/controls",
      "_view_module_version": "1.5.0",
      "_view_name": "HBoxView",
      "box_style": "",
      "children": [
       "IPY_MODEL_716c32cf47684127b5579e4703b526d6",
       "IPY_MODEL_46896aeb1d9a43b59b5b18f0ff00cd90",
       "IPY_MODEL_62bbfa27f1f940d2ab676eb5315806af"
      ],
      "layout": "IPY_MODEL_b170f8c9f2f4441e8e54bd020b9518e6"
     }
    },
    "83e31cc91c1940f89a88209ce3f7e956": {
     "model_module": "catboost-widget",
     "model_module_version": "^1.0.0",
     "model_name": "CatboostWidgetModel",
     "state": {
      "_dom_classes": [],
      "_model_module": "catboost-widget",
      "_model_module_version": "^1.0.0",
      "_model_name": "CatboostWidgetModel",
      "_view_count": null,
      "_view_module": "catboost-widget",
      "_view_module_version": "^1.0.0",
      "_view_name": "CatboostWidgetView",
      "data": {
       "catboost_info": {
        "content": {
         "data": {
          "iterations": [
           {
            "iteration": 0,
            "learn": [
             0.7487306716,
             0.8416270527
            ],
            "passed_time": 0.02350039027,
            "remaining_time": 234.9804023,
            "test": [
             0.7443530939,
             0.844247282
            ]
           },
           {
            "iteration": 1,
            "learn": [
             0.7463074083,
             0.765618464
            ],
            "passed_time": 0.04022829572,
            "remaining_time": 201.1012503,
            "test": [
             0.7424491562,
             0.7697655236
            ]
           },
           {
            "iteration": 2,
            "learn": [
             0.7444034156,
             0.7327526171
            ],
            "passed_time": 0.05474302379,
            "remaining_time": 182.4220029,
            "test": [
             0.740199048,
             0.7390541331
            ]
           },
           {
            "iteration": 3,
            "learn": [
             0.7438841449,
             0.71706823
            ],
            "passed_time": 0.0706245891,
            "remaining_time": 176.4908481,
            "test": [
             0.7407183038,
             0.7244603763
            ]
           },
           {
            "iteration": 4,
            "learn": [
             0.7437687514,
             0.7088372032
            ],
            "passed_time": 0.08640840872,
            "remaining_time": 172.730409,
            "test": [
             0.7397663349,
             0.7174325914
            ]
           },
           {
            "iteration": 5,
            "learn": [
             0.7435379645,
             0.7039512354
            ],
            "passed_time": 0.09947828991,
            "remaining_time": 165.6976716,
            "test": [
             0.7395932497,
             0.7134114865
            ]
           },
           {
            "iteration": 6,
            "learn": [
             0.7446918994,
             0.700627362
            ],
            "passed_time": 0.1155954042,
            "remaining_time": 165.0206962,
            "test": [
             0.7397663349,
             0.7101661382
            ]
           },
           {
            "iteration": 7,
            "learn": [
             0.7438841449,
             0.6989312241
            ],
            "passed_time": 0.1288690538,
            "remaining_time": 160.9574482,
            "test": [
             0.7400259628,
             0.7094751494
            ]
           },
           {
            "iteration": 8,
            "learn": [
             0.7438841449,
             0.6966243685
            ],
            "passed_time": 0.1424720488,
            "remaining_time": 158.1598044,
            "test": [
             0.7398528775,
             0.7076063274
            ]
           },
           {
            "iteration": 9,
            "learn": [
             0.7435379645,
             0.6949607978
            ],
            "passed_time": 0.1557709233,
            "remaining_time": 155.6151524,
            "test": [
             0.7389874513,
             0.7065174032
            ]
           },
           {
            "iteration": 10,
            "learn": [
             0.7443457189,
             0.6929898679
            ],
            "passed_time": 0.1700286845,
            "remaining_time": 154.4015027,
            "test": [
             0.7395067071,
             0.7053146805
            ]
           },
           {
            "iteration": 11,
            "learn": [
             0.7446918994,
             0.6913306921
            ],
            "passed_time": 0.1832879978,
            "remaining_time": 152.5567101,
            "test": [
             0.7395067071,
             0.7049592134
            ]
           },
           {
            "iteration": 12,
            "learn": [
             0.7449803831,
             0.6898248295
            ],
            "passed_time": 0.1955007571,
            "remaining_time": 150.189697,
            "test": [
             0.7395932497,
             0.704234588
            ]
           },
           {
            "iteration": 13,
            "learn": [
             0.7453265636,
             0.6884833238
            ],
            "passed_time": 0.2091055336,
            "remaining_time": 149.1519899,
            "test": [
             0.7395932497,
             0.70334423
            ]
           },
           {
            "iteration": 14,
            "learn": [
             0.7455573506,
             0.6873375589
            ],
            "passed_time": 0.2226791582,
            "remaining_time": 148.230093,
            "test": [
             0.7396797923,
             0.7025170465
            ]
           },
           {
            "iteration": 15,
            "learn": [
             0.7455573506,
             0.686025296
            ],
            "passed_time": 0.2388230855,
            "remaining_time": 149.0256054,
            "test": [
             0.7397663349,
             0.701860117
            ]
           },
           {
            "iteration": 16,
            "learn": [
             0.745903531,
             0.6847500514
            ],
            "passed_time": 0.2515389314,
            "remaining_time": 147.7125384,
            "test": [
             0.740199048,
             0.7008576509
            ]
           },
           {
            "iteration": 17,
            "learn": [
             0.746134318,
             0.68370334
            ],
            "passed_time": 0.2633910572,
            "remaining_time": 146.064974,
            "test": [
             0.7403721333,
             0.70047066
            ]
           },
           {
            "iteration": 18,
            "learn": [
             0.7465381952,
             0.6820932965
            ],
            "passed_time": 0.2752911057,
            "remaining_time": 144.6147645,
            "test": [
             0.7401125054,
             0.6995333121
            ]
           },
           {
            "iteration": 19,
            "learn": [
             0.7464804985,
             0.6813567615
            ],
            "passed_time": 0.2858414111,
            "remaining_time": 142.6348642,
            "test": [
             0.7401125054,
             0.699319491
            ]
           },
           {
            "iteration": 20,
            "learn": [
             0.7466535887,
             0.680912767
            ],
            "passed_time": 0.296558638,
            "remaining_time": 140.9218404,
            "test": [
             0.7403721333,
             0.6992233983
            ]
           },
           {
            "iteration": 21,
            "learn": [
             0.747057466,
             0.6798617735
            ],
            "passed_time": 0.3073914079,
            "remaining_time": 139.4159758,
            "test": [
             0.7407183038,
             0.6983539576
            ]
           },
           {
            "iteration": 22,
            "learn": [
             0.747057466,
             0.6792843553
            ],
            "passed_time": 0.3177963171,
            "remaining_time": 137.8545155,
            "test": [
             0.7408048464,
             0.6983959612
            ]
           },
           {
            "iteration": 23,
            "learn": [
             0.7476921302,
             0.6785470314
            ],
            "passed_time": 0.3297321985,
            "remaining_time": 137.0586839,
            "test": [
             0.7408048464,
             0.6980751028
            ]
           },
           {
            "iteration": 24,
            "learn": [
             0.7479229171,
             0.6776942014
            ],
            "passed_time": 0.3427844024,
            "remaining_time": 136.7709765,
            "test": [
             0.7406317611,
             0.6978911152
            ]
           },
           {
            "iteration": 25,
            "learn": [
             0.7483844911,
             0.676435184
            ],
            "passed_time": 0.3542558907,
            "remaining_time": 135.8980097,
            "test": [
             0.7405452185,
             0.6973620558
            ]
           },
           {
            "iteration": 26,
            "learn": [
             0.7485575814,
             0.6750222335
            ],
            "passed_time": 0.3653513248,
            "remaining_time": 134.9499542,
            "test": [
             0.7420164431,
             0.696779034
            ]
           },
           {
            "iteration": 27,
            "learn": [
             0.7487306716,
             0.6739027814
            ],
            "passed_time": 0.377737374,
            "remaining_time": 134.5284676,
            "test": [
             0.7416702726,
             0.6965980044
            ]
           },
           {
            "iteration": 28,
            "learn": [
             0.7488460651,
             0.6731808396
            ],
            "passed_time": 0.3885328941,
            "remaining_time": 133.5883271,
            "test": [
             0.7414106447,
             0.6961947868
            ]
           },
           {
            "iteration": 29,
            "learn": [
             0.7489037618,
             0.6723492515
            ],
            "passed_time": 0.3992882562,
            "remaining_time": 132.6967971,
            "test": [
             0.7412375595,
             0.6961018634
            ]
           },
           {
            "iteration": 30,
            "learn": [
             0.7489614586,
             0.6721529473
            ],
            "passed_time": 0.4098478833,
            "remaining_time": 131.7991467,
            "test": [
             0.7413241021,
             0.6960735088
            ]
           },
           {
            "iteration": 31,
            "learn": [
             0.7490191553,
             0.6715660069
            ],
            "passed_time": 0.4201574392,
            "remaining_time": 130.8790423,
            "test": [
             0.7411510169,
             0.69615422
            ]
           },
           {
            "iteration": 32,
            "learn": [
             0.7491345488,
             0.6709231164
            ],
            "passed_time": 0.4304257179,
            "remaining_time": 130.00161,
            "test": [
             0.7411510169,
             0.6961645307
            ]
           },
           {
            "iteration": 33,
            "learn": [
             0.7490191553,
             0.6703522905
            ],
            "passed_time": 0.4407083762,
            "remaining_time": 129.1794023,
            "test": [
             0.7408048464,
             0.6960792981
            ]
           },
           {
            "iteration": 34,
            "learn": [
             0.7488460651,
             0.669753236
            ],
            "passed_time": 0.4513311206,
            "remaining_time": 128.5004176,
            "test": [
             0.7406317611,
             0.6957351982
            ]
           },
           {
            "iteration": 35,
            "learn": [
             0.7490191553,
             0.6691153601
            ],
            "passed_time": 0.461852277,
            "remaining_time": 127.8304469,
            "test": [
             0.7405452185,
             0.6955986654
            ]
           },
           {
            "iteration": 36,
            "learn": [
             0.7490191553,
             0.668450946
            ],
            "passed_time": 0.4719959888,
            "remaining_time": 127.0944875,
            "test": [
             0.7402855907,
             0.6954868952
            ]
           },
           {
            "iteration": 37,
            "learn": [
             0.7489614586,
             0.6678179158
            ],
            "passed_time": 0.481582741,
            "remaining_time": 126.2507175,
            "test": [
             0.7405452185,
             0.6953117816
            ]
           },
           {
            "iteration": 38,
            "learn": [
             0.7489037618,
             0.6673628215
            ],
            "passed_time": 0.4912172992,
            "remaining_time": 125.4619363,
            "test": [
             0.7402855907,
             0.6951605011
            ]
           },
           {
            "iteration": 39,
            "learn": [
             0.7490191553,
             0.6668456919
            ],
            "passed_time": 0.5011835469,
            "remaining_time": 124.7947032,
            "test": [
             0.740199048,
             0.6949523001
            ]
           },
           {
            "iteration": 40,
            "learn": [
             0.7491922456,
             0.6661684312
            ],
            "passed_time": 0.5108481897,
            "remaining_time": 124.0862712,
            "test": [
             0.740199048,
             0.6950092628
            ]
           },
           {
            "iteration": 41,
            "learn": [
             0.7494230325,
             0.6653995545
            ],
            "passed_time": 0.5413049658,
            "remaining_time": 128.3408297,
            "test": [
             0.740199048,
             0.694872899
            ]
           },
           {
            "iteration": 42,
            "learn": [
             0.7494807293,
             0.6649349379
            ],
            "passed_time": 0.5512907705,
            "remaining_time": 127.6558652,
            "test": [
             0.7403721333,
             0.6947256328
            ]
           },
           {
            "iteration": 43,
            "learn": [
             0.7497115163,
             0.6643603933
            ],
            "passed_time": 0.5621570101,
            "remaining_time": 127.2007998,
            "test": [
             0.740199048,
             0.6945452794
            ]
           },
           {
            "iteration": 44,
            "learn": [
             0.7495961228,
             0.663673047
            ],
            "passed_time": 0.5717712258,
            "remaining_time": 126.4885012,
            "test": [
             0.7404586759,
             0.6941485271
            ]
           },
           {
            "iteration": 45,
            "learn": [
             0.7494230325,
             0.6632683809
            ],
            "passed_time": 0.5812135619,
            "remaining_time": 125.7695608,
            "test": [
             0.7403721333,
             0.6943607847
            ]
           },
           {
            "iteration": 46,
            "learn": [
             0.7496538195,
             0.6624050145
            ],
            "passed_time": 0.5910967057,
            "remaining_time": 125.1741598,
            "test": [
             0.740199048,
             0.6935936908
            ]
           },
           {
            "iteration": 47,
            "learn": [
             0.7495961228,
             0.6620779911
            ],
            "passed_time": 0.6006754382,
            "remaining_time": 124.5400408,
            "test": [
             0.7401125054,
             0.6937206735
            ]
           },
           {
            "iteration": 48,
            "learn": [
             0.7501730902,
             0.6616701134
            ],
            "passed_time": 0.6103085554,
            "remaining_time": 123.9424579,
            "test": [
             0.7402855907,
             0.6935286148
            ]
           },
           {
            "iteration": 49,
            "learn": [
             0.7501730902,
             0.661307086
            ],
            "passed_time": 0.6199431677,
            "remaining_time": 123.3686904,
            "test": [
             0.740199048,
             0.6934827658
            ]
           },
           {
            "iteration": 50,
            "learn": [
             0.750230787,
             0.6609601167
            ],
            "passed_time": 0.6294634334,
            "remaining_time": 122.7947392,
            "test": [
             0.7402855907,
             0.693509092
            ]
           },
           {
            "iteration": 51,
            "learn": [
             0.7501730902,
             0.6602622903
            ],
            "passed_time": 0.6391542033,
            "remaining_time": 122.2751157,
            "test": [
             0.7404586759,
             0.6929538332
            ]
           },
           {
            "iteration": 52,
            "learn": [
             0.7504038772,
             0.6598068015
            ],
            "passed_time": 0.6485419435,
            "remaining_time": 121.7178625,
            "test": [
             0.7406317611,
             0.6927929603
            ]
           },
           {
            "iteration": 53,
            "learn": [
             0.7504038772,
             0.6594468167
            ],
            "passed_time": 0.6580662134,
            "remaining_time": 121.2060474,
            "test": [
             0.7406317611,
             0.6927514638
            ]
           },
           {
            "iteration": 54,
            "learn": [
             0.750461574,
             0.6591132574
            ],
            "passed_time": 0.6674339853,
            "remaining_time": 120.6841997,
            "test": [
             0.7406317611,
             0.6927965944
            ]
           },
           {
            "iteration": 55,
            "learn": [
             0.7504038772,
             0.6585841827
            ],
            "passed_time": 0.6772280043,
            "remaining_time": 120.2563442,
            "test": [
             0.7404586759,
             0.6924552412
            ]
           },
           {
            "iteration": 56,
            "learn": [
             0.7506346642,
             0.6581264965
            ],
            "passed_time": 0.6864908544,
            "remaining_time": 119.7505011,
            "test": [
             0.7406317611,
             0.6924442966
            ]
           },
           {
            "iteration": 57,
            "learn": [
             0.7510385414,
             0.6575138067
            ],
            "passed_time": 0.6965864188,
            "remaining_time": 119.4045203,
            "test": [
             0.7405452185,
             0.6920750115
            ]
           },
           {
            "iteration": 58,
            "learn": [
             0.7510962382,
             0.6570438374
            ],
            "passed_time": 0.7059241653,
            "remaining_time": 118.9422394,
            "test": [
             0.7407183038,
             0.6919632414
            ]
           },
           {
            "iteration": 59,
            "learn": [
             0.7509808447,
             0.656599054
            ],
            "passed_time": 0.7153191631,
            "remaining_time": 118.5045414,
            "test": [
             0.740199048,
             0.6917689853
            ]
           },
           {
            "iteration": 60,
            "learn": [
             0.7510962382,
             0.6561042932
            ],
            "passed_time": 0.7247857139,
            "remaining_time": 118.0925444,
            "test": [
             0.7399394202,
             0.6919427466
            ]
           },
           {
            "iteration": 61,
            "learn": [
             0.7510962382,
             0.6552213752
            ],
            "passed_time": 0.7350155951,
            "remaining_time": 117.8158868,
            "test": [
             0.7405452185,
             0.6917386869
            ]
           },
           {
            "iteration": 62,
            "learn": [
             0.7509231479,
             0.6549610637
            ],
            "passed_time": 0.7449201224,
            "remaining_time": 117.4963691,
            "test": [
             0.7405452185,
             0.6917513218
            ]
           },
           {
            "iteration": 63,
            "learn": [
             0.7510385414,
             0.6546401256
            ],
            "passed_time": 0.7543688673,
            "remaining_time": 117.1157666,
            "test": [
             0.7407183038,
             0.6916554826
            ]
           },
           {
            "iteration": 64,
            "learn": [
             0.7511539349,
             0.6542968187
            ],
            "passed_time": 0.7641661913,
            "remaining_time": 116.7998632,
            "test": [
             0.7407183038,
             0.6916580603
            ]
           },
           {
            "iteration": 65,
            "learn": [
             0.7513847219,
             0.6538875324
            ],
            "passed_time": 0.773484409,
            "remaining_time": 116.421123,
            "test": [
             0.740891389,
             0.6915101603
            ]
           },
           {
            "iteration": 66,
            "learn": [
             0.7513270252,
             0.6536587738
            ],
            "passed_time": 0.7828466622,
            "remaining_time": 116.0599387,
            "test": [
             0.7408048464,
             0.6915493327
            ]
           },
           {
            "iteration": 67,
            "learn": [
             0.7512116317,
             0.6529909227
            ],
            "passed_time": 0.7935419256,
            "remaining_time": 115.9038001,
            "test": [
             0.740891389,
             0.691093843
            ]
           },
           {
            "iteration": 68,
            "learn": [
             0.7512693284,
             0.6522418228
            ],
            "passed_time": 0.8033959759,
            "remaining_time": 115.6308034,
            "test": [
             0.740891389,
             0.6905714179
            ]
           },
           {
            "iteration": 69,
            "learn": [
             0.7513270252,
             0.6519476483
            ],
            "passed_time": 0.8126007056,
            "remaining_time": 115.2732144,
            "test": [
             0.7408048464,
             0.6906345079
            ]
           },
           {
            "iteration": 70,
            "learn": [
             0.7513847219,
             0.6517161852
            ],
            "passed_time": 0.8221398014,
            "remaining_time": 114.9721984,
            "test": [
             0.7408048464,
             0.6905794045
            ]
           },
           {
            "iteration": 71,
            "learn": [
             0.7515578121,
             0.651282051
            ],
            "passed_time": 0.8315517547,
            "remaining_time": 114.6617475,
            "test": [
             0.7409779316,
             0.6903643157
            ]
           },
           {
            "iteration": 72,
            "learn": [
             0.7516732056,
             0.6508547908
            ],
            "passed_time": 0.8408331413,
            "remaining_time": 114.341789,
            "test": [
             0.7412375595,
             0.6901755531
            ]
           },
           {
            "iteration": 73,
            "learn": [
             0.7516155089,
             0.6505809566
            ],
            "passed_time": 0.8500463568,
            "remaining_time": 114.0210829,
            "test": [
             0.7411510169,
             0.6900803055
            ]
           },
           {
            "iteration": 74,
            "learn": [
             0.7517309024,
             0.6501972508
            ],
            "passed_time": 0.860044561,
            "remaining_time": 113.8125636,
            "test": [
             0.7409779316,
             0.6901791027
            ]
           },
           {
            "iteration": 75,
            "learn": [
             0.7517309024,
             0.6498329274
            ],
            "passed_time": 0.8690890468,
            "remaining_time": 113.4847329,
            "test": [
             0.7406317611,
             0.690166341
            ]
           },
           {
            "iteration": 76,
            "learn": [
             0.7518462959,
             0.6494710831
            ],
            "passed_time": 0.8785897723,
            "remaining_time": 113.2239781,
            "test": [
             0.7407183038,
             0.6899907203
            ]
           },
           {
            "iteration": 77,
            "learn": [
             0.7520193861,
             0.6490249475
            ],
            "passed_time": 0.887881206,
            "remaining_time": 112.9430426,
            "test": [
             0.7408048464,
             0.6897923231
            ]
           },
           {
            "iteration": 78,
            "learn": [
             0.7520193861,
             0.6487321253
            ],
            "passed_time": 0.8971764789,
            "remaining_time": 112.6694664,
            "test": [
             0.7410644743,
             0.6896694816
            ]
           },
           {
            "iteration": 79,
            "learn": [
             0.7521347796,
             0.6484378381
            ],
            "passed_time": 0.9061374131,
            "remaining_time": 112.3610392,
            "test": [
             0.7409779316,
             0.6896948358
            ]
           },
           {
            "iteration": 80,
            "learn": [
             0.7523655666,
             0.6479990836
            ],
            "passed_time": 0.9151905397,
            "remaining_time": 112.0712958,
            "test": [
             0.740891389,
             0.6894475048
            ]
           },
           {
            "iteration": 81,
            "learn": [
             0.7524809601,
             0.6476859773
            ],
            "passed_time": 0.925836088,
            "remaining_time": 111.9810039,
            "test": [
             0.7407183038,
             0.6894274327
            ]
           },
           {
            "iteration": 82,
            "learn": [
             0.7524232633,
             0.6473891546
            ],
            "passed_time": 0.9346329008,
            "remaining_time": 111.6717407,
            "test": [
             0.7403721333,
             0.6894312358
            ]
           },
           {
            "iteration": 83,
            "learn": [
             0.7524232633,
             0.6470224084
            ],
            "passed_time": 0.9435793946,
            "remaining_time": 111.3873009,
            "test": [
             0.7402855907,
             0.6892056672
            ]
           },
           {
            "iteration": 84,
            "learn": [
             0.7523078698,
             0.6467547722
            ],
            "passed_time": 0.9526210603,
            "remaining_time": 111.1204449,
            "test": [
             0.7402855907,
             0.6892452199
            ]
           },
           {
            "iteration": 85,
            "learn": [
             0.7523655666,
             0.6463219902
            ],
            "passed_time": 0.9614496232,
            "remaining_time": 110.8350182,
            "test": [
             0.7403721333,
             0.6891893137
            ]
           },
           {
            "iteration": 86,
            "learn": [
             0.7524809601,
             0.6458501052
            ],
            "passed_time": 0.973957467,
            "remaining_time": 110.9751767,
            "test": [
             0.7404586759,
             0.6892525726
            ]
           },
           {
            "iteration": 87,
            "learn": [
             0.7525963536,
             0.6455475354
            ],
            "passed_time": 0.9830143431,
            "remaining_time": 110.723161,
            "test": [
             0.7404586759,
             0.6892330498
            ]
           },
           {
            "iteration": 88,
            "learn": [
             0.7525963536,
             0.6451594346
            ],
            "passed_time": 0.9921923666,
            "remaining_time": 110.490096,
            "test": [
             0.7405452185,
             0.6891814961
            ]
           },
           {
            "iteration": 89,
            "learn": [
             0.7534618048,
             0.6443916847
            ],
            "passed_time": 1.012841762,
            "remaining_time": 111.5251318,
            "test": [
             0.7408048464,
             0.688865455
            ]
           },
           {
            "iteration": 90,
            "learn": [
             0.7534618048,
             0.6439899486
            ],
            "passed_time": 1.022437636,
            "remaining_time": 111.3333465,
            "test": [
             0.7408048464,
             0.6888623279
            ]
           },
           {
            "iteration": 91,
            "learn": [
             0.753404108,
             0.6436681089
            ],
            "passed_time": 1.031825134,
            "remaining_time": 111.1230808,
            "test": [
             0.7408048464,
             0.6886819745
            ]
           },
           {
            "iteration": 92,
            "learn": [
             0.7532887145,
             0.6433634543
            ],
            "passed_time": 1.040634334,
            "remaining_time": 110.8555307,
            "test": [
             0.740891389,
             0.688618462
            ]
           },
           {
            "iteration": 93,
            "learn": [
             0.7534618048,
             0.6431564447
            ],
            "passed_time": 1.04942208,
            "remaining_time": 110.5912247,
            "test": [
             0.7408048464,
             0.6886134756
            ]
           },
           {
            "iteration": 94,
            "learn": [
             0.7535771982,
             0.6428534805
            ],
            "passed_time": 1.058225676,
            "remaining_time": 110.3339508,
            "test": [
             0.7406317611,
             0.688435235
            ]
           },
           {
            "iteration": 95,
            "learn": [
             0.753634895,
             0.6425948593
            ],
            "passed_time": 1.072503222,
            "remaining_time": 110.6465824,
            "test": [
             0.7407183038,
             0.6883742157
            ]
           },
           {
            "iteration": 96,
            "learn": [
             0.7538079852,
             0.6422855845
            ],
            "passed_time": 1.08132569,
            "remaining_time": 110.3955496,
            "test": [
             0.7407183038,
             0.6883107455
            ]
           },
           {
            "iteration": 97,
            "learn": [
             0.7538079852,
             0.642072546
            ],
            "passed_time": 1.090026703,
            "remaining_time": 110.1371879,
            "test": [
             0.7407183038,
             0.6883445089
            ]
           },
           {
            "iteration": 98,
            "learn": [
             0.7540387722,
             0.641848295
            ],
            "passed_time": 1.098883791,
            "remaining_time": 109.8994789,
            "test": [
             0.7405452185,
             0.68851658
            ]
           },
           {
            "iteration": 99,
            "learn": [
             0.7539810755,
             0.6415796445
            ],
            "passed_time": 1.107745834,
            "remaining_time": 109.6668376,
            "test": [
             0.7404586759,
             0.6883833432
            ]
           },
           {
            "iteration": 100,
            "learn": [
             0.7540387722,
             0.6413233335
            ],
            "passed_time": 1.116799763,
            "remaining_time": 109.4574342,
            "test": [
             0.7403721333,
             0.6884474473
            ]
           },
           {
            "iteration": 101,
            "learn": [
             0.7541541657,
             0.641047978
            ],
            "passed_time": 1.125876141,
            "remaining_time": 109.2541377,
            "test": [
             0.7402855907,
             0.6885094808
            ]
           },
           {
            "iteration": 102,
            "learn": [
             0.754096469,
             0.6407749327
            ],
            "passed_time": 1.134621512,
            "remaining_time": 109.0228068,
            "test": [
             0.7401125054,
             0.688550259
            ]
           },
           {
            "iteration": 103,
            "learn": [
             0.7544426494,
             0.640348743
            ],
            "passed_time": 1.143688467,
            "remaining_time": 108.8263564,
            "test": [
             0.7400259628,
             0.6885568088
            ]
           },
           {
            "iteration": 104,
            "learn": [
             0.7547311332,
             0.6400123101
            ],
            "passed_time": 1.152560712,
            "remaining_time": 108.6151262,
            "test": [
             0.7401125054,
             0.6885972911
            ]
           },
           {
            "iteration": 105,
            "learn": [
             0.7546734364,
             0.6394477385
            ],
            "passed_time": 1.161611461,
            "remaining_time": 108.4243754,
            "test": [
             0.7400259628,
             0.6881162781
            ]
           },
           {
            "iteration": 106,
            "learn": [
             0.7546734364,
             0.6393132442
            ],
            "passed_time": 1.170546748,
            "remaining_time": 108.2263456,
            "test": [
             0.7400259628,
             0.68813335
            ]
           },
           {
            "iteration": 107,
            "learn": [
             0.7547311332,
             0.6385873019
            ],
            "passed_time": 1.180220637,
            "remaining_time": 108.099468,
            "test": [
             0.7397663349,
             0.6877853625
            ]
           },
           {
            "iteration": 108,
            "learn": [
             0.7545580429,
             0.638161225
            ],
            "passed_time": 1.189026205,
            "remaining_time": 107.8959467,
            "test": [
             0.7399394202,
             0.6878461705
            ]
           },
           {
            "iteration": 109,
            "learn": [
             0.7547888299,
             0.6378911096
            ],
            "passed_time": 1.20009102,
            "remaining_time": 107.8990926,
            "test": [
             0.7399394202,
             0.6878736799
            ]
           },
           {
            "iteration": 110,
            "learn": [
             0.7546734364,
             0.6376861847
            ],
            "passed_time": 1.214816166,
            "remaining_time": 108.2280817,
            "test": [
             0.7400259628,
             0.6877217232
            ]
           },
           {
            "iteration": 111,
            "learn": [
             0.7547311332,
             0.6373829951
            ],
            "passed_time": 1.223791792,
            "remaining_time": 108.0433325,
            "test": [
             0.7399394202,
             0.6875610616
            ]
           },
           {
            "iteration": 112,
            "learn": [
             0.7548465267,
             0.6370562534
            ],
            "passed_time": 1.232507474,
            "remaining_time": 107.8389504,
            "test": [
             0.7397663349,
             0.6876113053
            ]
           },
           {
            "iteration": 113,
            "learn": [
             0.7550196169,
             0.6366992548
            ],
            "passed_time": 1.241039117,
            "remaining_time": 107.6220413,
            "test": [
             0.7397663349,
             0.6876194609
            ]
           },
           {
            "iteration": 114,
            "learn": [
             0.7550773136,
             0.6362261302
            ],
            "passed_time": 1.249817995,
            "remaining_time": 107.4300077,
            "test": [
             0.7397663349,
             0.687243964
            ]
           },
           {
            "iteration": 115,
            "learn": [
             0.7552504039,
             0.6356632489
            ],
            "passed_time": 1.259517786,
            "remaining_time": 107.3196017,
            "test": [
             0.7399394202,
             0.6871756765
            ]
           },
           {
            "iteration": 116,
            "learn": [
             0.7552504039,
             0.6355288673
            ],
            "passed_time": 1.268351598,
            "remaining_time": 107.1377679,
            "test": [
             0.7400259628,
             0.687129912
            ]
           },
           {
            "iteration": 117,
            "learn": [
             0.7552504039,
             0.6353325068
            ],
            "passed_time": 1.277066236,
            "remaining_time": 106.948886,
            "test": [
             0.7400259628,
             0.6871881846
            ]
           },
           {
            "iteration": 118,
            "learn": [
             0.7552504039,
             0.6350511225
            ],
            "passed_time": 1.286834406,
            "remaining_time": 106.8505106,
            "test": [
             0.7399394202,
             0.6869887731
            ]
           },
           {
            "iteration": 119,
            "learn": [
             0.7552504039,
             0.6348553254
            ],
            "passed_time": 1.295526009,
            "remaining_time": 106.6649747,
            "test": [
             0.7399394202,
             0.6869332472
            ]
           },
           {
            "iteration": 120,
            "learn": [
             0.7554234941,
             0.6345012004
            ],
            "passed_time": 1.304538065,
            "remaining_time": 106.5085251,
            "test": [
             0.7400259628,
             0.6869610524
            ]
           },
           {
            "iteration": 121,
            "learn": [
             0.7553081006,
             0.6343572402
            ],
            "passed_time": 1.313460088,
            "remaining_time": 106.3472028,
            "test": [
             0.7401125054,
             0.6869412338
            ]
           },
           {
            "iteration": 122,
            "learn": [
             0.7554234941,
             0.6337652851
            ],
            "passed_time": 1.327115065,
            "remaining_time": 106.5684187,
            "test": [
             0.7397663349,
             0.6868156879
            ]
           },
           {
            "iteration": 123,
            "learn": [
             0.7555388876,
             0.6334947753
            ],
            "passed_time": 1.336729712,
            "remaining_time": 106.4640535,
            "test": [
             0.7396797923,
             0.686892131
            ]
           },
           {
            "iteration": 124,
            "learn": [
             0.7555965844,
             0.6332989219
            ],
            "passed_time": 1.345621472,
            "remaining_time": 106.3040963,
            "test": [
             0.7397663349,
             0.6868896801
            ]
           },
           {
            "iteration": 125,
            "learn": [
             0.7555388876,
             0.6330086351
            ],
            "passed_time": 1.359514944,
            "remaining_time": 106.5384965,
            "test": [
             0.7396797923,
             0.6867212009
            ]
           },
           {
            "iteration": 126,
            "learn": [
             0.7556542811,
             0.6328185852
            ],
            "passed_time": 1.368403062,
            "remaining_time": 106.3798695,
            "test": [
             0.7395932497,
             0.6867613452
            ]
           },
           {
            "iteration": 127,
            "learn": [
             0.7557119778,
             0.6324972526
            ],
            "passed_time": 1.378527738,
            "remaining_time": 106.3189518,
            "test": [
             0.7396797923,
             0.6867003259
            ]
           },
           {
            "iteration": 128,
            "learn": [
             0.7557119778,
             0.6323418546
            ],
            "passed_time": 1.387843306,
            "remaining_time": 106.1969091,
            "test": [
             0.7396797923,
             0.6866883249
            ]
           },
           {
            "iteration": 129,
            "learn": [
             0.7558273713,
             0.6320905582
            ],
            "passed_time": 1.396639671,
            "remaining_time": 106.0371812,
            "test": [
             0.7398528775,
             0.6866502089
            ]
           },
           {
            "iteration": 130,
            "learn": [
             0.7561158551,
             0.6316659462
            ],
            "passed_time": 1.406404274,
            "remaining_time": 105.9527006,
            "test": [
             0.7400259628,
             0.6864882796
            ]
           },
           {
            "iteration": 131,
            "learn": [
             0.7561158551,
             0.6312496732
            ],
            "passed_time": 1.415727331,
            "remaining_time": 105.8363432,
            "test": [
             0.7399394202,
             0.6862301307
            ]
           },
           {
            "iteration": 132,
            "learn": [
             0.7561735518,
             0.6310444666
            ],
            "passed_time": 1.424486728,
            "remaining_time": 105.6797786,
            "test": [
             0.7399394202,
             0.6862363002
            ]
           },
           {
            "iteration": 133,
            "learn": [
             0.7562312486,
             0.6308738555
            ],
            "passed_time": 1.433184001,
            "remaining_time": 105.5208459,
            "test": [
             0.7400259628,
             0.6861334041
            ]
           },
           {
            "iteration": 134,
            "learn": [
             0.7562312486,
             0.6306908487
            ],
            "passed_time": 1.442049791,
            "remaining_time": 105.3764533,
            "test": [
             0.7400259628,
             0.6861742245
            ]
           },
           {
            "iteration": 135,
            "learn": [
             0.756346642,
             0.630335146
            ],
            "passed_time": 1.451167118,
            "remaining_time": 105.2522975,
            "test": [
             0.7404586759,
             0.6862396385
            ]
           },
           {
            "iteration": 136,
            "learn": [
             0.756346642,
             0.6300751725
            ],
            "passed_time": 1.46026977,
            "remaining_time": 105.1287645,
            "test": [
             0.7404586759,
             0.6862392582
            ]
           },
           {
            "iteration": 137,
            "learn": [
             0.7565197323,
             0.629838075
            ],
            "passed_time": 1.469265885,
            "remaining_time": 104.9992765,
            "test": [
             0.7401125054,
             0.6859533887
            ]
           },
           {
            "iteration": 138,
            "learn": [
             0.7565197323,
             0.6295857081
            ],
            "passed_time": 1.478021017,
            "remaining_time": 104.8544263,
            "test": [
             0.740199048,
             0.6860118726
            ]
           },
           {
            "iteration": 139,
            "learn": [
             0.7566351258,
             0.6293501881
            ],
            "passed_time": 1.48750299,
            "remaining_time": 104.7627106,
            "test": [
             0.740199048,
             0.685715481
            ]
           },
           {
            "iteration": 140,
            "learn": [
             0.7565197323,
             0.6292144543
            ],
            "passed_time": 1.496412466,
            "remaining_time": 104.6321312,
            "test": [
             0.7404586759,
             0.6857476387
            ]
           },
           {
            "iteration": 141,
            "learn": [
             0.7565197323,
             0.6288940796
            ],
            "passed_time": 1.505275292,
            "remaining_time": 104.500027,
            "test": [
             0.7402855907,
             0.6857055506
            ]
           },
           {
            "iteration": 142,
            "learn": [
             0.7565197323,
             0.6285940452
            ],
            "passed_time": 1.514023527,
            "remaining_time": 104.3617476,
            "test": [
             0.7404586759,
             0.6855859206
            ]
           },
           {
            "iteration": 143,
            "learn": [
             0.7564620355,
             0.6283453971
            ],
            "passed_time": 1.524458904,
            "remaining_time": 104.3407427,
            "test": [
             0.7401125054,
             0.6856840417
            ]
           },
           {
            "iteration": 144,
            "learn": [
             0.7562889453,
             0.6279932441
            ],
            "passed_time": 1.556459163,
            "remaining_time": 105.7855521,
            "test": [
             0.7398528775,
             0.6857428214
            ]
           },
           {
            "iteration": 145,
            "learn": [
             0.7560004616,
             0.6275558419
            ],
            "passed_time": 1.570171813,
            "remaining_time": 105.9758428,
            "test": [
             0.7394201644,
             0.6855249435
            ]
           },
           {
            "iteration": 146,
            "learn": [
             0.756346642,
             0.6271093119
            ],
            "passed_time": 1.579978288,
            "remaining_time": 105.9015379,
            "test": [
             0.7392470792,
             0.6852498073
            ]
           },
           {
            "iteration": 147,
            "learn": [
             0.756577429,
             0.6268660728
            ],
            "passed_time": 1.588739378,
            "remaining_time": 105.7585159,
            "test": [
             0.7392470792,
             0.6851515595
            ]
           },
           {
            "iteration": 148,
            "learn": [
             0.756577429,
             0.6265848575
            ],
            "passed_time": 1.597605,
            "remaining_time": 105.6242071,
            "test": [
             0.7393336218,
             0.6852161284
            ]
           },
           {
            "iteration": 149,
            "learn": [
             0.756577429,
             0.6264148099
            ],
            "passed_time": 1.607528175,
            "remaining_time": 105.5610168,
            "test": [
             0.7393336218,
             0.6851865061
            ]
           },
           {
            "iteration": 150,
            "learn": [
             0.7566351258,
             0.6262382263
            ],
            "passed_time": 1.616337205,
            "remaining_time": 105.4258618,
            "test": [
             0.7394201644,
             0.6851287829
            ]
           },
           {
            "iteration": 151,
            "learn": [
             0.7572120932,
             0.6259636596
            ],
            "passed_time": 1.625319481,
            "remaining_time": 105.3035937,
            "test": [
             0.7395067071,
             0.6851677017
            ]
           },
           {
            "iteration": 152,
            "learn": [
             0.7572120932,
             0.6258280948
            ],
            "passed_time": 1.643127383,
            "remaining_time": 105.7508192,
            "test": [
             0.7394201644,
             0.6852412291
            ]
           },
           {
            "iteration": 153,
            "learn": [
             0.7573851835,
             0.6256648648
            ],
            "passed_time": 1.652815204,
            "remaining_time": 105.6728474,
            "test": [
             0.7394201644,
             0.6852692878
            ]
           },
           {
            "iteration": 154,
            "learn": [
             0.7576159705,
             0.6252584521
            ],
            "passed_time": 1.662437784,
            "remaining_time": 105.5916128,
            "test": [
             0.7391605366,
             0.6852321438
            ]
           },
           {
            "iteration": 155,
            "learn": [
             0.7575582737,
             0.6249514311
            ],
            "passed_time": 1.671764986,
            "remaining_time": 105.4926572,
            "test": [
             0.7391605366,
             0.6851221062
            ]
           },
           {
            "iteration": 156,
            "learn": [
             0.7575582737,
             0.6247905676
            ],
            "passed_time": 1.680538234,
            "remaining_time": 105.3601136,
            "test": [
             0.7391605366,
             0.6850150266
            ]
           },
           {
            "iteration": 157,
            "learn": [
             0.7576159705,
             0.6246454805
            ],
            "passed_time": 1.689297627,
            "remaining_time": 105.2282737,
            "test": [
             0.7391605366,
             0.6850857228
            ]
           },
           {
            "iteration": 158,
            "learn": [
             0.7576159705,
             0.624322345
            ],
            "passed_time": 1.698036669,
            "remaining_time": 105.0967224,
            "test": [
             0.7390739939,
             0.68490351
            ]
           },
           {
            "iteration": 159,
            "learn": [
             0.7576736672,
             0.6240063088
            ],
            "passed_time": 1.707067199,
            "remaining_time": 104.9846327,
            "test": [
             0.7393336218,
             0.6846697435
            ]
           },
           {
            "iteration": 160,
            "learn": [
             0.7576736672,
             0.6238349652
            ],
            "passed_time": 1.716114361,
            "remaining_time": 104.8748398,
            "test": [
             0.7393336218,
             0.6847771612
            ]
           },
           {
            "iteration": 161,
            "learn": [
             0.757731364,
             0.6235701462
            ],
            "passed_time": 1.725015967,
            "remaining_time": 104.7574511,
            "test": [
             0.7392470792,
             0.684842533
            ]
           },
           {
            "iteration": 162,
            "learn": [
             0.7580198477,
             0.6231833977
            ],
            "passed_time": 1.734521432,
            "remaining_time": 104.6778364,
            "test": [
             0.7389874513,
             0.6847859507
            ]
           },
           {
            "iteration": 163,
            "learn": [
             0.7580198477,
             0.6229437646
            ],
            "passed_time": 1.743709863,
            "remaining_time": 104.5800623,
            "test": [
             0.7389009087,
             0.6847824011
            ]
           },
           {
            "iteration": 164,
            "learn": [
             0.7581929379,
             0.6227446996
            ],
            "passed_time": 1.752426648,
            "remaining_time": 104.455249,
            "test": [
             0.7389874513,
             0.6847622444
            ]
           },
           {
            "iteration": 165,
            "learn": [
             0.7583083314,
             0.6224712598
            ],
            "passed_time": 1.761182667,
            "remaining_time": 104.3341587,
            "test": [
             0.7390739939,
             0.6849629236
            ]
           },
           {
            "iteration": 166,
            "learn": [
             0.7584237249,
             0.6222705044
            ],
            "passed_time": 1.769862418,
            "remaining_time": 104.2099231,
            "test": [
             0.7389874513,
             0.6849487674
            ]
           },
           {
            "iteration": 167,
            "learn": [
             0.7584814216,
             0.621961624
            ],
            "passed_time": 1.779014466,
            "remaining_time": 104.1147038,
            "test": [
             0.7389009087,
             0.6849461898
            ]
           },
           {
            "iteration": 168,
            "learn": [
             0.7586545119,
             0.6216620404
            ],
            "passed_time": 1.787637777,
            "remaining_time": 103.9897455,
            "test": [
             0.7390739939,
             0.6849301743
            ]
           },
           {
            "iteration": 169,
            "learn": [
             0.7586545119,
             0.6215119387
            ],
            "passed_time": 1.796369626,
            "remaining_time": 103.8724319,
            "test": [
             0.7389874513,
             0.6849988422
            ]
           },
           {
            "iteration": 170,
            "learn": [
             0.7585968151,
             0.621233428
            ],
            "passed_time": 1.805581368,
            "remaining_time": 103.7839723,
            "test": [
             0.7390739939,
             0.6849827844
            ]
           },
           {
            "iteration": 171,
            "learn": [
             0.7586545119,
             0.6210269818
            ],
            "passed_time": 1.814270849,
            "remaining_time": 103.6665925,
            "test": [
             0.7390739939,
             0.68499487
            ]
           },
           {
            "iteration": 172,
            "learn": [
             0.7588852989,
             0.6207307225
            ],
            "passed_time": 1.823461682,
            "remaining_time": 103.5789477,
            "test": [
             0.7392470792,
             0.6850753276
            ]
           },
           {
            "iteration": 173,
            "learn": [
             0.7588852989,
             0.6205619708
            ],
            "passed_time": 1.832600986,
            "remaining_time": 103.4892948,
            "test": [
             0.7390739939,
             0.6850911317
            ]
           },
           {
            "iteration": 174,
            "learn": [
             0.7588852989,
             0.6204435347
            ],
            "passed_time": 1.841194974,
            "remaining_time": 103.3699464,
            "test": [
             0.7389874513,
             0.6851338115
            ]
           },
           {
            "iteration": 175,
            "learn": [
             0.7588276021,
             0.6202041834
            ],
            "passed_time": 1.849635646,
            "remaining_time": 103.2432988,
            "test": [
             0.7388143661,
             0.685196352
            ]
           },
           {
            "iteration": 176,
            "learn": [
             0.7590006924,
             0.6199888911
            ],
            "passed_time": 1.858626078,
            "remaining_time": 103.148497,
            "test": [
             0.7387278235,
             0.6852290168
            ]
           },
           {
            "iteration": 177,
            "learn": [
             0.7589429956,
             0.6197637949
            ],
            "passed_time": 1.86710709,
            "remaining_time": 103.0265497,
            "test": [
             0.7388143661,
             0.6852098743
            ]
           },
           {
            "iteration": 178,
            "learn": [
             0.7590006924,
             0.6195104702
            ],
            "passed_time": 1.875669802,
            "remaining_time": 102.9103527,
            "test": [
             0.7387278235,
             0.6852654847
            ]
           },
           {
            "iteration": 179,
            "learn": [
             0.7591737826,
             0.6193373799
            ],
            "passed_time": 1.884758263,
            "remaining_time": 102.8240341,
            "test": [
             0.7387278235,
             0.685299544
            ]
           },
           {
            "iteration": 180,
            "learn": [
             0.7592314793,
             0.6191564015
            ],
            "passed_time": 1.903687696,
            "remaining_time": 103.2724281,
            "test": [
             0.7387278235,
             0.6852537372
            ]
           },
           {
            "iteration": 181,
            "learn": [
             0.7592314793,
             0.6188736085
            ],
            "passed_time": 1.912353113,
            "remaining_time": 103.1619938,
            "test": [
             0.7387278235,
             0.6852427081
            ]
           },
           {
            "iteration": 182,
            "learn": [
             0.7592314793,
             0.6187136465
            ],
            "passed_time": 1.920834484,
            "remaining_time": 103.0427985,
            "test": [
             0.7386412808,
             0.6851610251
            ]
           },
           {
            "iteration": 183,
            "learn": [
             0.7591737826,
             0.618250833
            ],
            "passed_time": 1.930542012,
            "remaining_time": 102.9902195,
            "test": [
             0.7395932497,
             0.6851735332
            ]
           },
           {
            "iteration": 184,
            "learn": [
             0.7591160859,
             0.6179772242
            ],
            "passed_time": 1.939234474,
            "remaining_time": 102.8842506,
            "test": [
             0.7393336218,
             0.6852528921
            ]
           },
           {
            "iteration": 185,
            "learn": [
             0.7590583891,
             0.6178574922
            ],
            "passed_time": 1.948176684,
            "remaining_time": 102.7925053,
            "test": [
             0.7394201644,
             0.6851732374
            ]
           },
           {
            "iteration": 186,
            "learn": [
             0.7591160859,
             0.6176637799
            ],
            "passed_time": 1.956869332,
            "remaining_time": 102.6885495,
            "test": [
             0.7395067071,
             0.685132586
            ]
           },
           {
            "iteration": 187,
            "learn": [
             0.7591160859,
             0.6175518234
            ],
            "passed_time": 1.965768892,
            "remaining_time": 102.5964062,
            "test": [
             0.7394201644,
             0.6851228669
            ]
           },
           {
            "iteration": 188,
            "learn": [
             0.7592891761,
             0.6173022174
            ],
            "passed_time": 1.974359382,
            "remaining_time": 102.4891,
            "test": [
             0.7395067071,
             0.6850632843
            ]
           },
           {
            "iteration": 189,
            "learn": [
             0.7594622663,
             0.6169960415
            ],
            "passed_time": 1.983544341,
            "remaining_time": 102.4135262,
            "test": [
             0.7395932497,
             0.6850023918
            ]
           },
           {
            "iteration": 190,
            "learn": [
             0.7596353566,
             0.6167934831
            ],
            "passed_time": 1.992560938,
            "remaining_time": 102.3300013,
            "test": [
             0.7395067071,
             0.6849708257
            ]
           },
           {
            "iteration": 191,
            "learn": [
             0.7598661435,
             0.6165589773
            ],
            "passed_time": 2.001390084,
            "remaining_time": 102.2376768,
            "test": [
             0.7394201644,
             0.684910736
            ]
           },
           {
            "iteration": 192,
            "learn": [
             0.7598661435,
             0.6163647579
            ],
            "passed_time": 2.026068832,
            "remaining_time": 102.9515909,
            "test": [
             0.7395932497,
             0.6848961573
            ]
           },
           {
            "iteration": 193,
            "learn": [
             0.7600392338,
             0.6159766572
            ],
            "passed_time": 2.0371185,
            "remaining_time": 102.9689898,
            "test": [
             0.7396797923,
             0.6849872214
            ]
           },
           {
            "iteration": 194,
            "learn": [
             0.7600392338,
             0.615810948
            ],
            "passed_time": 2.0559779,
            "remaining_time": 103.3787862,
            "test": [
             0.7397663349,
             0.6850890611
            ]
           },
           {
            "iteration": 195,
            "learn": [
             0.7601546273,
             0.6156773553
            ],
            "passed_time": 2.07295213,
            "remaining_time": 103.6899116,
            "test": [
             0.7396797923,
             0.6850839903
            ]
           },
           {
            "iteration": 196,
            "learn": [
             0.7603277175,
             0.6154184524
            ],
            "passed_time": 2.081467991,
            "remaining_time": 103.5768057,
            "test": [
             0.7398528775,
             0.6850893992
            ]
           },
           {
            "iteration": 197,
            "learn": [
             0.7602700208,
             0.6152976498
            ],
            "passed_time": 2.090117897,
            "remaining_time": 103.471392,
            "test": [
             0.7398528775,
             0.6851214301
            ]
           },
           {
            "iteration": 198,
            "learn": [
             0.7602700208,
             0.6151347016
            ],
            "passed_time": 2.098590054,
            "remaining_time": 103.3581966,
            "test": [
             0.7399394202,
             0.684954937
            ]
           },
           {
            "iteration": 199,
            "learn": [
             0.7603277175,
             0.6147470516
            ],
            "passed_time": 2.107116871,
            "remaining_time": 103.2487267,
            "test": [
             0.7397663349,
             0.6849313152
            ]
           },
           {
            "iteration": 200,
            "learn": [
             0.7603277175,
             0.6146408986
            ],
            "passed_time": 2.115997137,
            "remaining_time": 103.1574923,
            "test": [
             0.7395932497,
             0.6849005098
            ]
           },
           {
            "iteration": 201,
            "learn": [
             0.7603277175,
             0.6143030571
            ],
            "passed_time": 2.125011694,
            "remaining_time": 103.073587,
            "test": [
             0.7399394202,
             0.6847469896
            ]
           },
           {
            "iteration": 202,
            "learn": [
             0.7603854143,
             0.6141292344
            ],
            "passed_time": 2.133697626,
            "remaining_time": 102.9745598,
            "test": [
             0.7398528775,
             0.6848228412
            ]
           },
           {
            "iteration": 203,
            "learn": [
             0.7603854143,
             0.6139501153
            ],
            "passed_time": 2.142114707,
            "remaining_time": 102.8635082,
            "test": [
             0.7397663349,
             0.6848320532
            ]
           },
           {
            "iteration": 204,
            "learn": [
             0.7603854143,
             0.6137464864
            ],
            "passed_time": 2.150630533,
            "remaining_time": 102.758176,
            "test": [
             0.7397663349,
             0.6847457219
            ]
           },
           {
            "iteration": 205,
            "learn": [
             0.7603854143,
             0.6134159696
            ],
            "passed_time": 2.164015085,
            "remaining_time": 102.8852609,
            "test": [
             0.7395932497,
             0.6847736539
            ]
           },
           {
            "iteration": 206,
            "learn": [
             0.760443111,
             0.6132769678
            ],
            "passed_time": 2.172580238,
            "remaining_time": 102.7829868,
            "test": [
             0.7395932497,
             0.6847865845
            ]
           },
           {
            "iteration": 207,
            "learn": [
             0.7603854143,
             0.6129569875
            ],
            "passed_time": 2.181034608,
            "remaining_time": 102.6763985,
            "test": [
             0.7391605366,
             0.6848482377
            ]
           },
           {
            "iteration": 208,
            "learn": [
             0.7605008078,
             0.6128137599
            ],
            "passed_time": 2.189861216,
            "remaining_time": 102.5881874,
            "test": [
             0.7391605366,
             0.6847622444
            ]
           },
           {
            "iteration": 209,
            "learn": [
             0.760443111,
             0.6126945349
            ],
            "passed_time": 2.198144895,
            "remaining_time": 102.4754215,
            "test": [
             0.7391605366,
             0.6847459754
            ]
           },
           {
            "iteration": 210,
            "learn": [
             0.7605585045,
             0.6124768199
            ],
            "passed_time": 2.206655032,
            "remaining_time": 102.3741522,
            "test": [
             0.7391605366,
             0.6846647995
            ]
           },
           {
            "iteration": 211,
            "learn": [
             0.760443111,
             0.6123503829
            ],
            "passed_time": 2.215056964,
            "remaining_time": 102.2687621,
            "test": [
             0.7391605366,
             0.6847581032
            ]
           },
           {
            "iteration": 212,
            "learn": [
             0.760443111,
             0.6122359472
            ],
            "passed_time": 2.224108378,
            "remaining_time": 102.1941253,
            "test": [
             0.7392470792,
             0.6848367015
            ]
           },
           {
            "iteration": 213,
            "learn": [
             0.760443111,
             0.6120819578
            ],
            "passed_time": 2.232550708,
            "remaining_time": 102.0922487,
            "test": [
             0.7393336218,
             0.6847470741
            ]
           },
           {
            "iteration": 214,
            "learn": [
             0.760443111,
             0.6119164177
            ],
            "passed_time": 2.241132163,
            "remaining_time": 101.9975731,
            "test": [
             0.7392470792,
             0.6847705268
            ]
           },
           {
            "iteration": 215,
            "learn": [
             0.7605008078,
             0.6117396087
            ],
            "passed_time": 2.249595432,
            "remaining_time": 101.8983412,
            "test": [
             0.7392470792,
             0.684744919
            ]
           },
           {
            "iteration": 216,
            "learn": [
             0.7603277175,
             0.6114147828
            ],
            "passed_time": 2.258398238,
            "remaining_time": 101.8152533,
            "test": [
             0.7391605366,
             0.6848203903
            ]
           },
           {
            "iteration": 217,
            "learn": [
             0.7603854143,
             0.6112273811
            ],
            "passed_time": 2.267072859,
            "remaining_time": 101.727095,
            "test": [
             0.7388143661,
             0.6847275936
            ]
           },
           {
            "iteration": 218,
            "learn": [
             0.7605008078,
             0.6111132835
            ],
            "passed_time": 2.275667,
            "remaining_time": 101.6360682,
            "test": [
             0.7387278235,
             0.6847518492
            ]
           },
           {
            "iteration": 219,
            "learn": [
             0.7608469882,
             0.6108072766
            ],
            "passed_time": 2.284771124,
            "remaining_time": 101.5684618,
            "test": [
             0.7388143661,
             0.6849164407
            ]
           },
           {
            "iteration": 220,
            "learn": [
             0.7608469882,
             0.6104703367
            ],
            "passed_time": 2.293632742,
            "remaining_time": 101.4906542,
            "test": [
             0.7389009087,
             0.6848948051
            ]
           },
           {
            "iteration": 221,
            "learn": [
             0.7608469882,
             0.6102414654
            ],
            "passed_time": 2.302674458,
            "remaining_time": 101.4214002,
            "test": [
             0.7389009087,
             0.6850312534
            ]
           },
           {
            "iteration": 222,
            "learn": [
             0.7607892915,
             0.6101142959
            ],
            "passed_time": 2.311079914,
            "remaining_time": 101.3247907,
            "test": [
             0.7388143661,
             0.6850471843
            ]
           },
           {
            "iteration": 223,
            "learn": [
             0.7608469882,
             0.6096634274
            ],
            "passed_time": 2.326585856,
            "remaining_time": 101.5388541,
            "test": [
             0.7388143661,
             0.6850580867
            ]
           },
           {
            "iteration": 224,
            "learn": [
             0.7610200785,
             0.6095541754
            ],
            "passed_time": 2.33503602,
            "remaining_time": 101.4443427,
            "test": [
             0.7387278235,
             0.6851567571
            ]
           },
           {
            "iteration": 225,
            "learn": [
             0.761135472,
             0.6093926358
            ],
            "passed_time": 2.34350545,
            "remaining_time": 101.351426,
            "test": [
             0.7388143661,
             0.6851311915
            ]
           },
           {
            "iteration": 226,
            "learn": [
             0.7613085622,
             0.6092711571
            ],
            "passed_time": 2.352301538,
            "remaining_time": 101.2733169,
            "test": [
             0.7388143661,
             0.6851923376
            ]
           },
           {
            "iteration": 227,
            "learn": [
             0.7613085622,
             0.6090927705
            ],
            "passed_time": 2.361757106,
            "remaining_time": 101.2240809,
            "test": [
             0.7386412808,
             0.6850655239
            ]
           },
           {
            "iteration": 228,
            "learn": [
             0.7613662589,
             0.6088688576
            ],
            "passed_time": 2.370111315,
            "remaining_time": 101.1281994,
            "test": [
             0.7385547382,
             0.6849130179
            ]
           },
           {
            "iteration": 229,
            "learn": [
             0.7613085622,
             0.6087401668
            ],
            "passed_time": 2.378383382,
            "remaining_time": 101.0295897,
            "test": [
             0.7386412808,
             0.6848328561
            ]
           },
           {
            "iteration": 230,
            "learn": [
             0.7613662589,
             0.608449711
            ],
            "passed_time": 2.387445631,
            "remaining_time": 100.9651791,
            "test": [
             0.7386412808,
             0.6848449839
            ]
           },
           {
            "iteration": 231,
            "learn": [
             0.7615393492,
             0.6082035419
            ],
            "passed_time": 2.396459572,
            "remaining_time": 100.8992116,
            "test": [
             0.7386412808,
             0.6847010983
            ]
           },
           {
            "iteration": 232,
            "learn": [
             0.7617701362,
             0.6079634581
            ],
            "passed_time": 2.405107997,
            "remaining_time": 100.8184112,
            "test": [
             0.7387278235,
             0.6845911875
            ]
           },
           {
            "iteration": 233,
            "learn": [
             0.7618278329,
             0.6077593784
            ],
            "passed_time": 2.413998656,
            "remaining_time": 100.7483371,
            "test": [
             0.7387278235,
             0.684650094
            ]
           },
           {
            "iteration": 234,
            "learn": [
             0.7618278329,
             0.6076139533
            ],
            "passed_time": 2.423087901,
            "remaining_time": 100.6870355,
            "test": [
             0.7387278235,
             0.6846220352
            ]
           },
           {
            "iteration": 235,
            "learn": [
             0.7621163166,
             0.6075048704
            ],
            "passed_time": 2.432293675,
            "remaining_time": 100.6309976,
            "test": [
             0.738381653,
             0.6845952865
            ]
           },
           {
            "iteration": 236,
            "learn": [
             0.7620586199,
             0.6073471059
            ],
            "passed_time": 2.441437124,
            "remaining_time": 100.5727875,
            "test": [
             0.738381653,
             0.6845839616
            ]
           },
           {
            "iteration": 237,
            "learn": [
             0.7622317101,
             0.6071914261
            ],
            "passed_time": 2.450125524,
            "remaining_time": 100.4963251,
            "test": [
             0.7384681956,
             0.6845343094
            ]
           },
           {
            "iteration": 238,
            "learn": [
             0.7621163166,
             0.6069590615
            ],
            "passed_time": 2.459327345,
            "remaining_time": 100.4413984,
            "test": [
             0.7385547382,
             0.6847548072
            ]
           },
           {
            "iteration": 239,
            "learn": [
             0.7621163166,
             0.606855782
            ],
            "passed_time": 2.468374118,
            "remaining_time": 100.3805475,
            "test": [
             0.7387278235,
             0.6846530097
            ]
           },
           {
            "iteration": 240,
            "learn": [
             0.7620009231,
             0.6066782969
            ],
            "passed_time": 2.47808357,
            "remaining_time": 100.3469608,
            "test": [
             0.7386412808,
             0.6847036338
            ]
           },
           {
            "iteration": 241,
            "learn": [
             0.7621163166,
             0.6064838521
            ],
            "passed_time": 2.486821301,
            "remaining_time": 100.2743895,
            "test": [
             0.7384681956,
             0.6847578497
            ]
           },
           {
            "iteration": 242,
            "learn": [
             0.7623471036,
             0.6063476112
            ],
            "passed_time": 2.495537524,
            "remaining_time": 100.2014799,
            "test": [
             0.738381653,
             0.6848054735
            ]
           },
           {
            "iteration": 243,
            "learn": [
             0.7625201939,
             0.6062242731
            ],
            "passed_time": 2.504160965,
            "remaining_time": 100.1253868,
            "test": [
             0.7382951103,
             0.6848467587
            ]
           },
           {
            "iteration": 244,
            "learn": [
             0.7624048004,
             0.6057510922
            ],
            "passed_time": 2.515744226,
            "remaining_time": 100.1676936,
            "test": [
             0.738381653,
             0.6845276328
            ]
           },
           {
            "iteration": 245,
            "learn": [
             0.7623471036,
             0.6055829603
            ],
            "passed_time": 2.524275675,
            "remaining_time": 100.0885566,
            "test": [
             0.738381653,
             0.6845126315
            ]
           },
           {
            "iteration": 246,
            "learn": [
             0.7623471036,
             0.6054409722
            ],
            "passed_time": 2.532711905,
            "remaining_time": 100.0062316,
            "test": [
             0.7384681956,
             0.684540986
            ]
           },
           {
            "iteration": 247,
            "learn": [
             0.7624048004,
             0.6052585851
            ],
            "passed_time": 2.553630435,
            "remaining_time": 100.4153387,
            "test": [
             0.738381653,
             0.6846215704
            ]
           },
           {
            "iteration": 248,
            "learn": [
             0.7624624971,
             0.6051324862
            ],
            "passed_time": 2.583854714,
            "remaining_time": 101.1854109,
            "test": [
             0.7381220251,
             0.6847218889
            ]
           },
           {
            "iteration": 249,
            "learn": [
             0.7628663743,
             0.6048241692
            ],
            "passed_time": 2.595505195,
            "remaining_time": 101.2247026,
            "test": [
             0.738381653,
             0.684780584
            ]
           },
           {
            "iteration": 250,
            "learn": [
             0.7628663743,
             0.6046739548
            ],
            "passed_time": 2.60485719,
            "remaining_time": 101.1743137,
            "test": [
             0.738381653,
             0.6846842377
            ]
           },
           {
            "iteration": 251,
            "learn": [
             0.7628663743,
             0.6045518
            ],
            "passed_time": 2.613405162,
            "remaining_time": 101.0931489,
            "test": [
             0.7382951103,
             0.6847129303
            ]
           },
           {
            "iteration": 252,
            "learn": [
             0.7628086776,
             0.6044313918
            ],
            "passed_time": 2.622024463,
            "remaining_time": 101.0153061,
            "test": [
             0.7382951103,
             0.6847512576
            ]
           },
           {
            "iteration": 253,
            "learn": [
             0.7628663743,
             0.6043197171
            ],
            "passed_time": 2.630620809,
            "remaining_time": 100.9371276,
            "test": [
             0.738381653,
             0.6847250159
            ]
           },
           {
            "iteration": 254,
            "learn": [
             0.7629817678,
             0.6040895499
            ],
            "passed_time": 2.639223924,
            "remaining_time": 100.8597535,
            "test": [
             0.7382951103,
             0.6848858888
            ]
           },
           {
            "iteration": 255,
            "learn": [
             0.7626355874,
             0.6038850194
            ],
            "passed_time": 2.647776417,
            "remaining_time": 100.7809899,
            "test": [
             0.7384681956,
             0.6848575343
            ]
           },
           {
            "iteration": 256,
            "learn": [
             0.7627509808,
             0.6038036016
            ],
            "passed_time": 2.656439847,
            "remaining_time": 100.7069783,
            "test": [
             0.7384681956,
             0.6848495899
            ]
           },
           {
            "iteration": 257,
            "learn": [
             0.7626355874,
             0.6036709667
            ],
            "passed_time": 2.665847838,
            "remaining_time": 100.6615877,
            "test": [
             0.7384681956,
             0.6849315265
            ]
           },
           {
            "iteration": 258,
            "learn": [
             0.7626355874,
             0.6034570267
            ],
            "passed_time": 2.674712214,
            "remaining_time": 100.5960296,
            "test": [
             0.7385547382,
             0.6849023268
            ]
           },
           {
            "iteration": 259,
            "learn": [
             0.7626932841,
             0.6033069251
            ],
            "passed_time": 2.684047461,
            "remaining_time": 100.5485472,
            "test": [
             0.7386412808,
             0.6849250189
            ]
           },
           {
            "iteration": 260,
            "learn": [
             0.7626355874,
             0.6032224647
            ],
            "passed_time": 2.692893316,
            "remaining_time": 100.4830958,
            "test": [
             0.7387278235,
             0.6849590359
            ]
           },
           {
            "iteration": 261,
            "learn": [
             0.7627509808,
             0.6026396937
            ],
            "passed_time": 2.702486566,
            "remaining_time": 100.4458556,
            "test": [
             0.7386412808,
             0.6849865876
            ]
           },
           {
            "iteration": 262,
            "learn": [
             0.7628086776,
             0.6025154542
            ],
            "passed_time": 2.710934624,
            "remaining_time": 100.3664275,
            "test": [
             0.7387278235,
             0.6849735724
            ]
           },
           {
            "iteration": 263,
            "learn": [
             0.7628086776,
             0.6024086814
            ],
            "passed_time": 2.719509344,
            "remaining_time": 100.2922082,
            "test": [
             0.7387278235,
             0.6849245118
            ]
           },
           {
            "iteration": 264,
            "learn": [
             0.7628663743,
             0.6022375632
            ],
            "passed_time": 2.727824066,
            "remaining_time": 100.2089332,
            "test": [
             0.7388143661,
             0.6848719017
            ]
           },
           {
            "iteration": 265,
            "learn": [
             0.7628663743,
             0.6020403575
            ],
            "passed_time": 2.737070652,
            "remaining_time": 100.1603223,
            "test": [
             0.7387278235,
             0.6847362563
            ]
           },
           {
            "iteration": 266,
            "learn": [
             0.7629240711,
             0.6018818605
            ],
            "passed_time": 2.74579961,
            "remaining_time": 100.0931371,
            "test": [
             0.7388143661,
             0.6846950556
            ]
           },
           {
            "iteration": 267,
            "learn": [
             0.7630394646,
             0.6017734537
            ],
            "passed_time": 2.754178289,
            "remaining_time": 100.0136683,
            "test": [
             0.7388143661,
             0.6846813643
            ]
           },
           {
            "iteration": 268,
            "learn": [
             0.7629240711,
             0.6015977153
            ],
            "passed_time": 2.762478911,
            "remaining_time": 99.93190441,
            "test": [
             0.7386412808,
             0.6846932385
            ]
           },
           {
            "iteration": 269,
            "learn": [
             0.7632125548,
             0.6012599865
            ],
            "passed_time": 2.771017344,
            "remaining_time": 99.85925467,
            "test": [
             0.7386412808,
             0.6845469443
            ]
           },
           {
            "iteration": 270,
            "learn": [
             0.7632702516,
             0.6011011514
            ],
            "passed_time": 2.779512485,
            "remaining_time": 99.78552388,
            "test": [
             0.7385547382,
             0.6844416818
            ]
           },
           {
            "iteration": 271,
            "learn": [
             0.7630971613,
             0.6009987735
            ],
            "passed_time": 2.788189904,
            "remaining_time": 99.71879187,
            "test": [
             0.7386412808,
             0.684508448
            ]
           },
           {
            "iteration": 272,
            "learn": [
             0.7630971613,
             0.6008208376
            ],
            "passed_time": 2.796807453,
            "remaining_time": 99.65035198,
            "test": [
             0.7385547382,
             0.6844850376
            ]
           },
           {
            "iteration": 273,
            "learn": [
             0.7630971613,
             0.6006586782
            ],
            "passed_time": 2.805324124,
            "remaining_time": 99.57876799,
            "test": [
             0.7386412808,
             0.6844201306
            ]
           },
           {
            "iteration": 274,
            "learn": [
             0.7632125548,
             0.6004727414
            ],
            "passed_time": 2.813700094,
            "remaining_time": 99.50266697,
            "test": [
             0.7386412808,
             0.6843365037
            ]
           },
           {
            "iteration": 275,
            "learn": [
             0.763385645,
             0.6001950759
            ],
            "passed_time": 2.822305848,
            "remaining_time": 99.43515242,
            "test": [
             0.7385547382,
             0.6842799214
            ]
           },
           {
            "iteration": 276,
            "learn": [
             0.7635010385,
             0.6000666668
            ],
            "passed_time": 2.830539973,
            "remaining_time": 99.35501861,
            "test": [
             0.7385547382,
             0.6842530459
            ]
           },
           {
            "iteration": 277,
            "learn": [
             0.7635010385,
             0.5998608404
            ],
            "passed_time": 2.840049343,
            "remaining_time": 99.31999897,
            "test": [
             0.7386412808,
             0.6841563616
            ]
           },
           {
            "iteration": 278,
            "learn": [
             0.7636741288,
             0.5996740585
            ],
            "passed_time": 2.848574723,
            "remaining_time": 99.25087772,
            "test": [
             0.7384681956,
             0.6841573335
            ]
           },
           {
            "iteration": 279,
            "learn": [
             0.7637895223,
             0.5995118991
            ],
            "passed_time": 2.856826562,
            "remaining_time": 99.1726935,
            "test": [
             0.7385547382,
             0.6842166202
            ]
           },
           {
            "iteration": 280,
            "learn": [
             0.7637895223,
             0.5992123155
            ],
            "passed_time": 2.865609214,
            "remaining_time": 99.11336638,
            "test": [
             0.7385547382,
             0.6842742167
            ]
           },
           {
            "iteration": 281,
            "learn": [
             0.7637895223,
             0.5991136563
            ],
            "passed_time": 2.873866865,
            "remaining_time": 99.03630565,
            "test": [
             0.7385547382,
             0.6842812314
            ]
           },
           {
            "iteration": 282,
            "learn": [
             0.7640203093,
             0.5988601061
            ],
            "passed_time": 2.882348165,
            "remaining_time": 98.9674103,
            "test": [
             0.7386412808,
             0.6843571675
            ]
           },
           {
            "iteration": 283,
            "learn": [
             0.764078006,
             0.5987169912
            ],
            "passed_time": 2.890355585,
            "remaining_time": 98.88272839,
            "test": [
             0.7387278235,
             0.6843933819
            ]
           },
           {
            "iteration": 284,
            "learn": [
             0.764308793,
             0.59848519
            ],
            "passed_time": 2.899061118,
            "remaining_time": 98.82238161,
            "test": [
             0.7389009087,
             0.6842295509
            ]
           },
           {
            "iteration": 285,
            "learn": [
             0.764308793,
             0.598313452
            ],
            "passed_time": 2.907347802,
            "remaining_time": 98.74816975,
            "test": [
             0.7389009087,
             0.6843007542
            ]
           },
           {
            "iteration": 286,
            "learn": [
             0.7643664897,
             0.5981392349
            ],
            "passed_time": 2.9157175,
            "remaining_time": 98.67722676,
            "test": [
             0.7389009087,
             0.6843195164
            ]
           },
           {
            "iteration": 287,
            "learn": [
             0.7645972767,
             0.5979898093
            ],
            "passed_time": 2.923881296,
            "remaining_time": 98.59977481,
            "test": [
             0.7389009087,
             0.6843612664
            ]
           },
           {
            "iteration": 288,
            "learn": [
             0.7645972767,
             0.597880501
            ],
            "passed_time": 2.931926852,
            "remaining_time": 98.51882926,
            "test": [
             0.7389009087,
             0.6843916071
            ]
           },
           {
            "iteration": 289,
            "learn": [
             0.7646549735,
             0.597695015
            ],
            "passed_time": 2.94018686,
            "remaining_time": 98.44556694,
            "test": [
             0.7389009087,
             0.6843772819
            ]
           },
           {
            "iteration": 290,
            "learn": [
             0.764770367,
             0.5974874419
            ],
            "passed_time": 2.948378185,
            "remaining_time": 98.37045979,
            "test": [
             0.738381653,
             0.6843951144
            ]
           },
           {
            "iteration": 291,
            "learn": [
             0.7646549735,
             0.5972676985
            ],
            "passed_time": 2.95667294,
            "remaining_time": 98.29924967,
            "test": [
             0.738381653,
             0.6844176375
            ]
           },
           {
            "iteration": 292,
            "learn": [
             0.764770367,
             0.5971103283
            ],
            "passed_time": 2.965471109,
            "remaining_time": 98.24514694,
            "test": [
             0.7382951103,
             0.6843724223
            ]
           },
           {
            "iteration": 293,
            "learn": [
             0.7648280637,
             0.5969821447
            ],
            "passed_time": 2.973759275,
            "remaining_time": 98.17451539,
            "test": [
             0.7382951103,
             0.6844072422
            ]
           },
           {
            "iteration": 294,
            "learn": [
             0.7648857604,
             0.5967998139
            ],
            "passed_time": 2.9821168,
            "remaining_time": 98.10658827,
            "test": [
             0.7382085677,
             0.6845175756
            ]
           },
           {
            "iteration": 295,
            "learn": [
             0.7650588507,
             0.596628245
            ],
            "passed_time": 2.990284172,
            "remaining_time": 98.03282975,
            "test": [
             0.738381653,
             0.6844301033
            ]
           },
           {
            "iteration": 296,
            "learn": [
             0.7650588507,
             0.5964793829
            ],
            "passed_time": 3.01014844,
            "remaining_time": 98.34165088,
            "test": [
             0.7384681956,
             0.6844218632
            ]
           },
           {
            "iteration": 297,
            "learn": [
             0.7652896377,
             0.5962768245
            ],
            "passed_time": 3.018805927,
            "remaining_time": 98.28340637,
            "test": [
             0.7386412808,
             0.6842983455
            ]
           },
           {
            "iteration": 298,
            "learn": [
             0.7652319409,
             0.5961489789
            ],
            "passed_time": 3.027391031,
            "remaining_time": 98.22314513,
            "test": [
             0.7388143661,
             0.684201957
            ]
           },
           {
            "iteration": 299,
            "learn": [
             0.7653473344,
             0.5960064837
            ],
            "passed_time": 3.036139626,
            "remaining_time": 98.16851457,
            "test": [
             0.7389874513,
             0.6842215643
            ]
           },
           {
            "iteration": 300,
            "learn": [
             0.7650011539,
             0.5958024603
            ],
            "passed_time": 3.044627853,
            "remaining_time": 98.10579917,
            "test": [
             0.7392470792,
             0.6843545475
            ]
           },
           {
            "iteration": 301,
            "learn": [
             0.7650588507,
             0.5956921378
            ],
            "passed_time": 3.055962601,
            "remaining_time": 98.13485201,
            "test": [
             0.7392470792,
             0.6844100734
            ]
           },
           {
            "iteration": 302,
            "learn": [
             0.7650011539,
             0.5954930728
            ],
            "passed_time": 3.064112435,
            "remaining_time": 98.06171051,
            "test": [
             0.7391605366,
             0.6844955174
            ]
           },
           {
            "iteration": 303,
            "learn": [
             0.7650588507,
             0.595389737
            ],
            "passed_time": 3.072279006,
            "remaining_time": 97.98953042,
            "test": [
             0.7391605366,
             0.6845087016
            ]
           },
           {
            "iteration": 304,
            "learn": [
             0.7650011539,
             0.5953058964
            ],
            "passed_time": 3.080547178,
            "remaining_time": 97.92099964,
            "test": [
             0.7391605366,
             0.6845250974
            ]
           },
           {
            "iteration": 305,
            "learn": [
             0.7651742442,
             0.5951224388
            ],
            "passed_time": 3.088666215,
            "remaining_time": 97.84813819,
            "test": [
             0.7389874513,
             0.6844188629
            ]
           },
           {
            "iteration": 306,
            "learn": [
             0.7653473344,
             0.5949959455
            ],
            "passed_time": 3.097037851,
            "remaining_time": 97.7836739,
            "test": [
             0.7391605366,
             0.6844265537
            ]
           },
           {
            "iteration": 307,
            "learn": [
             0.7654627279,
             0.5947959789
            ],
            "passed_time": 3.105188904,
            "remaining_time": 97.71263264,
            "test": [
             0.7393336218,
             0.6845113638
            ]
           },
           {
            "iteration": 308,
            "learn": [
             0.7653473344,
             0.5946766976
            ],
            "passed_time": 3.113634936,
            "remaining_time": 97.65124973,
            "test": [
             0.7393336218,
             0.6845003347
            ]
           },
           {
            "iteration": 309,
            "learn": [
             0.7652896377,
             0.5945731928
            ],
            "passed_time": 3.122317643,
            "remaining_time": 97.59760634,
            "test": [
             0.7392470792,
             0.6845183785
            ]
           },
           {
            "iteration": 310,
            "learn": [
             0.7652319409,
             0.5944015112
            ],
            "passed_time": 3.140509256,
            "remaining_time": 97.84049577,
            "test": [
             0.7393336218,
             0.6845890324
            ]
           },
           {
            "iteration": 311,
            "learn": [
             0.7652896377,
             0.5942996967
            ],
            "passed_time": 3.14867476,
            "remaining_time": 97.77038805,
            "test": [
             0.7394201644,
             0.6845305063
            ]
           },
           {
            "iteration": 312,
            "learn": [
             0.7653473344,
             0.5941538209
            ],
            "passed_time": 3.15707731,
            "remaining_time": 97.70801247,
            "test": [
             0.7393336218,
             0.684541958
            ]
           },
           {
            "iteration": 313,
            "learn": [
             0.7654050312,
             0.5940042826
            ],
            "passed_time": 3.165429511,
            "remaining_time": 97.64442752,
            "test": [
             0.7394201644,
             0.6844915029
            ]
           },
           {
            "iteration": 314,
            "learn": [
             0.7654050312,
             0.5939146949
            ],
            "passed_time": 3.173669331,
            "remaining_time": 97.57773802,
            "test": [
             0.7392470792,
             0.6844725295
            ]
           },
           {
            "iteration": 315,
            "learn": [
             0.7653473344,
             0.5937962025
            ],
            "passed_time": 3.182146689,
            "remaining_time": 97.51869791,
            "test": [
             0.7392470792,
             0.684508448
            ]
           },
           {
            "iteration": 316,
            "learn": [
             0.7652896377,
             0.5936320147
            ],
            "passed_time": 3.190561569,
            "remaining_time": 97.45806836,
            "test": [
             0.7392470792,
             0.6845783414
            ]
           },
           {
            "iteration": 317,
            "learn": [
             0.7654627279,
             0.5934325552
            ],
            "passed_time": 3.199158794,
            "remaining_time": 97.403319,
            "test": [
             0.7392470792,
             0.6844473865
            ]
           },
           {
            "iteration": 318,
            "learn": [
             0.7656358181,
             0.5932534925
            ],
            "passed_time": 3.207611763,
            "remaining_time": 97.34448113,
            "test": [
             0.7394201644,
             0.6843697601
            ]
           },
           {
            "iteration": 319,
            "learn": [
             0.7656935149,
             0.5930720069
            ],
            "passed_time": 3.215832763,
            "remaining_time": 97.27894109,
            "test": [
             0.7394201644,
             0.6844510206
            ]
           },
           {
            "iteration": 320,
            "learn": [
             0.7654627279,
             0.5928700119
            ],
            "passed_time": 3.224684982,
            "remaining_time": 97.23279109,
            "test": [
             0.7394201644,
             0.6845687912
            ]
           },
           {
            "iteration": 321,
            "learn": [
             0.7653473344,
             0.5927518012
            ],
            "passed_time": 3.233075184,
            "remaining_time": 97.17298642,
            "test": [
             0.7397663349,
             0.6845327459
            ]
           },
           {
            "iteration": 322,
            "learn": [
             0.7654050312,
             0.5926277307
            ],
            "passed_time": 3.241471602,
            "remaining_time": 97.11368637,
            "test": [
             0.7396797923,
             0.6845775807
            ]
           },
           {
            "iteration": 323,
            "learn": [
             0.7654050312,
             0.5924588099
            ],
            "passed_time": 3.254783714,
            "remaining_time": 97.20150375,
            "test": [
             0.7397663349,
             0.6845458034
            ]
           },
           {
            "iteration": 324,
            "learn": [
             0.7654627279,
             0.592326006
            ],
            "passed_time": 3.263201568,
            "remaining_time": 97.14300052,
            "test": [
             0.7397663349,
             0.6845551844
            ]
           },
           {
            "iteration": 325,
            "learn": [
             0.7657512116,
             0.5920555525
            ],
            "passed_time": 3.271738197,
            "remaining_time": 97.08832921,
            "test": [
             0.7395067071,
             0.6846879141
            ]
           },
           {
            "iteration": 326,
            "learn": [
             0.7660396954,
             0.591852318
            ],
            "passed_time": 3.280974018,
            "remaining_time": 97.05462285,
            "test": [
             0.7394201644,
             0.6847840491
            ]
           },
           {
            "iteration": 327,
            "learn": [
             0.7661550889,
             0.5917284165
            ],
            "passed_time": 3.289586118,
            "remaining_time": 97.00267358,
            "test": [
             0.7394201644,
             0.6847962614
            ]
           },
           {
            "iteration": 328,
            "learn": [
             0.7662704823,
             0.5914891778
            ],
            "passed_time": 3.308786386,
            "remaining_time": 97.26222839,
            "test": [
             0.7394201644,
             0.6847846407
            ]
           },
           {
            "iteration": 329,
            "learn": [
             0.7662704823,
             0.5913340615
            ],
            "passed_time": 3.317165883,
            "remaining_time": 97.20301238,
            "test": [
             0.7395067071,
             0.6847937683
            ]
           },
           {
            "iteration": 330,
            "learn": [
             0.7661550889,
             0.5912032859
            ],
            "passed_time": 3.325246392,
            "remaining_time": 97.13536967,
            "test": [
             0.7395932497,
             0.6847766964
            ]
           },
           {
            "iteration": 331,
            "learn": [
             0.7665012693,
             0.5907615452
            ],
            "passed_time": 3.334297547,
            "remaining_time": 97.09635146,
            "test": [
             0.7394201644,
             0.6848535621
            ]
           },
           {
            "iteration": 332,
            "learn": [
             0.7665589661,
             0.5906450812
            ],
            "passed_time": 3.342437854,
            "remaining_time": 97.03107128,
            "test": [
             0.7394201644,
             0.68487655
            ]
           },
           {
            "iteration": 333,
            "learn": [
             0.7666166628,
             0.5905183061
            ],
            "passed_time": 3.350512483,
            "remaining_time": 96.96423252,
            "test": [
             0.7395067071,
             0.6847960924
            ]
           },
           {
            "iteration": 334,
            "learn": [
             0.7666166628,
             0.5904025745
            ],
            "passed_time": 3.358592107,
            "remaining_time": 96.89788869,
            "test": [
             0.7395067071,
             0.6848042058
            ]
           },
           {
            "iteration": 335,
            "learn": [
             0.7667320563,
             0.5902734893
            ],
            "passed_time": 3.366635056,
            "remaining_time": 96.83083685,
            "test": [
             0.7395932497,
             0.6847663011
            ]
           },
           {
            "iteration": 336,
            "learn": [
             0.7668474498,
             0.5901427138
            ],
            "passed_time": 3.374685007,
            "remaining_time": 96.76433596,
            "test": [
             0.7397663349,
             0.6848050087
            ]
           },
           {
            "iteration": 337,
            "learn": [
             0.7668474498,
             0.5900206153
            ],
            "passed_time": 3.382873605,
            "remaining_time": 96.7021443,
            "test": [
             0.7395932497,
             0.6849019043
            ]
           },
           {
            "iteration": 338,
            "learn": [
             0.7667897531,
             0.5898850505
            ],
            "passed_time": 3.390983804,
            "remaining_time": 96.63803696,
            "test": [
             0.7396797923,
             0.684968079
            ]
           },
           {
            "iteration": 339,
            "learn": [
             0.7667897531,
             0.589687225
            ],
            "passed_time": 3.399158685,
            "remaining_time": 96.57609675,
            "test": [
             0.7395932497,
             0.6849744598
            ]
           },
           {
            "iteration": 340,
            "learn": [
             0.7667897531,
             0.5895887349
            ],
            "passed_time": 3.4073552,
            "remaining_time": 96.51508468,
            "test": [
             0.7395932497,
             0.6850275348
            ]
           },
           {
            "iteration": 341,
            "learn": [
             0.7668474498,
             0.5894218425
            ],
            "passed_time": 3.415985806,
            "remaining_time": 96.46664011,
            "test": [
             0.7395067071,
             0.6850736795
            ]
           },
           {
            "iteration": 342,
            "learn": [
             0.7668474498,
             0.5892907289
            ],
            "passed_time": 3.424079199,
            "remaining_time": 96.4033027,
            "test": [
             0.7395067071,
             0.6850491704
            ]
           },
           {
            "iteration": 343,
            "learn": [
             0.7669051465,
             0.5891117225
            ],
            "passed_time": 3.434363546,
            "remaining_time": 96.40178605,
            "test": [
             0.7395932497,
             0.6850803984
            ]
           },
           {
            "iteration": 344,
            "learn": [
             0.7670782368,
             0.5888404239
            ],
            "passed_time": 3.452081674,
            "remaining_time": 96.6082567,
            "test": [
             0.7398528775,
             0.6849833338
            ]
           },
           {
            "iteration": 345,
            "learn": [
             0.7671359335,
             0.5886722919
            ],
            "passed_time": 3.460182482,
            "remaining_time": 96.54509156,
            "test": [
             0.7398528775,
             0.6851012312
            ]
           },
           {
            "iteration": 346,
            "learn": [
             0.767251327,
             0.5885839438
            ],
            "passed_time": 3.468216785,
            "remaining_time": 96.48039375,
            "test": [
             0.7398528775,
             0.6851259516
            ]
           },
           {
            "iteration": 347,
            "learn": [
             0.7678859912,
             0.5881802356
            ],
            "passed_time": 3.476905492,
            "remaining_time": 96.43417186,
            "test": [
             0.7400259628,
             0.6850312956
            ]
           },
           {
            "iteration": 348,
            "learn": [
             0.7678282945,
             0.5880013419
            ],
            "passed_time": 3.485018548,
            "remaining_time": 96.37224644,
            "test": [
             0.7398528775,
             0.6849131024
            ]
           },
           {
            "iteration": 349,
            "learn": [
             0.7680013847,
             0.5878897798
            ],
            "passed_time": 3.493355981,
            "remaining_time": 96.31681491,
            "test": [
             0.7398528775,
             0.68491961
            ]
           },
           {
            "iteration": 350,
            "learn": [
             0.767943688,
             0.5878271811
            ],
            "passed_time": 3.503918019,
            "remaining_time": 96.32280616,
            "test": [
             0.7398528775,
             0.6849192297
            ]
           },
           {
            "iteration": 351,
            "learn": [
             0.767943688,
             0.5876482874
            ],
            "passed_time": 3.512260371,
            "remaining_time": 96.26786381,
            "test": [
             0.7399394202,
             0.6848699579
            ]
           },
           {
            "iteration": 352,
            "learn": [
             0.768174475,
             0.5874883818
            ],
            "passed_time": 3.520439535,
            "remaining_time": 96.20872577,
            "test": [
             0.7401125054,
             0.6849878553
            ]
           },
           {
            "iteration": 353,
            "learn": [
             0.7682321717,
             0.5873924835
            ],
            "passed_time": 3.528972932,
            "remaining_time": 96.15952797,
            "test": [
             0.7401125054,
             0.6850162098
            ]
           },
           {
            "iteration": 354,
            "learn": [
             0.7682321717,
             0.5872844711
            ],
            "passed_time": 3.538777856,
            "remaining_time": 96.14510542,
            "test": [
             0.7401125054,
             0.6849492745
            ]
           },
           {
            "iteration": 355,
            "learn": [
             0.7683475652,
             0.5871983767
            ],
            "passed_time": 3.547085102,
            "remaining_time": 96.09013688,
            "test": [
             0.7402855907,
             0.6849499084
            ]
           },
           {
            "iteration": 356,
            "learn": [
             0.7682898685,
             0.5870998866
            ],
            "passed_time": 3.55534904,
            "remaining_time": 96.03425992,
            "test": [
             0.740199048,
             0.6849518522
            ]
           },
           {
            "iteration": 357,
            "learn": [
             0.7685783522,
             0.5868958632
            ],
            "passed_time": 3.571013476,
            "remaining_time": 96.17796629,
            "test": [
             0.7402855907,
             0.6850496775
            ]
           },
           {
            "iteration": 358,
            "learn": [
             0.7686360489,
             0.5867368028
            ],
            "passed_time": 3.590745707,
            "remaining_time": 96.43002606,
            "test": [
             0.7402855907,
             0.6849465278
            ]
           },
           {
            "iteration": 359,
            "learn": [
             0.7685783522,
             0.5866152677
            ],
            "passed_time": 3.612828969,
            "remaining_time": 96.74353127,
            "test": [
             0.7405452185,
             0.6849360903
            ]
           },
           {
            "iteration": 360,
            "learn": [
             0.7688668359,
             0.5864936763
            ],
            "passed_time": 3.62099057,
            "remaining_time": 96.68345735,
            "test": [
             0.7406317611,
             0.6849279769
            ]
           },
           {
            "iteration": 361,
            "learn": [
             0.7689245327,
             0.5863358555
            ],
            "passed_time": 3.629239447,
            "remaining_time": 96.62599389,
            "test": [
             0.7407183038,
             0.684767273
            ]
           },
           {
            "iteration": 362,
            "learn": [
             0.7688668359,
             0.5862524656
            ],
            "passed_time": 3.637366243,
            "remaining_time": 96.56556056,
            "test": [
             0.7407183038,
             0.6847244665
            ]
           },
           {
            "iteration": 363,
            "learn": [
             0.7688668359,
             0.586110872
            ],
            "passed_time": 3.645529509,
            "remaining_time": 96.50638009,
            "test": [
             0.7405452185,
             0.6848274895
            ]
           },
           {
            "iteration": 364,
            "learn": [
             0.7690399261,
             0.5860221294
            ],
            "passed_time": 3.653603501,
            "remaining_time": 96.44512256,
            "test": [
             0.7407183038,
             0.6847812179
            ]
           },
           {
            "iteration": 365,
            "learn": [
             0.7692130164,
             0.5859120886
            ],
            "passed_time": 3.661743021,
            "remaining_time": 96.38588049,
            "test": [
             0.7408048464,
             0.6848126572
            ]
           },
           {
            "iteration": 366,
            "learn": [
             0.7689822294,
             0.5857204611
            ],
            "passed_time": 3.670186126,
            "remaining_time": 96.33488542,
            "test": [
             0.7403721333,
             0.6848962418
            ]
           },
           {
            "iteration": 367,
            "learn": [
             0.7688668359,
             0.5856335215
            ],
            "passed_time": 3.678346878,
            "remaining_time": 96.27673133,
            "test": [
             0.7403721333,
             0.684883945
            ]
           },
           {
            "iteration": 368,
            "learn": [
             0.7690399261,
             0.5851406764
            ],
            "passed_time": 3.68755323,
            "remaining_time": 96.24613863,
            "test": [
             0.7400259628,
             0.6846743918
            ]
           },
           {
            "iteration": 369,
            "learn": [
             0.7690399261,
             0.5848245275
            ],
            "passed_time": 3.705813424,
            "remaining_time": 96.45130615,
            "test": [
             0.7399394202,
             0.6848425753
            ]
           },
           {
            "iteration": 370,
            "learn": [
             0.7690976229,
             0.5846840044
            ],
            "passed_time": 3.714249913,
            "remaining_time": 96.40030299,
            "test": [
             0.7398528775,
             0.6847749216
            ]
           },
           {
            "iteration": 371,
            "learn": [
             0.7688668359,
             0.584558976
            ],
            "passed_time": 3.722471147,
            "remaining_time": 96.34395753,
            "test": [
             0.7398528775,
             0.684753962
            ]
           },
           {
            "iteration": 372,
            "learn": [
             0.7693284099,
             0.584169692
            ],
            "passed_time": 3.730803884,
            "remaining_time": 96.29074797,
            "test": [
             0.7399394202,
             0.6847135219
            ]
           },
           {
            "iteration": 373,
            "learn": [
             0.7692707131,
             0.5840573411
            ],
            "passed_time": 3.73886651,
            "remaining_time": 96.23082627,
            "test": [
             0.7397663349,
             0.6847479615
            ]
           },
           {
            "iteration": 374,
            "learn": [
             0.7692707131,
             0.5839823466
            ],
            "passed_time": 3.746968619,
            "remaining_time": 96.17219454,
            "test": [
             0.7398528775,
             0.6847794008
            ]
           },
           {
            "iteration": 375,
            "learn": [
             0.7692707131,
             0.5838815463
            ],
            "passed_time": 3.755165349,
            "remaining_time": 96.1162535,
            "test": [
             0.7397663349,
             0.6848155307
            ]
           },
           {
            "iteration": 376,
            "learn": [
             0.7694438034,
             0.5837762948
            ],
            "passed_time": 3.76349295,
            "remaining_time": 96.06390626,
            "test": [
             0.7397663349,
             0.6848238131
            ]
           },
           {
            "iteration": 377,
            "learn": [
             0.7695015001,
             0.5836069233
            ],
            "passed_time": 3.771925444,
            "remaining_time": 96.01446196,
            "test": [
             0.7398528775,
             0.6847562439
            ]
           },
           {
            "iteration": 378,
            "learn": [
             0.7697322871,
             0.5834541735
            ],
            "passed_time": 3.780123649,
            "remaining_time": 95.95928661,
            "test": [
             0.7398528775,
             0.6848257992
            ]
           },
           {
            "iteration": 379,
            "learn": [
             0.7697322871,
             0.583382954
            ],
            "passed_time": 3.788252941,
            "remaining_time": 95.90261392,
            "test": [
             0.7397663349,
             0.6848435049
            ]
           },
           {
            "iteration": 380,
            "learn": [
             0.7700207708,
             0.5831977497
            ],
            "passed_time": 3.796475429,
            "remaining_time": 95.84854895,
            "test": [
             0.7398528775,
             0.6849159759
            ]
           },
           {
            "iteration": 381,
            "learn": [
             0.7700207708,
             0.583133179
            ],
            "passed_time": 3.804613098,
            "remaining_time": 95.79258843,
            "test": [
             0.7398528775,
             0.684934569
            ]
           },
           {
            "iteration": 382,
            "learn": [
             0.7703092546,
             0.5829608775
            ],
            "passed_time": 3.812899502,
            "remaining_time": 95.74061231,
            "test": [
             0.7399394202,
             0.6849548525
            ]
           },
           {
            "iteration": 383,
            "learn": [
             0.7702515578,
             0.5828538794
            ],
            "passed_time": 3.821116832,
            "remaining_time": 95.687134,
            "test": [
             0.7398528775,
             0.6849782629
            ]
           },
           {
            "iteration": 384,
            "learn": [
             0.7701938611,
             0.5827376971
            ],
            "passed_time": 3.829335606,
            "remaining_time": 95.63392689,
            "test": [
             0.7398528775,
             0.6848844521
            ]
           },
           {
            "iteration": 385,
            "learn": [
             0.7701361643,
             0.5826672101
            ],
            "passed_time": 3.837382284,
            "remaining_time": 95.57666652,
            "test": [
             0.7397663349,
             0.6849278079
            ]
           },
           {
            "iteration": 386,
            "learn": [
             0.7701361643,
             0.5825144039
            ],
            "passed_time": 3.846410936,
            "remaining_time": 95.54405251,
            "test": [
             0.7397663349,
             0.684944415
            ]
           },
           {
            "iteration": 387,
            "learn": [
             0.7703092546,
             0.5824120823
            ],
            "passed_time": 3.855390842,
            "remaining_time": 95.51035251,
            "test": [
             0.7396797923,
             0.685073257
            ]
           },
           {
            "iteration": 388,
            "learn": [
             0.7703669513,
             0.5822761794
            ],
            "passed_time": 3.863769076,
            "remaining_time": 95.46191411,
            "test": [
             0.7398528775,
             0.6850762572
            ]
           },
           {
            "iteration": 389,
            "learn": [
             0.7703669513,
             0.5820974548
            ],
            "passed_time": 3.872259122,
            "remaining_time": 95.41643632,
            "test": [
             0.7398528775,
             0.684945894
            ]
           },
           {
            "iteration": 390,
            "learn": [
             0.7705977383,
             0.5819865125
            ],
            "passed_time": 3.880453366,
            "remaining_time": 95.36387823,
            "test": [
             0.7398528775,
             0.6849471194
            ]
           },
           {
            "iteration": 391,
            "learn": [
             0.7705977383,
             0.5818464401
            ],
            "passed_time": 3.888680486,
            "remaining_time": 95.31235232,
            "test": [
             0.7398528775,
             0.6849065103
            ]
           },
           {
            "iteration": 392,
            "learn": [
             0.7705400415,
             0.5817317228
            ],
            "passed_time": 3.896931003,
            "remaining_time": 95.2616187,
            "test": [
             0.7398528775,
             0.6849382454
            ]
           },
           {
            "iteration": 393,
            "learn": [
             0.7705977383,
             0.5816360498
            ],
            "passed_time": 3.905118085,
            "remaining_time": 95.20955413,
            "test": [
             0.7398528775,
             0.6848989885
            ]
           },
           {
            "iteration": 394,
            "learn": [
             0.7707131318,
             0.5814841451
            ],
            "passed_time": 3.913206079,
            "remaining_time": 95.15530226,
            "test": [
             0.7399394202,
             0.6850117728
            ]
           },
           {
            "iteration": 395,
            "learn": [
             0.7708285253,
             0.581367174
            ],
            "passed_time": 3.921623407,
            "remaining_time": 95.10927072,
            "test": [
             0.7397663349,
             0.6849812632
            ]
           },
           {
            "iteration": 396,
            "learn": [
             0.7707708285,
             0.5812419765
            ],
            "passed_time": 3.929957124,
            "remaining_time": 95.0614062,
            "test": [
             0.7399394202,
             0.6849482604
            ]
           },
           {
            "iteration": 397,
            "learn": [
             0.7710016155,
             0.5809555212
            ],
            "passed_time": 3.938797726,
            "remaining_time": 95.02596927,
            "test": [
             0.740199048,
             0.6846909566
            ]
           },
           {
            "iteration": 398,
            "learn": [
             0.7712324025,
             0.5807604566
            ],
            "passed_time": 3.947016277,
            "remaining_time": 94.97569743,
            "test": [
             0.740199048,
             0.6847387072
            ]
           },
           {
            "iteration": 399,
            "learn": [
             0.7715208862,
             0.5806269202
            ],
            "passed_time": 3.955152757,
            "remaining_time": 94.92366617,
            "test": [
             0.740199048,
             0.6847231566
            ]
           },
           {
            "iteration": 400,
            "learn": [
             0.771578583,
             0.5805476435
            ],
            "passed_time": 3.963556412,
            "remaining_time": 94.87824936,
            "test": [
             0.740199048,
             0.684681153
            ]
           },
           {
            "iteration": 401,
            "learn": [
             0.7714631895,
             0.5803166875
            ],
            "passed_time": 3.972147493,
            "remaining_time": 94.83749163,
            "test": [
             0.740199048,
             0.6845586918
            ]
           },
           {
            "iteration": 402,
            "learn": [
             0.7714631895,
             0.5801950961
            ],
            "passed_time": 3.980470824,
            "remaining_time": 94.79051735,
            "test": [
             0.7403721333,
             0.6844677544
            ]
           },
           {
            "iteration": 403,
            "learn": [
             0.7714054927,
             0.5800518121
            ],
            "passed_time": 3.988944961,
            "remaining_time": 94.74731644,
            "test": [
             0.7402855907,
             0.684500715
            ]
           },
           {
            "iteration": 404,
            "learn": [
             0.7714054927,
             0.5799763669
            ],
            "passed_time": 4.006008779,
            "remaining_time": 94.90778824,
            "test": [
             0.7402855907,
             0.6845171108
            ]
           },
           {
            "iteration": 405,
            "learn": [
             0.7714631895,
             0.5799089225
            ],
            "passed_time": 4.014219819,
            "remaining_time": 94.85818951,
            "test": [
             0.7403721333,
             0.6845014756
            ]
           },
           {
            "iteration": 406,
            "learn": [
             0.7715208862,
             0.5797863169
            ],
            "passed_time": 4.029809068,
            "remaining_time": 94.98269874,
            "test": [
             0.7405452185,
             0.6846062311
            ]
           },
           {
            "iteration": 407,
            "learn": [
             0.771578583,
             0.5796656271
            ],
            "passed_time": 4.038296161,
            "remaining_time": 94.93955093,
            "test": [
             0.7403721333,
             0.6845837503
            ]
           },
           {
            "iteration": 408,
            "learn": [
             0.7716362797,
             0.5795434159
            ],
            "passed_time": 4.0467767,
            "remaining_time": 94.8964189,
            "test": [
             0.7402855907,
             0.6845946526
            ]
           },
           {
            "iteration": 409,
            "learn": [
             0.771578583,
             0.5794294874
            ],
            "passed_time": 4.055411498,
            "remaining_time": 94.85706406,
            "test": [
             0.7401125054,
             0.6846376704
            ]
           },
           {
            "iteration": 410,
            "learn": [
             0.7716362797,
             0.5793238415
            ],
            "passed_time": 4.06410606,
            "remaining_time": 94.81925306,
            "test": [
             0.7401125054,
             0.6846968304
            ]
           },
           {
            "iteration": 411,
            "learn": [
             0.7716362797,
             0.5792329578
            ],
            "passed_time": 4.072443388,
            "remaining_time": 94.77326992,
            "test": [
             0.740199048,
             0.6846677997
            ]
           },
           {
            "iteration": 412,
            "learn": [
             0.7716939765,
             0.579151033
            ],
            "passed_time": 4.080784945,
            "remaining_time": 94.72756724,
            "test": [
             0.7402855907,
             0.6846841955
            ]
           },
           {
            "iteration": 413,
            "learn": [
             0.7717516732,
             0.5790789684
            ],
            "passed_time": 4.089033301,
            "remaining_time": 94.67988701,
            "test": [
             0.7403721333,
             0.6846770118
            ]
           },
           {
            "iteration": 414,
            "learn": [
             0.7716362797,
             0.5789718575
            ],
            "passed_time": 4.097664318,
            "remaining_time": 94.64123492,
            "test": [
             0.7402855907,
             0.6846814488
            ]
           },
           {
            "iteration": 415,
            "learn": [
             0.77180937,
             0.5787170114
            ],
            "passed_time": 4.10716404,
            "remaining_time": 94.62274076,
            "test": [
             0.7402855907,
             0.6846843645
            ]
           },
           {
            "iteration": 416,
            "learn": [
             0.77180937,
             0.5786377348
            ],
            "passed_time": 4.115504997,
            "remaining_time": 94.5776604,
            "test": [
             0.7402855907,
             0.6846949288
            ]
           },
           {
            "iteration": 417,
            "learn": [
             0.7719247634,
             0.5785332157
            ],
            "passed_time": 4.124100804,
            "remaining_time": 94.53859785,
            "test": [
             0.7404586759,
             0.6847064227
            ]
           },
           {
            "iteration": 418,
            "learn": [
             0.77180937,
             0.5783402923
            ],
            "passed_time": 4.132925072,
            "remaining_time": 94.5049048,
            "test": [
             0.7405452185,
             0.684725861
            ]
           },
           {
            "iteration": 419,
            "learn": [
             0.7717516732,
             0.5782410133
            ],
            "passed_time": 4.141160655,
            "remaining_time": 94.45790256,
            "test": [
             0.7406317611,
             0.6847127613
            ]
           },
           {
            "iteration": 420,
            "learn": [
             0.7717516732,
             0.5781439881
            ],
            "passed_time": 4.149415545,
            "remaining_time": 94.41152376,
            "test": [
             0.7406317611,
             0.684777457
            ]
           },
           {
            "iteration": 421,
            "learn": [
             0.77180937,
             0.5780337783
            ],
            "passed_time": 4.15783117,
            "remaining_time": 94.3689738,
            "test": [
             0.7406317611,
             0.6848078821
            ]
           },
           {
            "iteration": 422,
            "learn": [
             0.7717516732,
             0.5779048058
            ],
            "passed_time": 4.171156821,
            "remaining_time": 94.43775149,
            "test": [
             0.7408048464,
             0.6849223145
            ]
           },
           {
            "iteration": 423,
            "learn": [
             0.7716939765,
             0.5778481232
            ],
            "passed_time": 4.179774865,
            "remaining_time": 94.399821,
            "test": [
             0.7407183038,
             0.6849219764
            ]
           },
           {
            "iteration": 424,
            "learn": [
             0.7716939765,
             0.5777470412
            ],
            "passed_time": 4.188130847,
            "remaining_time": 94.35612437,
            "test": [
             0.7406317611,
             0.6850034482
            ]
           },
           {
            "iteration": 425,
            "learn": [
             0.77180937,
             0.5775856707
            ],
            "passed_time": 4.198615785,
            "remaining_time": 94.36044021,
            "test": [
             0.7406317611,
             0.6850226752
            ]
           },
           {
            "iteration": 426,
            "learn": [
             0.7718670667,
             0.5774049176
            ],
            "passed_time": 4.207243426,
            "remaining_time": 94.32304757,
            "test": [
             0.740891389,
             0.6849434853
            ]
           },
           {
            "iteration": 427,
            "learn": [
             0.7718670667,
             0.5773520664
            ],
            "passed_time": 4.2159445,
            "remaining_time": 94.28743168,
            "test": [
             0.7409779316,
             0.6849469926
            ]
           },
           {
            "iteration": 428,
            "learn": [
             0.7718670667,
             0.5771912593
            ],
            "passed_time": 4.225116467,
            "remaining_time": 94.26244688,
            "test": [
             0.7407183038,
             0.6849252725
            ]
           },
           {
            "iteration": 429,
            "learn": [
             0.7719247634,
             0.5770653857
            ],
            "passed_time": 4.233899534,
            "remaining_time": 94.22888033,
            "test": [
             0.7408048464,
             0.6849148772
            ]
           },
           {
            "iteration": 430,
            "learn": [
             0.7719247634,
             0.5769403573
            ],
            "passed_time": 4.244380446,
            "remaining_time": 94.2331241,
            "test": [
             0.7407183038,
             0.6849380341
            ]
           },
           {
            "iteration": 431,
            "learn": [
             0.7720401569,
             0.5767999469
            ],
            "passed_time": 4.253063999,
            "remaining_time": 94.19749154,
            "test": [
             0.7408048464,
             0.6849810519
            ]
           },
           {
            "iteration": 432,
            "learn": [
             0.7719824602,
             0.5766832575
            ],
            "passed_time": 4.261555926,
            "remaining_time": 94.15774953,
            "test": [
             0.740891389,
             0.6850511565
            ]
           },
           {
            "iteration": 433,
            "learn": [
             0.7717516732,
             0.5764569217
            ],
            "passed_time": 4.27034588,
            "remaining_time": 94.12472049,
            "test": [
             0.740891389,
             0.685020013
            ]
           },
           {
            "iteration": 434,
            "learn": [
             0.771578583,
             0.5763316116
            ],
            "passed_time": 4.278940168,
            "remaining_time": 94.08750048,
            "test": [
             0.7408048464,
             0.6850544103
            ]
           },
           {
            "iteration": 435,
            "learn": [
             0.7717516732,
             0.5761739034
            ],
            "passed_time": 4.28735003,
            "remaining_time": 94.04636624,
            "test": [
             0.7408048464,
             0.6850773137
            ]
           },
           {
            "iteration": 436,
            "learn": [
             0.7716939765,
             0.5760697788
            ],
            "passed_time": 4.296608489,
            "remaining_time": 94.0239519,
            "test": [
             0.7408048464,
             0.68511188
            ]
           },
           {
            "iteration": 437,
            "learn": [
             0.7714631895,
             0.5759458773
            ],
            "passed_time": 4.305235953,
            "remaining_time": 93.98782233,
            "test": [
             0.7408048464,
             0.6851991833
            ]
           },
           {
            "iteration": 438,
            "learn": [
             0.771578583,
             0.5757957193
            ],
            "passed_time": 4.313262883,
            "remaining_time": 93.93873901,
            "test": [
             0.7408048464,
             0.6852574136
            ]
           },
           {
            "iteration": 439,
            "learn": [
             0.7716362797,
             0.575587132
            ],
            "passed_time": 4.321499275,
            "remaining_time": 93.89439333,
            "test": [
             0.7405452185,
             0.6852086066
            ]
           },
           {
            "iteration": 440,
            "learn": [
             0.7716362797,
             0.5754703299
            ],
            "passed_time": 4.329761744,
            "remaining_time": 93.85077667,
            "test": [
             0.7407183038,
             0.6852390317
            ]
           },
           {
            "iteration": 441,
            "learn": [
             0.7716362797,
             0.5754187184
            ],
            "passed_time": 4.338151185,
            "remaining_time": 93.81006566,
            "test": [
             0.7406317611,
             0.6852752038
            ]
           },
           {
            "iteration": 442,
            "learn": [
             0.7719824602,
             0.5751012172
            ],
            "passed_time": 4.34699375,
            "remaining_time": 93.779276,
            "test": [
             0.7404586759,
             0.6853437449
            ]
           },
           {
            "iteration": 443,
            "learn": [
             0.7719824602,
             0.57502611
            ],
            "passed_time": 4.35615064,
            "remaining_time": 93.75535027,
            "test": [
             0.7403721333,
             0.6853729869
            ]
           },
           {
            "iteration": 444,
            "learn": [
             0.7720401569,
             0.5748536959
            ],
            "passed_time": 4.364555463,
            "remaining_time": 93.71534258,
            "test": [
             0.7402855907,
             0.6853093476
            ]
           },
           {
            "iteration": 445,
            "learn": [
             0.7722132472,
             0.5747415704
            ],
            "passed_time": 4.372769735,
            "remaining_time": 93.67139473,
            "test": [
             0.740199048,
             0.6852776125
            ]
           },
           {
            "iteration": 446,
            "learn": [
             0.7721555504,
             0.5746072452
            ],
            "passed_time": 4.380965025,
            "remaining_time": 93.62720109,
            "test": [
             0.7401125054,
             0.6852974311
            ]
           },
           {
            "iteration": 447,
            "learn": [
             0.7722709439,
             0.5744661586
            ],
            "passed_time": 4.389235449,
            "remaining_time": 93.5847701,
            "test": [
             0.7401125054,
             0.6853112492
            ]
           },
           {
            "iteration": 448,
            "learn": [
             0.7723286407,
             0.5743841774
            ],
            "passed_time": 4.397369773,
            "remaining_time": 93.53959621,
            "test": [
             0.7401125054,
             0.685326504
            ]
           },
           {
            "iteration": 449,
            "learn": [
             0.7722709439,
             0.5742918851
            ],
            "passed_time": 4.406186385,
            "remaining_time": 93.50906661,
            "test": [
             0.7401125054,
             0.6853522809
            ]
           },
           {
            "iteration": 450,
            "learn": [
             0.7723286407,
             0.5742235393
            ],
            "passed_time": 4.414305475,
            "remaining_time": 93.4638647,
            "test": [
             0.7401125054,
             0.6854079335
            ]
           },
           {
            "iteration": 451,
            "learn": [
             0.7722709439,
             0.5741515874
            ],
            "passed_time": 4.422571485,
            "remaining_time": 93.42193039,
            "test": [
             0.7401125054,
             0.6854603324
            ]
           },
           {
            "iteration": 452,
            "learn": [
             0.7723863374,
             0.5739840752
            ],
            "passed_time": 4.4311818,
            "remaining_time": 93.38740098,
            "test": [
             0.7401125054,
             0.6854634594
            ]
           },
           {
            "iteration": 453,
            "learn": [
             0.7723863374,
             0.5738960088
            ],
            "passed_time": 4.439308648,
            "remaining_time": 93.34282016,
            "test": [
             0.7401125054,
             0.6854688683
            ]
           },
           {
            "iteration": 454,
            "learn": [
             0.7722709439,
             0.573743766
            ],
            "passed_time": 4.44802439,
            "remaining_time": 93.31075342,
            "test": [
             0.7402855907,
             0.6855007725
            ]
           },
           {
            "iteration": 455,
            "learn": [
             0.7725017309,
             0.5735150075
            ],
            "passed_time": 4.457046202,
            "remaining_time": 93.28519507,
            "test": [
             0.7403721333,
             0.6853586617
            ]
           },
           {
            "iteration": 456,
            "learn": [
             0.7725017309,
             0.5734593955
            ],
            "passed_time": 4.465144174,
            "remaining_time": 93.24041763,
            "test": [
             0.7403721333,
             0.6853690147
            ]
           },
           {
            "iteration": 457,
            "learn": [
             0.7725594276,
             0.5733270986
            ],
            "passed_time": 4.473334338,
            "remaining_time": 93.19772109,
            "test": [
             0.7403721333,
             0.6853658877
            ]
           },
           {
            "iteration": 458,
            "learn": [
             0.7727902146,
             0.5731687143
            ],
            "passed_time": 4.484088196,
            "remaining_time": 93.2084651,
            "test": [
             0.7404586759,
             0.6853494074
            ]
           },
           {
            "iteration": 459,
            "learn": [
             0.7727902146,
             0.5730590679
            ],
            "passed_time": 4.501464687,
            "remaining_time": 93.35646329,
            "test": [
             0.7404586759,
             0.6853483087
            ]
           },
           {
            "iteration": 460,
            "learn": [
             0.7728479114,
             0.5729631133
            ],
            "passed_time": 4.509660975,
            "remaining_time": 93.31378751,
            "test": [
             0.7404586759,
             0.6853208838
            ]
           },
           {
            "iteration": 461,
            "learn": [
             0.7730210016,
             0.5728121664
            ],
            "passed_time": 4.519321725,
            "remaining_time": 93.30149484,
            "test": [
             0.7404586759,
             0.6853688879
            ]
           },
           {
            "iteration": 462,
            "learn": [
             0.7730786984,
             0.5726988577
            ],
            "passed_time": 4.527632357,
            "remaining_time": 93.26140344,
            "test": [
             0.7404586759,
             0.6854114409
            ]
           },
           {
            "iteration": 463,
            "learn": [
             0.7730786984,
             0.5725832388
            ],
            "passed_time": 4.536052202,
            "remaining_time": 93.22369352,
            "test": [
             0.7403721333,
             0.6854116944
            ]
           },
           {
            "iteration": 464,
            "learn": [
             0.7730210016,
             0.5724917917
            ],
            "passed_time": 4.5444847,
            "remaining_time": 93.18636907,
            "test": [
             0.7403721333,
             0.6854140186
            ]
           },
           {
            "iteration": 465,
            "learn": [
             0.7730786984,
             0.5724356163
            ],
            "passed_time": 4.552531562,
            "remaining_time": 93.14127879,
            "test": [
             0.7403721333,
             0.6854626565
            ]
           },
           {
            "iteration": 466,
            "learn": [
             0.7732517886,
             0.5722630895
            ],
            "passed_time": 4.560929335,
            "remaining_time": 93.10351038,
            "test": [
             0.7402855907,
             0.6855515233
            ]
           },
           {
            "iteration": 467,
            "learn": [
             0.7734825756,
             0.5721547391
            ],
            "passed_time": 4.576778509,
            "remaining_time": 93.21763407,
            "test": [
             0.7402855907,
             0.6855691868
            ]
           },
           {
            "iteration": 468,
            "learn": [
             0.7735402723,
             0.572078505
            ],
            "passed_time": 4.601028945,
            "remaining_time": 93.50193364,
            "test": [
             0.7402855907,
             0.685527648
            ]
           },
           {
            "iteration": 469,
            "learn": [
             0.7735402723,
             0.5719969182
            ],
            "passed_time": 4.620982638,
            "remaining_time": 93.69779689,
            "test": [
             0.7402855907,
             0.6855401561
            ]
           },
           {
            "iteration": 470,
            "learn": [
             0.7734825756,
             0.5719269383
            ],
            "passed_time": 4.642844964,
            "remaining_time": 93.93135809,
            "test": [
             0.7402855907,
             0.6855319582
            ]
           },
           {
            "iteration": 471,
            "learn": [
             0.7734825756,
             0.5718458023
            ],
            "passed_time": 4.654128834,
            "remaining_time": 93.95029562,
            "test": [
             0.740199048,
             0.6855737505
            ]
           },
           {
            "iteration": 472,
            "learn": [
             0.7734825756,
             0.5716896717
            ],
            "passed_time": 4.662584964,
            "remaining_time": 93.91215001,
            "test": [
             0.7402855907,
             0.6854822638
            ]
           },
           {
            "iteration": 473,
            "learn": [
             0.7734248788,
             0.5716289887
            ],
            "passed_time": 4.671075195,
            "remaining_time": 93.87481499,
            "test": [
             0.740199048,
             0.6855055053
            ]
           },
           {
            "iteration": 474,
            "learn": [
             0.7735402723,
             0.5715055943
            ],
            "passed_time": 4.67987826,
            "remaining_time": 93.84387459,
            "test": [
             0.7401125054,
             0.6855273099
            ]
           },
           {
            "iteration": 475,
            "learn": [
             0.7736556658,
             0.5714113864
            ],
            "passed_time": 4.688365918,
            "remaining_time": 93.80671638,
            "test": [
             0.7400259628,
             0.6855526642
            ]
           },
           {
            "iteration": 476,
            "learn": [
             0.7737710593,
             0.5713041065
            ],
            "passed_time": 4.696859273,
            "remaining_time": 93.76979215,
            "test": [
             0.7398528775,
             0.6855152667
            ]
           },
           {
            "iteration": 477,
            "learn": [
             0.7737710593,
             0.5711498353
            ],
            "passed_time": 4.70543798,
            "remaining_time": 93.73468712,
            "test": [
             0.7398528775,
             0.6854181175
            ]
           },
           {
            "iteration": 478,
            "learn": [
             0.7737710593,
             0.5708743108
            ],
            "passed_time": 4.714213741,
            "remaining_time": 93.70360965,
            "test": [
             0.7397663349,
             0.6853903968
            ]
           },
           {
            "iteration": 479,
            "learn": [
             0.7738864528,
             0.5707549732
            ],
            "passed_time": 4.722632462,
            "remaining_time": 93.66554382,
            "test": [
             0.7397663349,
             0.6854368374
            ]
           },
           {
            "iteration": 480,
            "learn": [
             0.7739441495,
             0.5706161967
            ],
            "passed_time": 4.731380939,
            "remaining_time": 93.63412716,
            "test": [
             0.7396797923,
             0.6854334568
            ]
           },
           {
            "iteration": 481,
            "learn": [
             0.7741172398,
             0.5704308797
            ],
            "passed_time": 4.740066535,
            "remaining_time": 93.60156282,
            "test": [
             0.7395932497,
             0.6855083365
            ]
           },
           {
            "iteration": 482,
            "learn": [
             0.77429033,
             0.5702022339
            ],
            "passed_time": 4.749105291,
            "remaining_time": 93.57605601,
            "test": [
             0.7395067071,
             0.6856207827
            ]
           },
           {
            "iteration": 483,
            "learn": [
             0.7744057235,
             0.5701456077
            ],
            "passed_time": 4.757661776,
            "remaining_time": 93.54113526,
            "test": [
             0.7395067071,
             0.6856307977
            ]
           },
           {
            "iteration": 484,
            "learn": [
             0.7744057235,
             0.5700363557
            ],
            "passed_time": 4.766163583,
            "remaining_time": 93.5052505,
            "test": [
             0.7395067071,
             0.6856875913
            ]
           },
           {
            "iteration": 485,
            "learn": [
             0.7743480268,
             0.5698947057
            ],
            "passed_time": 4.774570205,
            "remaining_time": 93.46761508,
            "test": [
             0.7394201644,
             0.6856687023
            ]
           },
           {
            "iteration": 486,
            "learn": [
             0.7744057235,
             0.5696976691
            ],
            "passed_time": 4.783336429,
            "remaining_time": 93.43712412,
            "test": [
             0.7394201644,
             0.6856441509
            ]
           },
           {
            "iteration": 487,
            "learn": [
             0.7744634203,
             0.569623238
            ],
            "passed_time": 4.791925583,
            "remaining_time": 93.40327079,
            "test": [
             0.7394201644,
             0.685645968
            ]
           },
           {
            "iteration": 488,
            "learn": [
             0.774521117,
             0.5694791088
            ],
            "passed_time": 4.800579098,
            "remaining_time": 93.37077259,
            "test": [
             0.7394201644,
             0.6856010064
            ]
           },
           {
            "iteration": 489,
            "learn": [
             0.7745788138,
             0.5693833796
            ],
            "passed_time": 4.808991094,
            "remaining_time": 93.33368429,
            "test": [
             0.7394201644,
             0.6856449538
            ]
           },
           {
            "iteration": 490,
            "learn": [
             0.7743480268,
             0.5692103457
            ],
            "passed_time": 4.818367138,
            "remaining_time": 93.31538313,
            "test": [
             0.7393336218,
             0.6855109564
            ]
           },
           {
            "iteration": 491,
            "learn": [
             0.7744634203,
             0.5691549027
            ],
            "passed_time": 4.826828934,
            "remaining_time": 93.27945021,
            "test": [
             0.7393336218,
             0.6855154779
            ]
           },
           {
            "iteration": 492,
            "learn": [
             0.7744057235,
             0.5690592861
            ],
            "passed_time": 4.835555958,
            "remaining_time": 93.24874339,
            "test": [
             0.7392470792,
             0.6855859206
            ]
           },
           {
            "iteration": 493,
            "learn": [
             0.774521117,
             0.5689057474
            ],
            "passed_time": 4.844066374,
            "remaining_time": 93.21395739,
            "test": [
             0.7392470792,
             0.6855318737
            ]
           },
           {
            "iteration": 494,
            "learn": [
             0.774521117,
             0.5688164978
            ],
            "passed_time": 4.852626393,
            "remaining_time": 93.18023002,
            "test": [
             0.7392470792,
             0.6855812301
            ]
           },
           {
            "iteration": 495,
            "learn": [
             0.774521117,
             0.5687236984
            ],
            "passed_time": 4.861193032,
            "remaining_time": 93.14673099,
            "test": [
             0.7393336218,
             0.6855679191
            ]
           },
           {
            "iteration": 496,
            "learn": [
             0.7746942072,
             0.5685301551
            ],
            "passed_time": 4.869967277,
            "remaining_time": 93.11730187,
            "test": [
             0.7395067071,
             0.6854700515
            ]
           },
           {
            "iteration": 497,
            "learn": [
             0.7746942072,
             0.5684880094
            ],
            "passed_time": 4.878509263,
            "remaining_time": 93.08352412,
            "test": [
             0.7395067071,
             0.6854572476
            ]
           },
           {
            "iteration": 498,
            "learn": [
             0.7748672975,
             0.5682036952
            ],
            "passed_time": 4.886942299,
            "remaining_time": 93.04777311,
            "test": [
             0.7395067071,
             0.6853188555
            ]
           },
           {
            "iteration": 499,
            "learn": [
             0.7748672975,
             0.5681021061
            ],
            "passed_time": 4.895360374,
            "remaining_time": 93.01184711,
            "test": [
             0.7395067071,
             0.6853347442
            ]
           },
           {
            "iteration": 500,
            "learn": [
             0.7748096007,
             0.5680513397
            ],
            "passed_time": 4.903713789,
            "remaining_time": 92.97480495,
            "test": [
             0.7395067071,
             0.6853327581
            ]
           }
          ],
          "meta": {
           "iteration_count": 10000,
           "launch_mode": "Train",
           "learn_metrics": [
            {
             "best_value": "Max",
             "name": "Accuracy"
            },
            {
             "best_value": "Min",
             "name": "MultiClass"
            }
           ],
           "learn_sets": [
            "learn"
           ],
           "name": "experiment",
           "parameters": "",
           "test_metrics": [
            {
             "best_value": "Max",
             "name": "Accuracy"
            },
            {
             "best_value": "Min",
             "name": "MultiClass"
            }
           ],
           "test_sets": [
            "test"
           ]
          }
         },
         "passed_iterations": 500,
         "total_iterations": 10000
        },
        "name": "catboost_info",
        "path": "catboost_info"
       }
      },
      "layout": "IPY_MODEL_d6d1e26569414c918d5cb032d9b3e5f0"
     }
    },
    "8b50fcbd7b844e3e98526e2af17add0f": {
     "model_module": "@jupyter-widgets/base",
     "model_module_version": "1.2.0",
     "model_name": "LayoutModel",
     "state": {
      "_model_module": "@jupyter-widgets/base",
      "_model_module_version": "1.2.0",
      "_model_name": "LayoutModel",
      "_view_count": null,
      "_view_module": "@jupyter-widgets/base",
      "_view_module_version": "1.2.0",
      "_view_name": "LayoutView",
      "align_content": null,
      "align_items": null,
      "align_self": null,
      "border": null,
      "bottom": null,
      "display": null,
      "flex": null,
      "flex_flow": null,
      "grid_area": null,
      "grid_auto_columns": null,
      "grid_auto_flow": null,
      "grid_auto_rows": null,
      "grid_column": null,
      "grid_gap": null,
      "grid_row": null,
      "grid_template_areas": null,
      "grid_template_columns": null,
      "grid_template_rows": null,
      "height": null,
      "justify_content": null,
      "justify_items": null,
      "left": null,
      "margin": null,
      "max_height": null,
      "max_width": null,
      "min_height": null,
      "min_width": null,
      "object_fit": null,
      "object_position": null,
      "order": null,
      "overflow": null,
      "overflow_x": null,
      "overflow_y": null,
      "padding": null,
      "right": null,
      "top": null,
      "visibility": null,
      "width": null
     }
    },
    "910ccaf2d6914ac8b570c667300348eb": {
     "model_module": "@jupyter-widgets/base",
     "model_module_version": "1.2.0",
     "model_name": "LayoutModel",
     "state": {
      "_model_module": "@jupyter-widgets/base",
      "_model_module_version": "1.2.0",
      "_model_name": "LayoutModel",
      "_view_count": null,
      "_view_module": "@jupyter-widgets/base",
      "_view_module_version": "1.2.0",
      "_view_name": "LayoutView",
      "align_content": null,
      "align_items": null,
      "align_self": null,
      "border": null,
      "bottom": null,
      "display": null,
      "flex": null,
      "flex_flow": null,
      "grid_area": null,
      "grid_auto_columns": null,
      "grid_auto_flow": null,
      "grid_auto_rows": null,
      "grid_column": null,
      "grid_gap": null,
      "grid_row": null,
      "grid_template_areas": null,
      "grid_template_columns": null,
      "grid_template_rows": null,
      "height": null,
      "justify_content": null,
      "justify_items": null,
      "left": null,
      "margin": null,
      "max_height": null,
      "max_width": null,
      "min_height": null,
      "min_width": null,
      "object_fit": null,
      "object_position": null,
      "order": null,
      "overflow": null,
      "overflow_x": null,
      "overflow_y": null,
      "padding": null,
      "right": null,
      "top": null,
      "visibility": null,
      "width": null
     }
    },
    "939f2ce028114440805b3f90cac6db1a": {
     "model_module": "@jupyter-widgets/controls",
     "model_module_version": "1.5.0",
     "model_name": "DescriptionStyleModel",
     "state": {
      "_model_module": "@jupyter-widgets/controls",
      "_model_module_version": "1.5.0",
      "_model_name": "DescriptionStyleModel",
      "_view_count": null,
      "_view_module": "@jupyter-widgets/base",
      "_view_module_version": "1.2.0",
      "_view_name": "StyleView",
      "description_width": ""
     }
    },
    "9a478e955ad54116ac22451ccfdcd7a1": {
     "model_module": "@jupyter-widgets/controls",
     "model_module_version": "1.5.0",
     "model_name": "DescriptionStyleModel",
     "state": {
      "_model_module": "@jupyter-widgets/controls",
      "_model_module_version": "1.5.0",
      "_model_name": "DescriptionStyleModel",
      "_view_count": null,
      "_view_module": "@jupyter-widgets/base",
      "_view_module_version": "1.2.0",
      "_view_name": "StyleView",
      "description_width": ""
     }
    },
    "a5310284602c46dead3d07de6485d206": {
     "model_module": "@jupyter-widgets/base",
     "model_module_version": "1.2.0",
     "model_name": "LayoutModel",
     "state": {
      "_model_module": "@jupyter-widgets/base",
      "_model_module_version": "1.2.0",
      "_model_name": "LayoutModel",
      "_view_count": null,
      "_view_module": "@jupyter-widgets/base",
      "_view_module_version": "1.2.0",
      "_view_name": "LayoutView",
      "align_content": null,
      "align_items": null,
      "align_self": null,
      "border": null,
      "bottom": null,
      "display": null,
      "flex": null,
      "flex_flow": null,
      "grid_area": null,
      "grid_auto_columns": null,
      "grid_auto_flow": null,
      "grid_auto_rows": null,
      "grid_column": null,
      "grid_gap": null,
      "grid_row": null,
      "grid_template_areas": null,
      "grid_template_columns": null,
      "grid_template_rows": null,
      "height": null,
      "justify_content": null,
      "justify_items": null,
      "left": null,
      "margin": null,
      "max_height": null,
      "max_width": null,
      "min_height": null,
      "min_width": null,
      "object_fit": null,
      "object_position": null,
      "order": null,
      "overflow": null,
      "overflow_x": null,
      "overflow_y": null,
      "padding": null,
      "right": null,
      "top": null,
      "visibility": null,
      "width": null
     }
    },
    "a8440965b010445a84167d0ad9ff5928": {
     "model_module": "@jupyter-widgets/base",
     "model_module_version": "1.2.0",
     "model_name": "LayoutModel",
     "state": {
      "_model_module": "@jupyter-widgets/base",
      "_model_module_version": "1.2.0",
      "_model_name": "LayoutModel",
      "_view_count": null,
      "_view_module": "@jupyter-widgets/base",
      "_view_module_version": "1.2.0",
      "_view_name": "LayoutView",
      "align_content": null,
      "align_items": null,
      "align_self": null,
      "border": null,
      "bottom": null,
      "display": null,
      "flex": null,
      "flex_flow": null,
      "grid_area": null,
      "grid_auto_columns": null,
      "grid_auto_flow": null,
      "grid_auto_rows": null,
      "grid_column": null,
      "grid_gap": null,
      "grid_row": null,
      "grid_template_areas": null,
      "grid_template_columns": null,
      "grid_template_rows": null,
      "height": null,
      "justify_content": null,
      "justify_items": null,
      "left": null,
      "margin": null,
      "max_height": null,
      "max_width": null,
      "min_height": null,
      "min_width": null,
      "object_fit": null,
      "object_position": null,
      "order": null,
      "overflow": null,
      "overflow_x": null,
      "overflow_y": null,
      "padding": null,
      "right": null,
      "top": null,
      "visibility": null,
      "width": null
     }
    },
    "abda463788cc40668096a8ea8429b152": {
     "model_module": "@jupyter-widgets/controls",
     "model_module_version": "1.5.0",
     "model_name": "HTMLModel",
     "state": {
      "_dom_classes": [],
      "_model_module": "@jupyter-widgets/controls",
      "_model_module_version": "1.5.0",
      "_model_name": "HTMLModel",
      "_view_count": null,
      "_view_module": "@jupyter-widgets/controls",
      "_view_module_version": "1.5.0",
      "_view_name": "HTMLView",
      "description": "",
      "description_tooltip": null,
      "layout": "IPY_MODEL_c05fd269695c46b59184346a5504d611",
      "placeholder": "​",
      "style": "IPY_MODEL_939f2ce028114440805b3f90cac6db1a",
      "value": " 1.71G/1.71G [00:44&lt;00:00, 64.8MB/s]"
     }
    },
    "ac17a3c4be05474b8ed15a2e8ed1ff57": {
     "model_module": "@jupyter-widgets/controls",
     "model_module_version": "1.5.0",
     "model_name": "DescriptionStyleModel",
     "state": {
      "_model_module": "@jupyter-widgets/controls",
      "_model_module_version": "1.5.0",
      "_model_name": "DescriptionStyleModel",
      "_view_count": null,
      "_view_module": "@jupyter-widgets/base",
      "_view_module_version": "1.2.0",
      "_view_name": "StyleView",
      "description_width": ""
     }
    },
    "acbfb7d93b6149eb8272aa0864ac52d1": {
     "model_module": "@jupyter-widgets/controls",
     "model_module_version": "1.5.0",
     "model_name": "FloatProgressModel",
     "state": {
      "_dom_classes": [],
      "_model_module": "@jupyter-widgets/controls",
      "_model_module_version": "1.5.0",
      "_model_name": "FloatProgressModel",
      "_view_count": null,
      "_view_module": "@jupyter-widgets/controls",
      "_view_module_version": "1.5.0",
      "_view_name": "ProgressView",
      "bar_style": "success",
      "description": "",
      "description_tooltip": null,
      "layout": "IPY_MODEL_24f9b0b8806b49ce81cd0c950376ce5c",
      "max": 323,
      "min": 0,
      "orientation": "horizontal",
      "style": "IPY_MODEL_6e78ea8c33994adca18a310db69adf22",
      "value": 323
     }
    },
    "b170f8c9f2f4441e8e54bd020b9518e6": {
     "model_module": "@jupyter-widgets/base",
     "model_module_version": "1.2.0",
     "model_name": "LayoutModel",
     "state": {
      "_model_module": "@jupyter-widgets/base",
      "_model_module_version": "1.2.0",
      "_model_name": "LayoutModel",
      "_view_count": null,
      "_view_module": "@jupyter-widgets/base",
      "_view_module_version": "1.2.0",
      "_view_name": "LayoutView",
      "align_content": null,
      "align_items": null,
      "align_self": null,
      "border": null,
      "bottom": null,
      "display": null,
      "flex": null,
      "flex_flow": null,
      "grid_area": null,
      "grid_auto_columns": null,
      "grid_auto_flow": null,
      "grid_auto_rows": null,
      "grid_column": null,
      "grid_gap": null,
      "grid_row": null,
      "grid_template_areas": null,
      "grid_template_columns": null,
      "grid_template_rows": null,
      "height": null,
      "justify_content": null,
      "justify_items": null,
      "left": null,
      "margin": null,
      "max_height": null,
      "max_width": null,
      "min_height": null,
      "min_width": null,
      "object_fit": null,
      "object_position": null,
      "order": null,
      "overflow": null,
      "overflow_x": null,
      "overflow_y": null,
      "padding": null,
      "right": null,
      "top": null,
      "visibility": null,
      "width": null
     }
    },
    "b549349d5fe443b7b4a5c530de0229a9": {
     "model_module": "@jupyter-widgets/base",
     "model_module_version": "1.2.0",
     "model_name": "LayoutModel",
     "state": {
      "_model_module": "@jupyter-widgets/base",
      "_model_module_version": "1.2.0",
      "_model_name": "LayoutModel",
      "_view_count": null,
      "_view_module": "@jupyter-widgets/base",
      "_view_module_version": "1.2.0",
      "_view_name": "LayoutView",
      "align_content": null,
      "align_items": null,
      "align_self": null,
      "border": null,
      "bottom": null,
      "display": null,
      "flex": null,
      "flex_flow": null,
      "grid_area": null,
      "grid_auto_columns": null,
      "grid_auto_flow": null,
      "grid_auto_rows": null,
      "grid_column": null,
      "grid_gap": null,
      "grid_row": null,
      "grid_template_areas": null,
      "grid_template_columns": null,
      "grid_template_rows": null,
      "height": null,
      "justify_content": null,
      "justify_items": null,
      "left": null,
      "margin": null,
      "max_height": null,
      "max_width": null,
      "min_height": null,
      "min_width": null,
      "object_fit": null,
      "object_position": null,
      "order": null,
      "overflow": null,
      "overflow_x": null,
      "overflow_y": null,
      "padding": null,
      "right": null,
      "top": null,
      "visibility": null,
      "width": null
     }
    },
    "b93f4da2039b44929e98affb8da16747": {
     "model_module": "@jupyter-widgets/controls",
     "model_module_version": "1.5.0",
     "model_name": "FloatProgressModel",
     "state": {
      "_dom_classes": [],
      "_model_module": "@jupyter-widgets/controls",
      "_model_module_version": "1.5.0",
      "_model_name": "FloatProgressModel",
      "_view_count": null,
      "_view_module": "@jupyter-widgets/controls",
      "_view_module_version": "1.5.0",
      "_view_name": "ProgressView",
      "bar_style": "success",
      "description": "",
      "description_tooltip": null,
      "layout": "IPY_MODEL_8b50fcbd7b844e3e98526e2af17add0f",
      "max": 655,
      "min": 0,
      "orientation": "horizontal",
      "style": "IPY_MODEL_14f6ecc78e04446585c333fd256a03e2",
      "value": 655
     }
    },
    "c05fd269695c46b59184346a5504d611": {
     "model_module": "@jupyter-widgets/base",
     "model_module_version": "1.2.0",
     "model_name": "LayoutModel",
     "state": {
      "_model_module": "@jupyter-widgets/base",
      "_model_module_version": "1.2.0",
      "_model_name": "LayoutModel",
      "_view_count": null,
      "_view_module": "@jupyter-widgets/base",
      "_view_module_version": "1.2.0",
      "_view_name": "LayoutView",
      "align_content": null,
      "align_items": null,
      "align_self": null,
      "border": null,
      "bottom": null,
      "display": null,
      "flex": null,
      "flex_flow": null,
      "grid_area": null,
      "grid_auto_columns": null,
      "grid_auto_flow": null,
      "grid_auto_rows": null,
      "grid_column": null,
      "grid_gap": null,
      "grid_row": null,
      "grid_template_areas": null,
      "grid_template_columns": null,
      "grid_template_rows": null,
      "height": null,
      "justify_content": null,
      "justify_items": null,
      "left": null,
      "margin": null,
      "max_height": null,
      "max_width": null,
      "min_height": null,
      "min_width": null,
      "object_fit": null,
      "object_position": null,
      "order": null,
      "overflow": null,
      "overflow_x": null,
      "overflow_y": null,
      "padding": null,
      "right": null,
      "top": null,
      "visibility": null,
      "width": null
     }
    },
    "c3e9c49c43134f5bb6d4aaba3b944e56": {
     "model_module": "@jupyter-widgets/controls",
     "model_module_version": "1.5.0",
     "model_name": "FloatProgressModel",
     "state": {
      "_dom_classes": [],
      "_model_module": "@jupyter-widgets/controls",
      "_model_module_version": "1.5.0",
      "_model_name": "FloatProgressModel",
      "_view_count": null,
      "_view_module": "@jupyter-widgets/controls",
      "_view_module_version": "1.5.0",
      "_view_name": "ProgressView",
      "bar_style": "success",
      "description": "",
      "description_tooltip": null,
      "layout": "IPY_MODEL_eb922e312481472ba755d63c70a74c0f",
      "max": 112,
      "min": 0,
      "orientation": "horizontal",
      "style": "IPY_MODEL_d11c0f43b1304b6db5a4e867daa3f249",
      "value": 112
     }
    },
    "c7e16c151e8b4b41983751dbece2b4bd": {
     "model_module": "@jupyter-widgets/controls",
     "model_module_version": "1.5.0",
     "model_name": "DescriptionStyleModel",
     "state": {
      "_model_module": "@jupyter-widgets/controls",
      "_model_module_version": "1.5.0",
      "_model_name": "DescriptionStyleModel",
      "_view_count": null,
      "_view_module": "@jupyter-widgets/base",
      "_view_module_version": "1.2.0",
      "_view_name": "StyleView",
      "description_width": ""
     }
    },
    "ca5b992491d94668ba948fd4ca599f30": {
     "model_module": "@jupyter-widgets/base",
     "model_module_version": "1.2.0",
     "model_name": "LayoutModel",
     "state": {
      "_model_module": "@jupyter-widgets/base",
      "_model_module_version": "1.2.0",
      "_model_name": "LayoutModel",
      "_view_count": null,
      "_view_module": "@jupyter-widgets/base",
      "_view_module_version": "1.2.0",
      "_view_name": "LayoutView",
      "align_content": null,
      "align_items": null,
      "align_self": null,
      "border": null,
      "bottom": null,
      "display": null,
      "flex": null,
      "flex_flow": null,
      "grid_area": null,
      "grid_auto_columns": null,
      "grid_auto_flow": null,
      "grid_auto_rows": null,
      "grid_column": null,
      "grid_gap": null,
      "grid_row": null,
      "grid_template_areas": null,
      "grid_template_columns": null,
      "grid_template_rows": null,
      "height": null,
      "justify_content": null,
      "justify_items": null,
      "left": null,
      "margin": null,
      "max_height": null,
      "max_width": null,
      "min_height": null,
      "min_width": null,
      "object_fit": null,
      "object_position": null,
      "order": null,
      "overflow": null,
      "overflow_x": null,
      "overflow_y": null,
      "padding": null,
      "right": null,
      "top": null,
      "visibility": null,
      "width": null
     }
    },
    "d11c0f43b1304b6db5a4e867daa3f249": {
     "model_module": "@jupyter-widgets/controls",
     "model_module_version": "1.5.0",
     "model_name": "ProgressStyleModel",
     "state": {
      "_model_module": "@jupyter-widgets/controls",
      "_model_module_version": "1.5.0",
      "_model_name": "ProgressStyleModel",
      "_view_count": null,
      "_view_module": "@jupyter-widgets/base",
      "_view_module_version": "1.2.0",
      "_view_name": "StyleView",
      "bar_color": null,
      "description_width": ""
     }
    },
    "d1b1f541e577492cbd9c0cb906b45c9c": {
     "model_module": "@jupyter-widgets/base",
     "model_module_version": "1.2.0",
     "model_name": "LayoutModel",
     "state": {
      "_model_module": "@jupyter-widgets/base",
      "_model_module_version": "1.2.0",
      "_model_name": "LayoutModel",
      "_view_count": null,
      "_view_module": "@jupyter-widgets/base",
      "_view_module_version": "1.2.0",
      "_view_name": "LayoutView",
      "align_content": null,
      "align_items": null,
      "align_self": null,
      "border": null,
      "bottom": null,
      "display": null,
      "flex": null,
      "flex_flow": null,
      "grid_area": null,
      "grid_auto_columns": null,
      "grid_auto_flow": null,
      "grid_auto_rows": null,
      "grid_column": null,
      "grid_gap": null,
      "grid_row": null,
      "grid_template_areas": null,
      "grid_template_columns": null,
      "grid_template_rows": null,
      "height": null,
      "justify_content": null,
      "justify_items": null,
      "left": null,
      "margin": null,
      "max_height": null,
      "max_width": null,
      "min_height": null,
      "min_width": null,
      "object_fit": null,
      "object_position": null,
      "order": null,
      "overflow": null,
      "overflow_x": null,
      "overflow_y": null,
      "padding": null,
      "right": null,
      "top": null,
      "visibility": null,
      "width": null
     }
    },
    "d1c45e1a833d4079b95ee858e31f17c9": {
     "model_module": "@jupyter-widgets/controls",
     "model_module_version": "1.5.0",
     "model_name": "HBoxModel",
     "state": {
      "_dom_classes": [],
      "_model_module": "@jupyter-widgets/controls",
      "_model_module_version": "1.5.0",
      "_model_name": "HBoxModel",
      "_view_count": null,
      "_view_module": "@jupyter-widgets/controls",
      "_view_module_version": "1.5.0",
      "_view_name": "HBoxView",
      "box_style": "",
      "children": [
       "IPY_MODEL_356d96a2725d46e9acafa2fd2ce207b4",
       "IPY_MODEL_acbfb7d93b6149eb8272aa0864ac52d1",
       "IPY_MODEL_1e4c328791484857b9abee9727e5efe1"
      ],
      "layout": "IPY_MODEL_0e98b2a4df1a45258f235b2bd3ad4df6"
     }
    },
    "d8150fed356e406cb7bd2ede2851fe61": {
     "model_module": "@jupyter-widgets/controls",
     "model_module_version": "1.5.0",
     "model_name": "HBoxModel",
     "state": {
      "_dom_classes": [],
      "_model_module": "@jupyter-widgets/controls",
      "_model_module_version": "1.5.0",
      "_model_name": "HBoxModel",
      "_view_count": null,
      "_view_module": "@jupyter-widgets/controls",
      "_view_module_version": "1.5.0",
      "_view_name": "HBoxView",
      "box_style": "",
      "children": [
       "IPY_MODEL_6d81c812d75b4d379657c1ccf60073ff",
       "IPY_MODEL_b93f4da2039b44929e98affb8da16747",
       "IPY_MODEL_6ed87226f99c4c4f95fd97fcc7af5dea"
      ],
      "layout": "IPY_MODEL_6a668284194640dc9053445fca741b6f"
     }
    },
    "d8d383135e9c4a66b0507ba1f04181cf": {
     "model_module": "@jupyter-widgets/base",
     "model_module_version": "1.2.0",
     "model_name": "LayoutModel",
     "state": {
      "_model_module": "@jupyter-widgets/base",
      "_model_module_version": "1.2.0",
      "_model_name": "LayoutModel",
      "_view_count": null,
      "_view_module": "@jupyter-widgets/base",
      "_view_module_version": "1.2.0",
      "_view_name": "LayoutView",
      "align_content": null,
      "align_items": null,
      "align_self": null,
      "border": null,
      "bottom": null,
      "display": null,
      "flex": null,
      "flex_flow": null,
      "grid_area": null,
      "grid_auto_columns": null,
      "grid_auto_flow": null,
      "grid_auto_rows": null,
      "grid_column": null,
      "grid_gap": null,
      "grid_row": null,
      "grid_template_areas": null,
      "grid_template_columns": null,
      "grid_template_rows": null,
      "height": null,
      "justify_content": null,
      "justify_items": null,
      "left": null,
      "margin": null,
      "max_height": null,
      "max_width": null,
      "min_height": null,
      "min_width": null,
      "object_fit": null,
      "object_position": null,
      "order": null,
      "overflow": null,
      "overflow_x": null,
      "overflow_y": null,
      "padding": null,
      "right": null,
      "top": null,
      "visibility": null,
      "width": null
     }
    },
    "da5965a3b00f4fde93890a203505f402": {
     "model_module": "@jupyter-widgets/controls",
     "model_module_version": "1.5.0",
     "model_name": "DescriptionStyleModel",
     "state": {
      "_model_module": "@jupyter-widgets/controls",
      "_model_module_version": "1.5.0",
      "_model_name": "DescriptionStyleModel",
      "_view_count": null,
      "_view_module": "@jupyter-widgets/base",
      "_view_module_version": "1.2.0",
      "_view_name": "StyleView",
      "description_width": ""
     }
    },
    "db7d65ec78864badb3dd4742d8ebfd40": {
     "model_module": "@jupyter-widgets/base",
     "model_module_version": "1.2.0",
     "model_name": "LayoutModel",
     "state": {
      "_model_module": "@jupyter-widgets/base",
      "_model_module_version": "1.2.0",
      "_model_name": "LayoutModel",
      "_view_count": null,
      "_view_module": "@jupyter-widgets/base",
      "_view_module_version": "1.2.0",
      "_view_name": "LayoutView",
      "align_content": null,
      "align_items": null,
      "align_self": null,
      "border": null,
      "bottom": null,
      "display": null,
      "flex": null,
      "flex_flow": null,
      "grid_area": null,
      "grid_auto_columns": null,
      "grid_auto_flow": null,
      "grid_auto_rows": null,
      "grid_column": null,
      "grid_gap": null,
      "grid_row": null,
      "grid_template_areas": null,
      "grid_template_columns": null,
      "grid_template_rows": null,
      "height": null,
      "justify_content": null,
      "justify_items": null,
      "left": null,
      "margin": null,
      "max_height": null,
      "max_width": null,
      "min_height": null,
      "min_width": null,
      "object_fit": null,
      "object_position": null,
      "order": null,
      "overflow": null,
      "overflow_x": null,
      "overflow_y": null,
      "padding": null,
      "right": null,
      "top": null,
      "visibility": null,
      "width": null
     }
    },
    "e98bc665135d4cb0bbea72db34875bd8": {
     "model_module": "@jupyter-widgets/controls",
     "model_module_version": "1.5.0",
     "model_name": "DescriptionStyleModel",
     "state": {
      "_model_module": "@jupyter-widgets/controls",
      "_model_module_version": "1.5.0",
      "_model_name": "DescriptionStyleModel",
      "_view_count": null,
      "_view_module": "@jupyter-widgets/base",
      "_view_module_version": "1.2.0",
      "_view_name": "StyleView",
      "description_width": ""
     }
    },
    "eb922e312481472ba755d63c70a74c0f": {
     "model_module": "@jupyter-widgets/base",
     "model_module_version": "1.2.0",
     "model_name": "LayoutModel",
     "state": {
      "_model_module": "@jupyter-widgets/base",
      "_model_module_version": "1.2.0",
      "_model_name": "LayoutModel",
      "_view_count": null,
      "_view_module": "@jupyter-widgets/base",
      "_view_module_version": "1.2.0",
      "_view_name": "LayoutView",
      "align_content": null,
      "align_items": null,
      "align_self": null,
      "border": null,
      "bottom": null,
      "display": null,
      "flex": null,
      "flex_flow": null,
      "grid_area": null,
      "grid_auto_columns": null,
      "grid_auto_flow": null,
      "grid_auto_rows": null,
      "grid_column": null,
      "grid_gap": null,
      "grid_row": null,
      "grid_template_areas": null,
      "grid_template_columns": null,
      "grid_template_rows": null,
      "height": null,
      "justify_content": null,
      "justify_items": null,
      "left": null,
      "margin": null,
      "max_height": null,
      "max_width": null,
      "min_height": null,
      "min_width": null,
      "object_fit": null,
      "object_position": null,
      "order": null,
      "overflow": null,
      "overflow_x": null,
      "overflow_y": null,
      "padding": null,
      "right": null,
      "top": null,
      "visibility": null,
      "width": null
     }
    },
    "f421558f55bd4bc1b4f445cd321017e1": {
     "model_module": "@jupyter-widgets/controls",
     "model_module_version": "1.5.0",
     "model_name": "HTMLModel",
     "state": {
      "_dom_classes": [],
      "_model_module": "@jupyter-widgets/controls",
      "_model_module_version": "1.5.0",
      "_model_name": "HTMLModel",
      "_view_count": null,
      "_view_module": "@jupyter-widgets/controls",
      "_view_module_version": "1.5.0",
      "_view_name": "HTMLView",
      "description": "",
      "description_tooltip": null,
      "layout": "IPY_MODEL_1aae0b315bc34772af77b847668ef23d",
      "placeholder": "​",
      "style": "IPY_MODEL_ac17a3c4be05474b8ed15a2e8ed1ff57",
      "value": "Downloading: 100%"
     }
    }
   }
  }
 },
 "nbformat": 4,
 "nbformat_minor": 1
}
